{
  "nbformat": 4,
  "nbformat_minor": 0,
  "metadata": {
    "kernelspec": {
      "name": "python3",
      "display_name": "Python 3"
    },
    "colab": {
      "name": "Sentiment analysis Amazon Reviews Polarity.ipynb",
      "provenance": [],
      "include_colab_link": true
    },
    "accelerator": "GPU"
  },
  "cells": [
    {
      "cell_type": "markdown",
      "metadata": {
        "id": "view-in-github",
        "colab_type": "text"
      },
      "source": [
        "<a href=\"https://colab.research.google.com/github/xia0405/Master-thesis-NLP/blob/master/Sentiment_analysis_Amazon_Reviews_Polarity.ipynb\" target=\"_parent\"><img src=\"https://colab.research.google.com/assets/colab-badge.svg\" alt=\"Open In Colab\"/></a>"
      ]
    },
    {
      "cell_type": "markdown",
      "metadata": {
        "id": "ol3HAth5Ehj0",
        "colab_type": "text"
      },
      "source": [
        "# AMAZON REVIEWS"
      ]
    },
    {
      "cell_type": "markdown",
      "metadata": {
        "id": "CkVSYA-A37bM",
        "colab_type": "text"
      },
      "source": [
        "This notebook will use pre-trained language model and fine tune on the Amazon dataset.   \n",
        "The notebook is provided by [Fastai github link](https://github.com/fastai/fastai/tree/master/courses/dl1).  \n",
        "Fastai is a free deep learning course provided by Jeremy Howard."
      ]
    },
    {
      "cell_type": "code",
      "metadata": {
        "id": "_Kts45exEhj1",
        "colab_type": "code",
        "colab": {}
      },
      "source": [
        "%reload_ext autoreload\n",
        "%autoreload 2\n",
        "%matplotlib inline"
      ],
      "execution_count": 0,
      "outputs": []
    },
    {
      "cell_type": "code",
      "metadata": {
        "id": "CgDQPlBh28uA",
        "colab_type": "code",
        "colab": {}
      },
      "source": [
        "import warnings\n",
        "warnings.filterwarnings(\"ignore\")"
      ],
      "execution_count": 0,
      "outputs": []
    },
    {
      "cell_type": "code",
      "metadata": {
        "id": "Hx03qT3fEhj5",
        "colab_type": "code",
        "colab": {}
      },
      "source": [
        "from fastai.text import *"
      ],
      "execution_count": 0,
      "outputs": []
    },
    {
      "cell_type": "markdown",
      "metadata": {
        "id": "Z6c_c5dFEhj8",
        "colab_type": "text"
      },
      "source": [
        "## Preparing the data"
      ]
    },
    {
      "cell_type": "markdown",
      "metadata": {
        "id": "A1y03G9cEhj8",
        "colab_type": "text"
      },
      "source": [
        "This dataset consists of a few million Amazon customer reviews (input text) and star ratings (output labels). \n",
        "\n",
        "[dataset](https://https://www.kaggle.com/bittlingmayer/amazonreviews/kernels)"
      ]
    },
    {
      "cell_type": "code",
      "metadata": {
        "id": "bFraejulGqIT",
        "colab_type": "code",
        "outputId": "03dd3e41-0e63-4e8d-f68b-14ddbcc645af",
        "colab": {
          "base_uri": "https://localhost:8080/",
          "height": 122
        }
      },
      "source": [
        "from google.colab import drive\n",
        "drive.mount('/content/drive')"
      ],
      "execution_count": 3,
      "outputs": [
        {
          "output_type": "stream",
          "text": [
            "Go to this URL in a browser: https://accounts.google.com/o/oauth2/auth?client_id=947318989803-6bn6qk8qdgf4n4g3pfee6491hc0brc4i.apps.googleusercontent.com&redirect_uri=urn%3aietf%3awg%3aoauth%3a2.0%3aoob&response_type=code&scope=email%20https%3a%2f%2fwww.googleapis.com%2fauth%2fdocs.test%20https%3a%2f%2fwww.googleapis.com%2fauth%2fdrive%20https%3a%2f%2fwww.googleapis.com%2fauth%2fdrive.photos.readonly%20https%3a%2f%2fwww.googleapis.com%2fauth%2fpeopleapi.readonly\n",
            "\n",
            "Enter your authorization code:\n",
            "··········\n",
            "Mounted at /content/drive\n"
          ],
          "name": "stdout"
        }
      ]
    },
    {
      "cell_type": "code",
      "metadata": {
        "id": "eXTXomqIEhj9",
        "colab_type": "code",
        "outputId": "42466b26-6d56-40c3-9e9f-669799145af5",
        "colab": {
          "base_uri": "https://localhost:8080/",
          "height": 170
        }
      },
      "source": [
        "#path = Path('/content/drive/My Drive/TextClassificationDatasets')\n",
        "path = Path('/content/drive/My Drive/data/amazon')\n",
        "path.mkdir(parents=True, exist_ok=True)\n",
        "path.ls()"
      ],
      "execution_count": 9,
      "outputs": [
        {
          "output_type": "execute_result",
          "data": {
            "text/plain": [
              "[PosixPath('/content/drive/My Drive/data/amazon/amazon_review_polarity_csv'),\n",
              " PosixPath('/content/drive/My Drive/data/amazon/smallSample_Amazon.csv'),\n",
              " PosixPath('/content/drive/My Drive/data/amazon/polarity_reviews.csv'),\n",
              " PosixPath('/content/drive/My Drive/data/amazon/train.csv'),\n",
              " PosixPath('/content/drive/My Drive/data/amazon/test.csv'),\n",
              " PosixPath('/content/drive/My Drive/data/amazon/accuracy_total.tsv'),\n",
              " PosixPath('/content/drive/My Drive/data/amazon/data_lm.pkl'),\n",
              " PosixPath('/content/drive/My Drive/data/amazon/models'),\n",
              " PosixPath('/content/drive/My Drive/data/amazon/data_clas.pkl')]"
            ]
          },
          "metadata": {
            "tags": []
          },
          "execution_count": 9
        }
      ]
    },
    {
      "cell_type": "code",
      "metadata": {
        "id": "TdMjKwL7EhkB",
        "colab_type": "code",
        "outputId": "4ea4cf4f-f5de-45d4-84a8-5d83e26419f4",
        "colab": {
          "base_uri": "https://localhost:8080/",
          "height": 204
        }
      },
      "source": [
        "train = pd.read_csv(path/\"train.csv\")\n",
        "test = pd.read_csv(path/\"test.csv\")\n",
        "train.head()"
      ],
      "execution_count": 10,
      "outputs": [
        {
          "output_type": "execute_result",
          "data": {
            "text/html": [
              "<div>\n",
              "<style scoped>\n",
              "    .dataframe tbody tr th:only-of-type {\n",
              "        vertical-align: middle;\n",
              "    }\n",
              "\n",
              "    .dataframe tbody tr th {\n",
              "        vertical-align: top;\n",
              "    }\n",
              "\n",
              "    .dataframe thead th {\n",
              "        text-align: right;\n",
              "    }\n",
              "</style>\n",
              "<table border=\"1\" class=\"dataframe\">\n",
              "  <thead>\n",
              "    <tr style=\"text-align: right;\">\n",
              "      <th></th>\n",
              "      <th>overall</th>\n",
              "      <th>reviewText</th>\n",
              "    </tr>\n",
              "  </thead>\n",
              "  <tbody>\n",
              "    <tr>\n",
              "      <th>0</th>\n",
              "      <td>0</td>\n",
              "      <td>Didn't like the fact the numbers were stitched...</td>\n",
              "    </tr>\n",
              "    <tr>\n",
              "      <th>1</th>\n",
              "      <td>0</td>\n",
              "      <td>While these did protect my carbon-soled shoes,...</td>\n",
              "    </tr>\n",
              "    <tr>\n",
              "      <th>2</th>\n",
              "      <td>0</td>\n",
              "      <td>Mine was another roller cut in half. I could h...</td>\n",
              "    </tr>\n",
              "    <tr>\n",
              "      <th>3</th>\n",
              "      <td>0</td>\n",
              "      <td>I have to agree with Plachno on this one, but ...</td>\n",
              "    </tr>\n",
              "    <tr>\n",
              "      <th>4</th>\n",
              "      <td>0</td>\n",
              "      <td>Second pair I have, this pair has an elastic b...</td>\n",
              "    </tr>\n",
              "  </tbody>\n",
              "</table>\n",
              "</div>"
            ],
            "text/plain": [
              "   overall                                         reviewText\n",
              "0        0  Didn't like the fact the numbers were stitched...\n",
              "1        0  While these did protect my carbon-soled shoes,...\n",
              "2        0  Mine was another roller cut in half. I could h...\n",
              "3        0  I have to agree with Plachno on this one, but ...\n",
              "4        0  Second pair I have, this pair has an elastic b..."
            ]
          },
          "metadata": {
            "tags": []
          },
          "execution_count": 10
        }
      ]
    },
    {
      "cell_type": "code",
      "metadata": {
        "id": "wQQfaLiE8vqe",
        "colab_type": "code",
        "outputId": "2710caf7-3a3f-49c2-8349-42aa0bc5db70",
        "colab": {
          "base_uri": "https://localhost:8080/",
          "height": 34
        }
      },
      "source": [
        "print(f'Training length: {len(train)}, Test length: {len(test)}')"
      ],
      "execution_count": 11,
      "outputs": [
        {
          "output_type": "stream",
          "text": [
            "Training length: 160000, Test length: 40000\n"
          ],
          "name": "stdout"
        }
      ]
    },
    {
      "cell_type": "code",
      "metadata": {
        "id": "frqZPVxL0_X2",
        "colab_type": "code",
        "outputId": "ca5d39be-80b0-412d-ed0f-6a9c092328fa",
        "colab": {
          "base_uri": "https://localhost:8080/",
          "height": 293
        }
      },
      "source": [
        "train.groupby('overall')['reviewText'].count().plot.bar()"
      ],
      "execution_count": 11,
      "outputs": [
        {
          "output_type": "execute_result",
          "data": {
            "text/plain": [
              "<matplotlib.axes._subplots.AxesSubplot at 0x7fd80a052780>"
            ]
          },
          "metadata": {
            "tags": []
          },
          "execution_count": 11
        },
        {
          "output_type": "display_data",
          "data": {
            "image/png": "[encoded data removed]",
            "text/plain": [
              "<Figure size 432x288 with 1 Axes>"
            ]
          },
          "metadata": {
            "tags": [],
            "needs_background": "light"
          }
        }
      ]
    },
    {
      "cell_type": "markdown",
      "metadata": {
        "id": "9wjbVDaUEhkn",
        "colab_type": "text"
      },
      "source": [
        "## Language model"
      ]
    },
    {
      "cell_type": "markdown",
      "metadata": {
        "id": "nFJV06IYEhkn",
        "colab_type": "text"
      },
      "source": [
        "Note that language models can use a lot of GPU, so you may need to decrease batchsize here."
      ]
    },
    {
      "cell_type": "code",
      "metadata": {
        "id": "OI9T8jt2G7wA",
        "colab_type": "code",
        "colab": {}
      },
      "source": [
        "bs = 48\n",
        "# bs = 128"
      ],
      "execution_count": 0,
      "outputs": []
    },
    {
      "cell_type": "markdown",
      "metadata": {
        "id": "M0-uGNYAEhkj",
        "colab_type": "text"
      },
      "source": [
        "We can use the data block API with NLP and have a lot more flexibility than what the default factory methods offer. In the previous example for instance, the data was randomly split between train and validation instead of reading the third column of the csv.\n",
        "\n",
        "With the data block API though, we have to manually call the tokenize and numericalize steps. This allows more flexibility, and if you're not using the defaults from fastai, the various arguments to pass will appear in the step they're revelant, so it'll be more readable."
      ]
    },
    {
      "cell_type": "code",
      "metadata": {
        "id": "1WIRwUWyjbkq",
        "colab_type": "code",
        "colab": {}
      },
      "source": [
        "#df = pd.concat([train,test], sort=False)"
      ],
      "execution_count": 0,
      "outputs": []
    },
    {
      "cell_type": "code",
      "metadata": {
        "id": "XZXT0O4iQizt",
        "colab_type": "code",
        "colab": {
          "base_uri": "https://localhost:8080/",
          "height": 17
        },
        "outputId": "176777e6-8c70-44ea-b7ce-db6d61cd64c3"
      },
      "source": [
        "data_lm = TextLMDataBunch.from_df(Path(path), train, test, text_cols='reviewText', bs = bs)"
      ],
      "execution_count": 16,
      "outputs": [
        {
          "output_type": "display_data",
          "data": {
            "text/html": [
              ""
            ],
            "text/plain": [
              "<IPython.core.display.HTML object>"
            ]
          },
          "metadata": {
            "tags": []
          }
        },
        {
          "output_type": "display_data",
          "data": {
            "text/html": [
              ""
            ],
            "text/plain": [
              "<IPython.core.display.HTML object>"
            ]
          },
          "metadata": {
            "tags": []
          }
        }
      ]
    },
    {
      "cell_type": "code",
      "metadata": {
        "id": "6IZpkt9bvRwg",
        "colab_type": "code",
        "outputId": "99b02267-6c7e-41c7-f2b4-6d8759eaf610",
        "colab": {
          "base_uri": "https://localhost:8080/"
        }
      },
      "source": [
        "# Language model data\n",
        "#data_lm = (TextList.from_df(df, cols='reviewText')\n",
        "  #        .split_by_rand_pct(0.1, seed=42)\n",
        " #         .label_for_lm()\n",
        "   #       .databunch(bs=bs, num_workers=1))"
      ],
      "execution_count": 0,
      "outputs": [
        {
          "output_type": "display_data",
          "data": {
            "text/html": [
              ""
            ],
            "text/plain": [
              "<IPython.core.display.HTML object>"
            ]
          },
          "metadata": {
            "tags": []
          }
        },
        {
          "output_type": "display_data",
          "data": {
            "text/html": [
              ""
            ],
            "text/plain": [
              "<IPython.core.display.HTML object>"
            ]
          },
          "metadata": {
            "tags": []
          }
        }
      ]
    },
    {
      "cell_type": "code",
      "metadata": {
        "id": "zqMuj1Yv9TGK",
        "colab_type": "code",
        "colab": {}
      },
      "source": [
        "data_lm.save('data_lm.pkl')"
      ],
      "execution_count": 0,
      "outputs": []
    },
    {
      "cell_type": "code",
      "metadata": {
        "id": "uApqmf0uEhlB",
        "colab_type": "code",
        "colab": {}
      },
      "source": [
        "data_lm = load_data(path, 'data_lm.pkl', bs=bs)"
      ],
      "execution_count": 0,
      "outputs": []
    },
    {
      "cell_type": "code",
      "metadata": {
        "id": "r4UXmC_DEhlD",
        "colab_type": "code",
        "outputId": "ffd6bc64-fd64-459a-f3c9-eeed31a8fed7",
        "colab": {
          "base_uri": "https://localhost:8080/",
          "height": 340
        }
      },
      "source": [
        "data_lm.show_batch()"
      ],
      "execution_count": 18,
      "outputs": [
        {
          "output_type": "display_data",
          "data": {
            "text/html": [
              "<table border=\"1\" class=\"dataframe\">\n",
              "  <thead>\n",
              "    <tr style=\"text-align: right;\">\n",
              "      <th>idx</th>\n",
              "      <th>text</th>\n",
              "    </tr>\n",
              "  </thead>\n",
              "  <tbody>\n",
              "    <tr>\n",
              "      <td>0</td>\n",
              "      <td>, i found it next to impossible to clip in . \\n \\n  xxmaj my method : \\n  - xxmaj reach down , touch the pedal with my foot , toe slightly up \\n  - pull foot back , hooking the back of the cleat in the pedal \\n  - press down to fully engage \\n \\n  xxmaj all this happens quickly , while pedaling</td>\n",
              "    </tr>\n",
              "    <tr>\n",
              "      <td>1</td>\n",
              "      <td>. i ordered men size in hopes they would be plenty big on a woman ... not even close ! xxbos not as strong as i thought it would be xxbos xxmaj followed directions to a tee ! xxmaj fit nice but soon shrunk and stopped being of any use ! xxbos xxmaj this is not made for using as a means to hold up your pants . xxmaj in</td>\n",
              "    </tr>\n",
              "    <tr>\n",
              "      <td>2</td>\n",
              "      <td>de - xxunk ( cheapened ) considerably since our first one , but it 's still available for about $ 125 , can be set up by two people in 5 - 10 minutes , keeps five of us dry with plenty of space , and has very good ventilation . \\n \\n  xxmaj it is the unanimous opinion of the entire family that this tent , in comparison</td>\n",
              "    </tr>\n",
              "    <tr>\n",
              "      <td>3</td>\n",
              "      <td>off in my neighborhood . i figured it would be for a couple hours only so i pulled out my xxup three xxmaj coleman xxup led lanterns and my xxmaj core lantern . xxmaj of the xxmaj colemans , two had the rechargeable packs , and one the 4 d - xxmaj cell pack . xxmaj the xxmaj core lit great with no problems . xxmaj lit up the xxup</td>\n",
              "    </tr>\n",
              "    <tr>\n",
              "      <td>4</td>\n",
              "      <td>have a pro do it xxbos i have had this reel for a couple of months now and have taken it fishing 4 times . i am an avid fisherman and very good at casting baitcasters . xxmaj each time i have taken this reel fishing i make sure i have it dialed in for the lure i am casting using the spool tension knob on the right side of</td>\n",
              "    </tr>\n",
              "  </tbody>\n",
              "</table>"
            ],
            "text/plain": [
              "<IPython.core.display.HTML object>"
            ]
          },
          "metadata": {
            "tags": []
          }
        }
      ]
    },
    {
      "cell_type": "markdown",
      "metadata": {
        "id": "W8kINX2gEhlG",
        "colab_type": "text"
      },
      "source": [
        "We can then put this in a learner object very easily with a model loaded with the pretrained weights. They'll be downloaded the first time you'll execute the following line and stored in `~/.fastai/models/` (or elsewhere if you specified different paths in your config file)."
      ]
    },
    {
      "cell_type": "code",
      "metadata": {
        "id": "iS4iQ8-1EhlG",
        "colab_type": "code",
        "outputId": "4337d130-4554-45bd-a9a6-a4bcfe7a1d4e",
        "colab": {
          "base_uri": "https://localhost:8080/",
          "height": 34
        }
      },
      "source": [
        "learn = language_model_learner(data_lm, AWD_LSTM, drop_mult=0.5)"
      ],
      "execution_count": 19,
      "outputs": [
        {
          "output_type": "stream",
          "text": [
            "Downloading https://s3.amazonaws.com/fast-ai-modelzoo/wt103-fwd.tgz\n"
          ],
          "name": "stdout"
        },
        {
          "output_type": "display_data",
          "data": {
            "text/html": [
              ""
            ],
            "text/plain": [
              "<IPython.core.display.HTML object>"
            ]
          },
          "metadata": {
            "tags": []
          }
        }
      ]
    },
    {
      "cell_type": "code",
      "metadata": {
        "id": "TvTogoqHEhlI",
        "colab_type": "code",
        "outputId": "7cf76f28-7291-414b-a9e5-52cc8215148c",
        "colab": {
          "base_uri": "https://localhost:8080/",
          "height": 112
        }
      },
      "source": [
        "learn.lr_find()"
      ],
      "execution_count": 20,
      "outputs": [
        {
          "output_type": "display_data",
          "data": {
            "text/html": [
              "\n",
              "    <div>\n",
              "        <style>\n",
              "            /* Turns off some styling */\n",
              "            progress {\n",
              "                /* gets rid of default border in Firefox and Opera. */\n",
              "                border: none;\n",
              "                /* Needs to be in here for Safari polyfill so background images work as expected. */\n",
              "                background-size: auto;\n",
              "            }\n",
              "            .progress-bar-interrupted, .progress-bar-interrupted::-webkit-progress-bar {\n",
              "                background: #F44336;\n",
              "            }\n",
              "        </style>\n",
              "      <progress value='0' class='' max='1' style='width:300px; height:20px; vertical-align: middle;'></progress>\n",
              "      0.00% [0/1 00:00<00:00]\n",
              "    </div>\n",
              "    \n",
              "<table border=\"1\" class=\"dataframe\">\n",
              "  <thead>\n",
              "    <tr style=\"text-align: left;\">\n",
              "      <th>epoch</th>\n",
              "      <th>train_loss</th>\n",
              "      <th>valid_loss</th>\n",
              "      <th>accuracy</th>\n",
              "      <th>time</th>\n",
              "    </tr>\n",
              "  </thead>\n",
              "  <tbody>\n",
              "  </tbody>\n",
              "</table><p>\n",
              "\n",
              "    <div>\n",
              "        <style>\n",
              "            /* Turns off some styling */\n",
              "            progress {\n",
              "                /* gets rid of default border in Firefox and Opera. */\n",
              "                border: none;\n",
              "                /* Needs to be in here for Safari polyfill so background images work as expected. */\n",
              "                background-size: auto;\n",
              "            }\n",
              "            .progress-bar-interrupted, .progress-bar-interrupted::-webkit-progress-bar {\n",
              "                background: #F44336;\n",
              "            }\n",
              "        </style>\n",
              "      <progress value='99' class='' max='3240' style='width:300px; height:20px; vertical-align: middle;'></progress>\n",
              "      3.06% [99/3240 00:13<07:06 11.6537]\n",
              "    </div>\n",
              "    "
            ],
            "text/plain": [
              "<IPython.core.display.HTML object>"
            ]
          },
          "metadata": {
            "tags": []
          }
        },
        {
          "output_type": "stream",
          "text": [
            "LR Finder is complete, type {learner_name}.recorder.plot() to see the graph.\n"
          ],
          "name": "stdout"
        }
      ]
    },
    {
      "cell_type": "code",
      "metadata": {
        "id": "7wtFJmlgEhlK",
        "colab_type": "code",
        "outputId": "bf4a18f1-04d2-4446-8350-e7a35287871a",
        "colab": {
          "base_uri": "https://localhost:8080/",
          "height": 279
        }
      },
      "source": [
        "learn.recorder.plot(skip_end=15)"
      ],
      "execution_count": 21,
      "outputs": [
        {
          "output_type": "display_data",
          "data": {
            "image/png": "[encoded data removed]",
            "text/plain": [
              "<Figure size 432x288 with 1 Axes>"
            ]
          },
          "metadata": {
            "tags": [],
            "needs_background": "light"
          }
        }
      ]
    },
    {
      "cell_type": "code",
      "metadata": {
        "id": "EWp2BHTJEhlN",
        "colab_type": "code",
        "outputId": "7e32b74e-91a9-44d7-f8a5-0fa57dc5587c",
        "colab": {
          "base_uri": "https://localhost:8080/",
          "height": 111
        }
      },
      "source": [
        "learn.fit_one_cycle(2, 5e-2, moms=(0.8,0.7))"
      ],
      "execution_count": 22,
      "outputs": [
        {
          "output_type": "display_data",
          "data": {
            "text/html": [
              "<table border=\"1\" class=\"dataframe\">\n",
              "  <thead>\n",
              "    <tr style=\"text-align: left;\">\n",
              "      <th>epoch</th>\n",
              "      <th>train_loss</th>\n",
              "      <th>valid_loss</th>\n",
              "      <th>accuracy</th>\n",
              "      <th>time</th>\n",
              "    </tr>\n",
              "  </thead>\n",
              "  <tbody>\n",
              "    <tr>\n",
              "      <td>0</td>\n",
              "      <td>4.676901</td>\n",
              "      <td>4.443329</td>\n",
              "      <td>0.238066</td>\n",
              "      <td>08:02</td>\n",
              "    </tr>\n",
              "    <tr>\n",
              "      <td>1</td>\n",
              "      <td>4.223029</td>\n",
              "      <td>4.016422</td>\n",
              "      <td>0.270667</td>\n",
              "      <td>08:01</td>\n",
              "    </tr>\n",
              "  </tbody>\n",
              "</table>"
            ],
            "text/plain": [
              "<IPython.core.display.HTML object>"
            ]
          },
          "metadata": {
            "tags": []
          }
        }
      ]
    },
    {
      "cell_type": "code",
      "metadata": {
        "id": "FD0_nTVZEhlS",
        "colab_type": "code",
        "colab": {}
      },
      "source": [
        "learn.save('fit_head')"
      ],
      "execution_count": 0,
      "outputs": []
    },
    {
      "cell_type": "code",
      "metadata": {
        "id": "zjtORrYyEhlU",
        "colab_type": "code",
        "colab": {}
      },
      "source": [
        "learn.load('fit_head');"
      ],
      "execution_count": 0,
      "outputs": []
    },
    {
      "cell_type": "markdown",
      "metadata": {
        "id": "s01R-UtOEhlW",
        "colab_type": "text"
      },
      "source": [
        "To complete the fine-tuning, we can then unfeeze and launch a new training."
      ]
    },
    {
      "cell_type": "code",
      "metadata": {
        "id": "ZAHdnnAJEhlX",
        "colab_type": "code",
        "colab": {}
      },
      "source": [
        "learn.unfreeze()"
      ],
      "execution_count": 0,
      "outputs": []
    },
    {
      "cell_type": "code",
      "metadata": {
        "id": "ZKI3Ql71EhlZ",
        "colab_type": "code",
        "outputId": "3159024e-a3b0-4e73-ba1e-0f14db1c061e",
        "colab": {
          "base_uri": "https://localhost:8080/",
          "height": 173
        }
      },
      "source": [
        "learn.fit_one_cycle(4, 1e-3, moms=(0.8,0.7))"
      ],
      "execution_count": 25,
      "outputs": [
        {
          "output_type": "display_data",
          "data": {
            "text/html": [
              "<table border=\"1\" class=\"dataframe\">\n",
              "  <thead>\n",
              "    <tr style=\"text-align: left;\">\n",
              "      <th>epoch</th>\n",
              "      <th>train_loss</th>\n",
              "      <th>valid_loss</th>\n",
              "      <th>accuracy</th>\n",
              "      <th>time</th>\n",
              "    </tr>\n",
              "  </thead>\n",
              "  <tbody>\n",
              "    <tr>\n",
              "      <td>0</td>\n",
              "      <td>3.813717</td>\n",
              "      <td>3.728895</td>\n",
              "      <td>0.300580</td>\n",
              "      <td>09:13</td>\n",
              "    </tr>\n",
              "    <tr>\n",
              "      <td>1</td>\n",
              "      <td>3.692659</td>\n",
              "      <td>3.612109</td>\n",
              "      <td>0.314048</td>\n",
              "      <td>09:12</td>\n",
              "    </tr>\n",
              "    <tr>\n",
              "      <td>2</td>\n",
              "      <td>3.564636</td>\n",
              "      <td>3.543859</td>\n",
              "      <td>0.322824</td>\n",
              "      <td>09:13</td>\n",
              "    </tr>\n",
              "    <tr>\n",
              "      <td>3</td>\n",
              "      <td>3.464123</td>\n",
              "      <td>3.529900</td>\n",
              "      <td>0.324874</td>\n",
              "      <td>09:14</td>\n",
              "    </tr>\n",
              "  </tbody>\n",
              "</table>"
            ],
            "text/plain": [
              "<IPython.core.display.HTML object>"
            ]
          },
          "metadata": {
            "tags": []
          }
        }
      ]
    },
    {
      "cell_type": "code",
      "metadata": {
        "id": "UvNQbhoiEhla",
        "colab_type": "code",
        "colab": {}
      },
      "source": [
        "learn.save('fine_tuned')"
      ],
      "execution_count": 0,
      "outputs": []
    },
    {
      "cell_type": "markdown",
      "metadata": {
        "id": "oFUOi5L8Ehld",
        "colab_type": "text"
      },
      "source": [
        "How good is our model? Well let's try to see what it predicts after a few given words."
      ]
    },
    {
      "cell_type": "code",
      "metadata": {
        "id": "NNb3d2VDEhle",
        "colab_type": "code",
        "colab": {}
      },
      "source": [
        "learn.load('fine_tuned');"
      ],
      "execution_count": 0,
      "outputs": []
    },
    {
      "cell_type": "code",
      "metadata": {
        "id": "E66InaAyEhlm",
        "colab_type": "code",
        "colab": {}
      },
      "source": [
        "TEXT = \"I liked this product because\"\n",
        "N_WORDS = 40\n",
        "N_SENTENCES = 2"
      ],
      "execution_count": 0,
      "outputs": []
    },
    {
      "cell_type": "code",
      "metadata": {
        "id": "oS-bjj_DEhlo",
        "colab_type": "code",
        "outputId": "78cec2fe-46c3-4f16-d6d1-6c5db72cf4e5",
        "colab": {
          "base_uri": "https://localhost:8080/",
          "height": 71
        }
      },
      "source": [
        "print(\"\\n\".join(learn.predict(TEXT, N_WORDS, temperature=0.75) for _ in range(N_SENTENCES)))"
      ],
      "execution_count": 28,
      "outputs": [
        {
          "output_type": "stream",
          "text": [
            "I liked this product because it was not an ultralight worked up product by the process of taking it out of the box . The deflation feature is a big plus . Not a big deal , but very useful . It\n",
            "I liked this product because of that . i bought this device for the range . i got a piece of plastic , it 's very bulky , and it was n't adjustable . When i got it on , it was almost impossible\n"
          ],
          "name": "stdout"
        }
      ]
    },
    {
      "cell_type": "markdown",
      "metadata": {
        "id": "9F9qjSamEhlp",
        "colab_type": "text"
      },
      "source": [
        "We have to save not only the model, but also its encoder, the part that's responsible for creating and updating the hidden state. For the next part, we don't care about the part that tries to guess the next word."
      ]
    },
    {
      "cell_type": "code",
      "metadata": {
        "id": "2XR4qS8ZEhlq",
        "colab_type": "code",
        "colab": {}
      },
      "source": [
        "learn.save_encoder('fine_tuned_enc')"
      ],
      "execution_count": 0,
      "outputs": []
    },
    {
      "cell_type": "markdown",
      "metadata": {
        "id": "7W6lcB-YEhls",
        "colab_type": "text"
      },
      "source": [
        "## Classifier"
      ]
    },
    {
      "cell_type": "markdown",
      "metadata": {
        "id": "8G4JAO5BEhls",
        "colab_type": "text"
      },
      "source": [
        "Now, we'll create a new data object that only grabs the labelled data and keeps those labels. Again, this line takes a bit of time."
      ]
    },
    {
      "cell_type": "code",
      "metadata": {
        "id": "CRM__I3LS8W4",
        "colab_type": "code",
        "colab": {
          "base_uri": "https://localhost:8080/",
          "height": 17
        },
        "outputId": "26c1093a-6e42-4ca2-dd20-08c724e2bd1a"
      },
      "source": [
        "data_clas = TextClasDataBunch.from_df(Path(path), train, test, text_cols='reviewText',vocab=data_lm.vocab, label_cols=0,bs=bs)\n"
      ],
      "execution_count": 9,
      "outputs": [
        {
          "output_type": "display_data",
          "data": {
            "text/html": [
              ""
            ],
            "text/plain": [
              "<IPython.core.display.HTML object>"
            ]
          },
          "metadata": {
            "tags": []
          }
        },
        {
          "output_type": "display_data",
          "data": {
            "text/html": [
              ""
            ],
            "text/plain": [
              "<IPython.core.display.HTML object>"
            ]
          },
          "metadata": {
            "tags": []
          }
        }
      ]
    },
    {
      "cell_type": "code",
      "metadata": {
        "id": "i28GX1hjMMXM",
        "colab_type": "code",
        "colab": {}
      },
      "source": [
        "data_clas.save('data_clas.pkl')"
      ],
      "execution_count": 0,
      "outputs": []
    },
    {
      "cell_type": "code",
      "metadata": {
        "id": "XHXawQBBEhly",
        "colab_type": "code",
        "colab": {}
      },
      "source": [
        "data_clas = load_data(path, 'data_clas.pkl', bs=bs)"
      ],
      "execution_count": 0,
      "outputs": []
    },
    {
      "cell_type": "code",
      "metadata": {
        "id": "G_uizKXPEhl0",
        "colab_type": "code",
        "outputId": "09a290be-e306-443b-848c-1e7c251f2f4b",
        "colab": {
          "base_uri": "https://localhost:8080/",
          "height": 357
        }
      },
      "source": [
        "data_clas.show_batch()"
      ],
      "execution_count": 11,
      "outputs": [
        {
          "output_type": "display_data",
          "data": {
            "text/html": [
              "<table border=\"1\" class=\"dataframe\">\n",
              "  <thead>\n",
              "    <tr style=\"text-align: right;\">\n",
              "      <th>text</th>\n",
              "      <th>target</th>\n",
              "    </tr>\n",
              "  </thead>\n",
              "  <tbody>\n",
              "    <tr>\n",
              "      <td>xxbos i have used these mylar blankets on several occasions in emergency situations in the north of xxmaj scotland , and can really say that they are quite useless as a single item versus a taped mylar sleeping bag . xxmaj the latter has multiple survival uses ( sleeping bag , tent , large double - layered sun shade , wind - breaker , or fire / stove heat -</td>\n",
              "      <td>0</td>\n",
              "    </tr>\n",
              "    <tr>\n",
              "      <td>xxbos i xxmaj just received this product today and without even taking it out to the range , i am despised that i was fooled by false advertising . xxmaj before i even start to discuss the abundance of reasons why this sight should never be purchased , i will even explain the reason why you should not trust this company , \" dagger defense \" . xxmaj simply put</td>\n",
              "      <td>0</td>\n",
              "    </tr>\n",
              "    <tr>\n",
              "      <td>xxbos i have been using these on my daily commute for a year and they are still going strong . xxmaj they work in all conditions heat , cold , and rain . i would buy them again and have bought additional mounts so i can use it on my other bikes . \\n \\n  xxmaj the headlight cycles through 5 settings : medium , high , low ,</td>\n",
              "      <td>1</td>\n",
              "    </tr>\n",
              "    <tr>\n",
              "      <td>xxbos xxup review xxup of xxup the xxup second xxup one i xxup received : xxup four xxup stars : \\n  i stand by my original review listed below . xxmaj however i have received my replacement and after a few sessions at the range it is running strong and i really like the low profile . xxmaj again , installation and sighting it in was child 's play</td>\n",
              "      <td>1</td>\n",
              "    </tr>\n",
              "    <tr>\n",
              "      <td>xxbos xxmaj week one rating ; i 'm one of those people who hate exercise , but recognize the need for it , i get bored real quick with routines . xxmaj this program will not allow you to get bored , in fact now i look forward to my work - out each day ( a first for me ) . i was in fair shape before starting ,</td>\n",
              "      <td>1</td>\n",
              "    </tr>\n",
              "  </tbody>\n",
              "</table>"
            ],
            "text/plain": [
              "<IPython.core.display.HTML object>"
            ]
          },
          "metadata": {
            "tags": []
          }
        }
      ]
    },
    {
      "cell_type": "markdown",
      "metadata": {
        "id": "uE0FIw4TEhl5",
        "colab_type": "text"
      },
      "source": [
        "We can then create a model to classify those reviews and load the encoder we saved before."
      ]
    },
    {
      "cell_type": "code",
      "metadata": {
        "id": "fh8cHdXkEhl6",
        "colab_type": "code",
        "outputId": "ef1fe7b2-31ea-4af0-ce69-ec58abdf2d1c",
        "colab": {
          "base_uri": "https://localhost:8080/",
          "height": 1000
        }
      },
      "source": [
        "learn_c = text_classifier_learner(data_clas, AWD_LSTM, drop_mult=0.3).to_fp16()\n",
        "learn_c.load_encoder('fine_tuned_enc')"
      ],
      "execution_count": 15,
      "outputs": [
        {
          "output_type": "execute_result",
          "data": {
            "text/plain": [
              "RNNLearner(data=TextClasDataBunch;\n",
              "\n",
              "Train: LabelList (160000 items)\n",
              "x: TextList\n",
              "xxbos xxmaj did n't like the fact the numbers were stitched on and the stitching started coming apart the first time out . xxmaj got a refund .,xxbos xxmaj while these did protect my carbon - soled shoes , they caused me considerable problems clipping in . i had ridden eggbeaters for many years before buying these . xxmaj clipping in was second nature . xxmaj after installing these , i found it next to impossible to clip in . \n",
              " \n",
              "  xxmaj my method : \n",
              "  - xxmaj reach down , touch the pedal with my foot , toe slightly up \n",
              "  - pull foot back , hooking the back of the cleat in the pedal \n",
              "  - press down to fully engage \n",
              " \n",
              "  xxmaj all this happens quickly , while pedaling . xxmaj with these , my \" pull back \" hooks the pedal on the edge of the shield , instead of the cleat . \n",
              " \n",
              "  xxmaj it 's not necessarily a bad product , just not for me .,xxbos xxmaj mine was another roller cut in half . i could have done that myself - wanted something that looked more finished . xxmaj returned it to the company with the xxup rma number and i do n't think that my refund ever showed up . i do n't care enough to chase them , but ca n't recommend the product or the seller .,xxbos i have to agree with xxmaj plachno on this one , but for a different reason . xxmaj these goggles fit my face very well and are very clear in the water --- at least for a brief time . i bought these only 4 weeks ago and have used at the indoor pool 6 times . xxmaj the last time , they began to fog up as soon as i got in the water . xxmaj the water was xxup not warm , as it was the regular lap pool . xxmaj each time i got to the end of the lane , i had to remover the goggles and rinse them off . xxmaj this gets extremely annoying when you 're trying to swim laps . xxmaj so , i took the advise of the customer , xxmaj alex , who presumably works for xxmaj speedo , as he said to contact \" us . \" xxmaj like xxmaj plachno , i made an attempt to contact speedo and received no response whatsoever . xxmaj sounds like this company definitely xxup does xxup not stand behind its products . i will be returning these and looking for goggles from a company that cares more about customer service . xxmaj really a shame , as i liked these quite a bit and no goggle should fog up after only 6 uses .,xxbos xxmaj second pair i have , this pair has an elastic band around the bottom of the leg that cuts into the flesh , poor design and not like a previous pair i have . xxmaj ca n't see it in the photo so how would you know .\n",
              "y: CategoryList\n",
              "0,0,0,0,0\n",
              "Path: /content/drive/My Drive/data/amazon;\n",
              "\n",
              "Valid: LabelList (40000 items)\n",
              "x: TextList\n",
              "xxbos xxmaj piece of crap ! xxmaj do n't buy ! xxmaj it hardly works for round balloons and does n't work at all for twisting balloons . xxmaj motor heats up very fast and gives off a burning smell . i will be sending back .,xxbos xxmaj tiny net !,xxbos i received the product box was sealed but i missing the hooks that come with it . xxmaj there was also a couple screws that were missing and after installing xxunk 's when i realized the stuff was missing,xxbos xxmaj missing pieces,xxbos xxmaj when i open the box the liner and cap were not included as they were supposed to be .. xxmaj upon examination i found that the top plate was just stamped sheet metal and not solid stainless steel as i expected . xxmaj the flange gasket did not fit up or line up properly . i returned them today and will buy another brand . xxmaj like always when you see a price this low you should expect to be disappointed , i sure was .\n",
              "y: CategoryList\n",
              "0,0,0,0,0\n",
              "Path: /content/drive/My Drive/data/amazon;\n",
              "\n",
              "Test: None, model=SequentialRNN(\n",
              "  (0): MultiBatchEncoder(\n",
              "    (module): AWD_LSTM(\n",
              "      (encoder): Embedding(37016, 400, padding_idx=1)\n",
              "      (encoder_dp): EmbeddingDropout(\n",
              "        (emb): Embedding(37016, 400, padding_idx=1)\n",
              "      )\n",
              "      (rnns): ModuleList(\n",
              "        (0): WeightDropout(\n",
              "          (module): LSTM(400, 1152, batch_first=True)\n",
              "        )\n",
              "        (1): WeightDropout(\n",
              "          (module): LSTM(1152, 1152, batch_first=True)\n",
              "        )\n",
              "        (2): WeightDropout(\n",
              "          (module): LSTM(1152, 400, batch_first=True)\n",
              "        )\n",
              "      )\n",
              "      (input_dp): RNNDropout()\n",
              "      (hidden_dps): ModuleList(\n",
              "        (0): RNNDropout()\n",
              "        (1): RNNDropout()\n",
              "        (2): RNNDropout()\n",
              "      )\n",
              "    )\n",
              "  )\n",
              "  (1): PoolingLinearClassifier(\n",
              "    (layers): Sequential(\n",
              "      (0): BatchNorm1d(1200, eps=1e-05, momentum=0.1, affine=True, track_running_stats=True)\n",
              "      (1): Dropout(p=0.12, inplace=False)\n",
              "      (2): Linear(in_features=1200, out_features=50, bias=True)\n",
              "      (3): ReLU(inplace=True)\n",
              "      (4): BatchNorm1d(50, eps=1e-05, momentum=0.1, affine=True, track_running_stats=True)\n",
              "      (5): Dropout(p=0.1, inplace=False)\n",
              "      (6): Linear(in_features=50, out_features=2, bias=True)\n",
              "    )\n",
              "  )\n",
              "), opt_func=functools.partial(<class 'torch.optim.adam.Adam'>, betas=(0.9, 0.99)), loss_func=FlattenedLoss of CrossEntropyLoss(), metrics=[<function accuracy at 0x7f12080cb9d8>], true_wd=True, bn_wd=True, wd=0.01, train_bn=True, path=PosixPath('/content/drive/My Drive/data/amazon'), model_dir='models', callback_fns=[functools.partial(<class 'fastai.basic_train.Recorder'>, add_time=True, silent=False)], callbacks=[RNNTrainer\n",
              "learn: RNNLearner(data=TextClasDataBunch;\n",
              "\n",
              "Train: LabelList (160000 items)\n",
              "x: TextList\n",
              "xxbos xxmaj did n't like the fact the numbers were stitched on and the stitching started coming apart the first time out . xxmaj got a refund .,xxbos xxmaj while these did protect my carbon - soled shoes , they caused me considerable problems clipping in . i had ridden eggbeaters for many years before buying these . xxmaj clipping in was second nature . xxmaj after installing these , i found it next to impossible to clip in . \n",
              " \n",
              "  xxmaj my method : \n",
              "  - xxmaj reach down , touch the pedal with my foot , toe slightly up \n",
              "  - pull foot back , hooking the back of the cleat in the pedal \n",
              "  - press down to fully engage \n",
              " \n",
              "  xxmaj all this happens quickly , while pedaling . xxmaj with these , my \" pull back \" hooks the pedal on the edge of the shield , instead of the cleat . \n",
              " \n",
              "  xxmaj it 's not necessarily a bad product , just not for me .,xxbos xxmaj mine was another roller cut in half . i could have done that myself - wanted something that looked more finished . xxmaj returned it to the company with the xxup rma number and i do n't think that my refund ever showed up . i do n't care enough to chase them , but ca n't recommend the product or the seller .,xxbos i have to agree with xxmaj plachno on this one , but for a different reason . xxmaj these goggles fit my face very well and are very clear in the water --- at least for a brief time . i bought these only 4 weeks ago and have used at the indoor pool 6 times . xxmaj the last time , they began to fog up as soon as i got in the water . xxmaj the water was xxup not warm , as it was the regular lap pool . xxmaj each time i got to the end of the lane , i had to remover the goggles and rinse them off . xxmaj this gets extremely annoying when you 're trying to swim laps . xxmaj so , i took the advise of the customer , xxmaj alex , who presumably works for xxmaj speedo , as he said to contact \" us . \" xxmaj like xxmaj plachno , i made an attempt to contact speedo and received no response whatsoever . xxmaj sounds like this company definitely xxup does xxup not stand behind its products . i will be returning these and looking for goggles from a company that cares more about customer service . xxmaj really a shame , as i liked these quite a bit and no goggle should fog up after only 6 uses .,xxbos xxmaj second pair i have , this pair has an elastic band around the bottom of the leg that cuts into the flesh , poor design and not like a previous pair i have . xxmaj ca n't see it in the photo so how would you know .\n",
              "y: CategoryList\n",
              "0,0,0,0,0\n",
              "Path: /content/drive/My Drive/data/amazon;\n",
              "\n",
              "Valid: LabelList (40000 items)\n",
              "x: TextList\n",
              "xxbos xxmaj piece of crap ! xxmaj do n't buy ! xxmaj it hardly works for round balloons and does n't work at all for twisting balloons . xxmaj motor heats up very fast and gives off a burning smell . i will be sending back .,xxbos xxmaj tiny net !,xxbos i received the product box was sealed but i missing the hooks that come with it . xxmaj there was also a couple screws that were missing and after installing xxunk 's when i realized the stuff was missing,xxbos xxmaj missing pieces,xxbos xxmaj when i open the box the liner and cap were not included as they were supposed to be .. xxmaj upon examination i found that the top plate was just stamped sheet metal and not solid stainless steel as i expected . xxmaj the flange gasket did not fit up or line up properly . i returned them today and will buy another brand . xxmaj like always when you see a price this low you should expect to be disappointed , i sure was .\n",
              "y: CategoryList\n",
              "0,0,0,0,0\n",
              "Path: /content/drive/My Drive/data/amazon;\n",
              "\n",
              "Test: None, model=SequentialRNN(\n",
              "  (0): MultiBatchEncoder(\n",
              "    (module): AWD_LSTM(\n",
              "      (encoder): Embedding(37016, 400, padding_idx=1)\n",
              "      (encoder_dp): EmbeddingDropout(\n",
              "        (emb): Embedding(37016, 400, padding_idx=1)\n",
              "      )\n",
              "      (rnns): ModuleList(\n",
              "        (0): WeightDropout(\n",
              "          (module): LSTM(400, 1152, batch_first=True)\n",
              "        )\n",
              "        (1): WeightDropout(\n",
              "          (module): LSTM(1152, 1152, batch_first=True)\n",
              "        )\n",
              "        (2): WeightDropout(\n",
              "          (module): LSTM(1152, 400, batch_first=True)\n",
              "        )\n",
              "      )\n",
              "      (input_dp): RNNDropout()\n",
              "      (hidden_dps): ModuleList(\n",
              "        (0): RNNDropout()\n",
              "        (1): RNNDropout()\n",
              "        (2): RNNDropout()\n",
              "      )\n",
              "    )\n",
              "  )\n",
              "  (1): PoolingLinearClassifier(\n",
              "    (layers): Sequential(\n",
              "      (0): BatchNorm1d(1200, eps=1e-05, momentum=0.1, affine=True, track_running_stats=True)\n",
              "      (1): Dropout(p=0.12, inplace=False)\n",
              "      (2): Linear(in_features=1200, out_features=50, bias=True)\n",
              "      (3): ReLU(inplace=True)\n",
              "      (4): BatchNorm1d(50, eps=1e-05, momentum=0.1, affine=True, track_running_stats=True)\n",
              "      (5): Dropout(p=0.1, inplace=False)\n",
              "      (6): Linear(in_features=50, out_features=2, bias=True)\n",
              "    )\n",
              "  )\n",
              "), opt_func=functools.partial(<class 'torch.optim.adam.Adam'>, betas=(0.9, 0.99)), loss_func=FlattenedLoss of CrossEntropyLoss(), metrics=[<function accuracy at 0x7f12080cb9d8>], true_wd=True, bn_wd=True, wd=0.01, train_bn=True, path=PosixPath('/content/drive/My Drive/data/amazon'), model_dir='models', callback_fns=[functools.partial(<class 'fastai.basic_train.Recorder'>, add_time=True, silent=False)], callbacks=[...], layer_groups=[Sequential(\n",
              "  (0): Embedding(37016, 400, padding_idx=1)\n",
              "  (1): EmbeddingDropout(\n",
              "    (emb): Embedding(37016, 400, padding_idx=1)\n",
              "  )\n",
              "), Sequential(\n",
              "  (0): WeightDropout(\n",
              "    (module): LSTM(400, 1152, batch_first=True)\n",
              "  )\n",
              "  (1): RNNDropout()\n",
              "), Sequential(\n",
              "  (0): WeightDropout(\n",
              "    (module): LSTM(1152, 1152, batch_first=True)\n",
              "  )\n",
              "  (1): RNNDropout()\n",
              "), Sequential(\n",
              "  (0): WeightDropout(\n",
              "    (module): LSTM(1152, 400, batch_first=True)\n",
              "  )\n",
              "  (1): RNNDropout()\n",
              "), Sequential(\n",
              "  (0): PoolingLinearClassifier(\n",
              "    (layers): Sequential(\n",
              "      (0): BatchNorm1d(1200, eps=1e-05, momentum=0.1, affine=True, track_running_stats=True)\n",
              "      (1): Dropout(p=0.12, inplace=False)\n",
              "      (2): Linear(in_features=1200, out_features=50, bias=True)\n",
              "      (3): ReLU(inplace=True)\n",
              "      (4): BatchNorm1d(50, eps=1e-05, momentum=0.1, affine=True, track_running_stats=True)\n",
              "      (5): Dropout(p=0.1, inplace=False)\n",
              "      (6): Linear(in_features=50, out_features=2, bias=True)\n",
              "    )\n",
              "  )\n",
              ")], add_time=True, silent=False)\n",
              "alpha: 2.0\n",
              "beta: 1.0, MixedPrecision\n",
              "learn: RNNLearner(data=TextClasDataBunch;\n",
              "\n",
              "Train: LabelList (160000 items)\n",
              "x: TextList\n",
              "xxbos xxmaj did n't like the fact the numbers were stitched on and the stitching started coming apart the first time out . xxmaj got a refund .,xxbos xxmaj while these did protect my carbon - soled shoes , they caused me considerable problems clipping in . i had ridden eggbeaters for many years before buying these . xxmaj clipping in was second nature . xxmaj after installing these , i found it next to impossible to clip in . \n",
              " \n",
              "  xxmaj my method : \n",
              "  - xxmaj reach down , touch the pedal with my foot , toe slightly up \n",
              "  - pull foot back , hooking the back of the cleat in the pedal \n",
              "  - press down to fully engage \n",
              " \n",
              "  xxmaj all this happens quickly , while pedaling . xxmaj with these , my \" pull back \" hooks the pedal on the edge of the shield , instead of the cleat . \n",
              " \n",
              "  xxmaj it 's not necessarily a bad product , just not for me .,xxbos xxmaj mine was another roller cut in half . i could have done that myself - wanted something that looked more finished . xxmaj returned it to the company with the xxup rma number and i do n't think that my refund ever showed up . i do n't care enough to chase them , but ca n't recommend the product or the seller .,xxbos i have to agree with xxmaj plachno on this one , but for a different reason . xxmaj these goggles fit my face very well and are very clear in the water --- at least for a brief time . i bought these only 4 weeks ago and have used at the indoor pool 6 times . xxmaj the last time , they began to fog up as soon as i got in the water . xxmaj the water was xxup not warm , as it was the regular lap pool . xxmaj each time i got to the end of the lane , i had to remover the goggles and rinse them off . xxmaj this gets extremely annoying when you 're trying to swim laps . xxmaj so , i took the advise of the customer , xxmaj alex , who presumably works for xxmaj speedo , as he said to contact \" us . \" xxmaj like xxmaj plachno , i made an attempt to contact speedo and received no response whatsoever . xxmaj sounds like this company definitely xxup does xxup not stand behind its products . i will be returning these and looking for goggles from a company that cares more about customer service . xxmaj really a shame , as i liked these quite a bit and no goggle should fog up after only 6 uses .,xxbos xxmaj second pair i have , this pair has an elastic band around the bottom of the leg that cuts into the flesh , poor design and not like a previous pair i have . xxmaj ca n't see it in the photo so how would you know .\n",
              "y: CategoryList\n",
              "0,0,0,0,0\n",
              "Path: /content/drive/My Drive/data/amazon;\n",
              "\n",
              "Valid: LabelList (40000 items)\n",
              "x: TextList\n",
              "xxbos xxmaj piece of crap ! xxmaj do n't buy ! xxmaj it hardly works for round balloons and does n't work at all for twisting balloons . xxmaj motor heats up very fast and gives off a burning smell . i will be sending back .,xxbos xxmaj tiny net !,xxbos i received the product box was sealed but i missing the hooks that come with it . xxmaj there was also a couple screws that were missing and after installing xxunk 's when i realized the stuff was missing,xxbos xxmaj missing pieces,xxbos xxmaj when i open the box the liner and cap were not included as they were supposed to be .. xxmaj upon examination i found that the top plate was just stamped sheet metal and not solid stainless steel as i expected . xxmaj the flange gasket did not fit up or line up properly . i returned them today and will buy another brand . xxmaj like always when you see a price this low you should expect to be disappointed , i sure was .\n",
              "y: CategoryList\n",
              "0,0,0,0,0\n",
              "Path: /content/drive/My Drive/data/amazon;\n",
              "\n",
              "Test: None, model=SequentialRNN(\n",
              "  (0): MultiBatchEncoder(\n",
              "    (module): AWD_LSTM(\n",
              "      (encoder): Embedding(37016, 400, padding_idx=1)\n",
              "      (encoder_dp): EmbeddingDropout(\n",
              "        (emb): Embedding(37016, 400, padding_idx=1)\n",
              "      )\n",
              "      (rnns): ModuleList(\n",
              "        (0): WeightDropout(\n",
              "          (module): LSTM(400, 1152, batch_first=True)\n",
              "        )\n",
              "        (1): WeightDropout(\n",
              "          (module): LSTM(1152, 1152, batch_first=True)\n",
              "        )\n",
              "        (2): WeightDropout(\n",
              "          (module): LSTM(1152, 400, batch_first=True)\n",
              "        )\n",
              "      )\n",
              "      (input_dp): RNNDropout()\n",
              "      (hidden_dps): ModuleList(\n",
              "        (0): RNNDropout()\n",
              "        (1): RNNDropout()\n",
              "        (2): RNNDropout()\n",
              "      )\n",
              "    )\n",
              "  )\n",
              "  (1): PoolingLinearClassifier(\n",
              "    (layers): Sequential(\n",
              "      (0): BatchNorm1d(1200, eps=1e-05, momentum=0.1, affine=True, track_running_stats=True)\n",
              "      (1): Dropout(p=0.12, inplace=False)\n",
              "      (2): Linear(in_features=1200, out_features=50, bias=True)\n",
              "      (3): ReLU(inplace=True)\n",
              "      (4): BatchNorm1d(50, eps=1e-05, momentum=0.1, affine=True, track_running_stats=True)\n",
              "      (5): Dropout(p=0.1, inplace=False)\n",
              "      (6): Linear(in_features=50, out_features=2, bias=True)\n",
              "    )\n",
              "  )\n",
              "), opt_func=functools.partial(<class 'torch.optim.adam.Adam'>, betas=(0.9, 0.99)), loss_func=FlattenedLoss of CrossEntropyLoss(), metrics=[<function accuracy at 0x7f12080cb9d8>], true_wd=True, bn_wd=True, wd=0.01, train_bn=True, path=PosixPath('/content/drive/My Drive/data/amazon'), model_dir='models', callback_fns=[functools.partial(<class 'fastai.basic_train.Recorder'>, add_time=True, silent=False)], callbacks=[...], layer_groups=[Sequential(\n",
              "  (0): Embedding(37016, 400, padding_idx=1)\n",
              "  (1): EmbeddingDropout(\n",
              "    (emb): Embedding(37016, 400, padding_idx=1)\n",
              "  )\n",
              "), Sequential(\n",
              "  (0): WeightDropout(\n",
              "    (module): LSTM(400, 1152, batch_first=True)\n",
              "  )\n",
              "  (1): RNNDropout()\n",
              "), Sequential(\n",
              "  (0): WeightDropout(\n",
              "    (module): LSTM(1152, 1152, batch_first=True)\n",
              "  )\n",
              "  (1): RNNDropout()\n",
              "), Sequential(\n",
              "  (0): WeightDropout(\n",
              "    (module): LSTM(1152, 400, batch_first=True)\n",
              "  )\n",
              "  (1): RNNDropout()\n",
              "), Sequential(\n",
              "  (0): PoolingLinearClassifier(\n",
              "    (layers): Sequential(\n",
              "      (0): BatchNorm1d(1200, eps=1e-05, momentum=0.1, affine=True, track_running_stats=True)\n",
              "      (1): Dropout(p=0.12, inplace=False)\n",
              "      (2): Linear(in_features=1200, out_features=50, bias=True)\n",
              "      (3): ReLU(inplace=True)\n",
              "      (4): BatchNorm1d(50, eps=1e-05, momentum=0.1, affine=True, track_running_stats=True)\n",
              "      (5): Dropout(p=0.1, inplace=False)\n",
              "      (6): Linear(in_features=50, out_features=2, bias=True)\n",
              "    )\n",
              "  )\n",
              ")], add_time=True, silent=False)\n",
              "loss_scale: 65536\n",
              "max_noskip: 1000\n",
              "dynamic: True\n",
              "clip: None\n",
              "flat_master: False\n",
              "max_scale: 16777216\n",
              "loss_fp32: True], layer_groups=[Sequential(\n",
              "  (0): Embedding(37016, 400, padding_idx=1)\n",
              "  (1): EmbeddingDropout(\n",
              "    (emb): Embedding(37016, 400, padding_idx=1)\n",
              "  )\n",
              "), Sequential(\n",
              "  (0): WeightDropout(\n",
              "    (module): LSTM(400, 1152, batch_first=True)\n",
              "  )\n",
              "  (1): RNNDropout()\n",
              "), Sequential(\n",
              "  (0): WeightDropout(\n",
              "    (module): LSTM(1152, 1152, batch_first=True)\n",
              "  )\n",
              "  (1): RNNDropout()\n",
              "), Sequential(\n",
              "  (0): WeightDropout(\n",
              "    (module): LSTM(1152, 400, batch_first=True)\n",
              "  )\n",
              "  (1): RNNDropout()\n",
              "), Sequential(\n",
              "  (0): PoolingLinearClassifier(\n",
              "    (layers): Sequential(\n",
              "      (0): BatchNorm1d(1200, eps=1e-05, momentum=0.1, affine=True, track_running_stats=True)\n",
              "      (1): Dropout(p=0.12, inplace=False)\n",
              "      (2): Linear(in_features=1200, out_features=50, bias=True)\n",
              "      (3): ReLU(inplace=True)\n",
              "      (4): BatchNorm1d(50, eps=1e-05, momentum=0.1, affine=True, track_running_stats=True)\n",
              "      (5): Dropout(p=0.1, inplace=False)\n",
              "      (6): Linear(in_features=50, out_features=2, bias=True)\n",
              "    )\n",
              "  )\n",
              ")], add_time=True, silent=False)"
            ]
          },
          "metadata": {
            "tags": []
          },
          "execution_count": 15
        }
      ]
    },
    {
      "cell_type": "code",
      "metadata": {
        "id": "kaRGGSeWR_Vb",
        "colab_type": "code",
        "colab": {}
      },
      "source": [
        "from sklearn.metrics import f1_score\n",
        "\n",
        "\n",
        "@np_func\n",
        "def f1(inp,targ): return f1_score(targ, np.argmax(inp, axis=-1))\n",
        "\n"
      ],
      "execution_count": 0,
      "outputs": []
    },
    {
      "cell_type": "code",
      "metadata": {
        "id": "GcfvOQL6Ehl8",
        "colab_type": "code",
        "outputId": "80e0464c-084f-4498-b48d-c6e1ed41a443",
        "colab": {
          "base_uri": "https://localhost:8080/",
          "height": 112
        }
      },
      "source": [
        "learn_c.lr_find()"
      ],
      "execution_count": 13,
      "outputs": [
        {
          "output_type": "display_data",
          "data": {
            "text/html": [
              "\n",
              "    <div>\n",
              "        <style>\n",
              "            /* Turns off some styling */\n",
              "            progress {\n",
              "                /* gets rid of default border in Firefox and Opera. */\n",
              "                border: none;\n",
              "                /* Needs to be in here for Safari polyfill so background images work as expected. */\n",
              "                background-size: auto;\n",
              "            }\n",
              "            .progress-bar-interrupted, .progress-bar-interrupted::-webkit-progress-bar {\n",
              "                background: #F44336;\n",
              "            }\n",
              "        </style>\n",
              "      <progress value='0' class='' max='1' style='width:300px; height:20px; vertical-align: middle;'></progress>\n",
              "      0.00% [0/1 00:00<00:00]\n",
              "    </div>\n",
              "    \n",
              "<table border=\"1\" class=\"dataframe\">\n",
              "  <thead>\n",
              "    <tr style=\"text-align: left;\">\n",
              "      <th>epoch</th>\n",
              "      <th>train_loss</th>\n",
              "      <th>valid_loss</th>\n",
              "      <th>accuracy</th>\n",
              "      <th>time</th>\n",
              "    </tr>\n",
              "  </thead>\n",
              "  <tbody>\n",
              "  </tbody>\n",
              "</table><p>\n",
              "\n",
              "    <div>\n",
              "        <style>\n",
              "            /* Turns off some styling */\n",
              "            progress {\n",
              "                /* gets rid of default border in Firefox and Opera. */\n",
              "                border: none;\n",
              "                /* Needs to be in here for Safari polyfill so background images work as expected. */\n",
              "                background-size: auto;\n",
              "            }\n",
              "            .progress-bar-interrupted, .progress-bar-interrupted::-webkit-progress-bar {\n",
              "                background: #F44336;\n",
              "            }\n",
              "        </style>\n",
              "      <progress value='94' class='' max='3333' style='width:300px; height:20px; vertical-align: middle;'></progress>\n",
              "      2.82% [94/3333 00:11<06:23 1.4397]\n",
              "    </div>\n",
              "    "
            ],
            "text/plain": [
              "<IPython.core.display.HTML object>"
            ]
          },
          "metadata": {
            "tags": []
          }
        },
        {
          "output_type": "stream",
          "text": [
            "LR Finder is complete, type {learner_name}.recorder.plot() to see the graph.\n"
          ],
          "name": "stdout"
        }
      ]
    },
    {
      "cell_type": "code",
      "metadata": {
        "id": "4HG9SqTeEhl_",
        "colab_type": "code",
        "outputId": "512d6591-da1a-45f7-9892-47adb33763e1",
        "colab": {
          "base_uri": "https://localhost:8080/",
          "height": 279
        }
      },
      "source": [
        "learn_c.recorder.plot()"
      ],
      "execution_count": 14,
      "outputs": [
        {
          "output_type": "display_data",
          "data": {
            "image/png": "[encoded data removed]",
            "text/plain": [
              "<Figure size 432x288 with 1 Axes>"
            ]
          },
          "metadata": {
            "tags": [],
            "needs_background": "light"
          }
        }
      ]
    },
    {
      "cell_type": "code",
      "metadata": {
        "id": "Tv_DluiNEhmA",
        "colab_type": "code",
        "outputId": "26ead40b-f954-432a-c4b1-bd79deb64601",
        "colab": {
          "base_uri": "https://localhost:8080/",
          "height": 111
        }
      },
      "source": [
        "learn_c.fit_one_cycle(2, 2e-3, moms=(0.8,0.7))"
      ],
      "execution_count": 15,
      "outputs": [
        {
          "output_type": "display_data",
          "data": {
            "text/html": [
              "<table border=\"1\" class=\"dataframe\">\n",
              "  <thead>\n",
              "    <tr style=\"text-align: left;\">\n",
              "      <th>epoch</th>\n",
              "      <th>train_loss</th>\n",
              "      <th>valid_loss</th>\n",
              "      <th>accuracy</th>\n",
              "      <th>time</th>\n",
              "    </tr>\n",
              "  </thead>\n",
              "  <tbody>\n",
              "    <tr>\n",
              "      <td>0</td>\n",
              "      <td>0.259858</td>\n",
              "      <td>0.211440</td>\n",
              "      <td>0.915225</td>\n",
              "      <td>03:24</td>\n",
              "    </tr>\n",
              "    <tr>\n",
              "      <td>1</td>\n",
              "      <td>0.253027</td>\n",
              "      <td>0.201993</td>\n",
              "      <td>0.919550</td>\n",
              "      <td>03:39</td>\n",
              "    </tr>\n",
              "  </tbody>\n",
              "</table>"
            ],
            "text/plain": [
              "<IPython.core.display.HTML object>"
            ]
          },
          "metadata": {
            "tags": []
          }
        }
      ]
    },
    {
      "cell_type": "code",
      "metadata": {
        "id": "OesVGRLsjEUi",
        "colab_type": "code",
        "colab": {}
      },
      "source": [
        "learn_c.save('first')"
      ],
      "execution_count": 0,
      "outputs": []
    },
    {
      "cell_type": "code",
      "metadata": {
        "id": "RiRqBhfintjh",
        "colab_type": "code",
        "colab": {}
      },
      "source": [
        "learn_c.load('first');"
      ],
      "execution_count": 0,
      "outputs": []
    },
    {
      "cell_type": "code",
      "metadata": {
        "id": "okXG4_2v1YKo",
        "colab_type": "code",
        "colab": {}
      },
      "source": [
        ""
      ],
      "execution_count": 0,
      "outputs": []
    },
    {
      "cell_type": "code",
      "metadata": {
        "id": "eaIC1C7tEhma",
        "colab_type": "code",
        "outputId": "e0d854b5-b90d-49ba-cf24-89727d28e2a5",
        "colab": {
          "base_uri": "https://localhost:8080/",
          "height": 111
        }
      },
      "source": [
        "learn_c.freeze_to(-2)\n",
        "learn_c.fit_one_cycle(2, slice(1e-3/(2.6**4),1e-3), moms=(0.8,0.7))"
      ],
      "execution_count": 18,
      "outputs": [
        {
          "output_type": "display_data",
          "data": {
            "text/html": [
              "<table border=\"1\" class=\"dataframe\">\n",
              "  <thead>\n",
              "    <tr style=\"text-align: left;\">\n",
              "      <th>epoch</th>\n",
              "      <th>train_loss</th>\n",
              "      <th>valid_loss</th>\n",
              "      <th>accuracy</th>\n",
              "      <th>time</th>\n",
              "    </tr>\n",
              "  </thead>\n",
              "  <tbody>\n",
              "    <tr>\n",
              "      <td>0</td>\n",
              "      <td>0.236621</td>\n",
              "      <td>0.182684</td>\n",
              "      <td>0.926850</td>\n",
              "      <td>04:26</td>\n",
              "    </tr>\n",
              "    <tr>\n",
              "      <td>1</td>\n",
              "      <td>0.202866</td>\n",
              "      <td>0.172497</td>\n",
              "      <td>0.933475</td>\n",
              "      <td>03:58</td>\n",
              "    </tr>\n",
              "  </tbody>\n",
              "</table>"
            ],
            "text/plain": [
              "<IPython.core.display.HTML object>"
            ]
          },
          "metadata": {
            "tags": []
          }
        }
      ]
    },
    {
      "cell_type": "code",
      "metadata": {
        "id": "d7k8UdWHEhmi",
        "colab_type": "code",
        "outputId": "d13b58aa-e0fb-44ce-f8ec-0a8a9c1eae38",
        "colab": {
          "base_uri": "https://localhost:8080/",
          "height": 111
        }
      },
      "source": [
        "learn_c.freeze_to(-3)\n",
        "learn_c.fit_one_cycle(2, slice(5e-3/(2.6**4),5e-3), moms=(0.8,0.7))"
      ],
      "execution_count": 19,
      "outputs": [
        {
          "output_type": "display_data",
          "data": {
            "text/html": [
              "<table border=\"1\" class=\"dataframe\">\n",
              "  <thead>\n",
              "    <tr style=\"text-align: left;\">\n",
              "      <th>epoch</th>\n",
              "      <th>train_loss</th>\n",
              "      <th>valid_loss</th>\n",
              "      <th>accuracy</th>\n",
              "      <th>time</th>\n",
              "    </tr>\n",
              "  </thead>\n",
              "  <tbody>\n",
              "    <tr>\n",
              "      <td>0</td>\n",
              "      <td>0.187634</td>\n",
              "      <td>0.171542</td>\n",
              "      <td>0.933200</td>\n",
              "      <td>05:46</td>\n",
              "    </tr>\n",
              "    <tr>\n",
              "      <td>1</td>\n",
              "      <td>0.140232</td>\n",
              "      <td>0.145238</td>\n",
              "      <td>0.945775</td>\n",
              "      <td>06:39</td>\n",
              "    </tr>\n",
              "  </tbody>\n",
              "</table>"
            ],
            "text/plain": [
              "<IPython.core.display.HTML object>"
            ]
          },
          "metadata": {
            "tags": []
          }
        }
      ]
    },
    {
      "cell_type": "code",
      "metadata": {
        "id": "3pIMrs9lEhmr",
        "colab_type": "code",
        "outputId": "a8040c61-0c29-4392-c73a-fa29e9b765d8",
        "colab": {
          "base_uri": "https://localhost:8080/",
          "height": 80
        }
      },
      "source": [
        "learn_c.unfreeze()\n",
        "learn_c.fit_one_cycle(1, slice(1e-3/(2.6**4),1e-3), moms=(0.8,0.7))"
      ],
      "execution_count": 20,
      "outputs": [
        {
          "output_type": "display_data",
          "data": {
            "text/html": [
              "<table border=\"1\" class=\"dataframe\">\n",
              "  <thead>\n",
              "    <tr style=\"text-align: left;\">\n",
              "      <th>epoch</th>\n",
              "      <th>train_loss</th>\n",
              "      <th>valid_loss</th>\n",
              "      <th>accuracy</th>\n",
              "      <th>time</th>\n",
              "    </tr>\n",
              "  </thead>\n",
              "  <tbody>\n",
              "    <tr>\n",
              "      <td>0</td>\n",
              "      <td>0.107461</td>\n",
              "      <td>0.148461</td>\n",
              "      <td>0.947000</td>\n",
              "      <td>08:40</td>\n",
              "    </tr>\n",
              "  </tbody>\n",
              "</table>"
            ],
            "text/plain": [
              "<IPython.core.display.HTML object>"
            ]
          },
          "metadata": {
            "tags": []
          }
        }
      ]
    },
    {
      "cell_type": "code",
      "metadata": {
        "id": "j09AP3l7Yj8X",
        "colab_type": "code",
        "colab": {}
      },
      "source": [
        "learn_c.save('final_class')"
      ],
      "execution_count": 0,
      "outputs": []
    },
    {
      "cell_type": "code",
      "metadata": {
        "id": "9s-loNt8Ehms",
        "colab_type": "code",
        "outputId": "c15d8763-4424-43fc-d4eb-f2ba49027931",
        "colab": {
          "base_uri": "https://localhost:8080/",
          "height": 34
        }
      },
      "source": [
        "learn_c.predict(\"I will not buy it again!\")"
      ],
      "execution_count": 22,
      "outputs": [
        {
          "output_type": "execute_result",
          "data": {
            "text/plain": [
              "(Category tensor(0), tensor(0), tensor([0.9983, 0.0017]))"
            ]
          },
          "metadata": {
            "tags": []
          },
          "execution_count": 22
        }
      ]
    },
    {
      "cell_type": "code",
      "metadata": {
        "id": "sCh0NRwstPtj",
        "colab_type": "code",
        "outputId": "6c51b75f-277c-4992-99c9-b7a895f900e8",
        "colab": {
          "base_uri": "https://localhost:8080/",
          "height": 34
        }
      },
      "source": [
        "preds,targs = learn_c.get_preds(ordered=True)\n",
        "accuracy(preds,targs),f1(preds,targs)"
      ],
      "execution_count": 24,
      "outputs": [
        {
          "output_type": "display_data",
          "data": {
            "text/html": [
              ""
            ],
            "text/plain": [
              "<IPython.core.display.HTML object>"
            ]
          },
          "metadata": {
            "tags": []
          }
        },
        {
          "output_type": "execute_result",
          "data": {
            "text/plain": [
              "(tensor(0.9470), tensor(0.9467, dtype=torch.float64))"
            ]
          },
          "metadata": {
            "tags": []
          },
          "execution_count": 24
        }
      ]
    }
  ]
}
