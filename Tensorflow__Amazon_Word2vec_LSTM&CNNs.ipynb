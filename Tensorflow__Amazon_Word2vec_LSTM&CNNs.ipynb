{
  "nbformat": 4,
  "nbformat_minor": 0,
  "metadata": {
    "colab": {
      "name": "Tensorflow_ Amazon_Word2vec_LSTM&CNNs.ipynb",
      "provenance": [],
      "collapsed_sections": [],
      "mount_file_id": "1GGhcpgF7GRt5KdtwUMVcpQEyfLGZEzor",
      "authorship_tag": "ABX9TyNGG69d0GdDj8NrsrkSidTK",
      "include_colab_link": true
    },
    "kernelspec": {
      "name": "python3",
      "display_name": "Python 3"
    },
    "accelerator": "GPU"
  },
  "cells": [
    {
      "cell_type": "markdown",
      "metadata": {
        "id": "view-in-github",
        "colab_type": "text"
      },
      "source": [
        "<a href=\"https://colab.research.google.com/github/xia0405/Master-thesis-NLP/blob/master/Tensorflow__Amazon_Word2vec_LSTM%26CNNs.ipynb\" target=\"_parent\"><img src=\"https://colab.research.google.com/assets/colab-badge.svg\" alt=\"Open In Colab\"/></a>"
      ]
    },
    {
      "cell_type": "markdown",
      "metadata": {
        "id": "7Fsd76KyxfOs",
        "colab_type": "text"
      },
      "source": [
        "## In the next notebook I use modern deep leanring to do NLP, like pre-trained word-embeddings and neural networks to do sentiment analysis of Amazon reviews. "
      ]
    },
    {
      "cell_type": "code",
      "metadata": {
        "id": "8jrocJnSTfb4",
        "colab_type": "code",
        "colab": {}
      },
      "source": [
        "# import necessary libraries\n",
        "%reload_ext autoreload\n",
        "%autoreload 2\n",
        "%matplotlib inline"
      ],
      "execution_count": 0,
      "outputs": []
    },
    {
      "cell_type": "code",
      "metadata": {
        "id": "xSiBxXmyxajR",
        "colab_type": "code",
        "colab": {}
      },
      "source": [
        "import pandas as pd\n",
        "\n",
        "from gensim.models import KeyedVectors\n",
        "\n",
        "\n",
        "# sklearn modules\n",
        "from sklearn.metrics import accuracy_score,confusion_matrix\n",
        "\n",
        "# Visualization modules\n",
        "import matplotlib.pyplot as plt\n",
        "\n",
        "# tensorflow\n",
        "import tensorflow as tf\n",
        "from keras.callbacks import ModelCheckpoint\n",
        "\n",
        "from tensorflow import keras\n",
        "from keras.preprocessing import sequence\n",
        "\n",
        "from keras.models import Sequential, load_model\n",
        "#from keras.layers.embeddings import Embedding\n",
        "from keras.layers.core import Flatten, Dense, Dropout\n",
        "from keras.layers.convolutional import Convolution1D, MaxPooling1D\n",
        "from keras.optimizers import Adam\n",
        "from keras.layers import Embedding, Bidirectional, LSTM, Dense, Dropout, Input"
      ],
      "execution_count": 0,
      "outputs": []
    },
    {
      "cell_type": "code",
      "metadata": {
        "id": "O080cDmL6AlN",
        "colab_type": "code",
        "colab": {}
      },
      "source": [
        "from fastai import *\n",
        "from fastai.text import *\n"
      ],
      "execution_count": 0,
      "outputs": []
    },
    {
      "cell_type": "code",
      "metadata": {
        "id": "e40aYxWt6tKP",
        "colab_type": "code",
        "colab": {}
      },
      "source": [
        "# define the plot function to see the accuracy or loss along with training\n",
        "def plot_graphs(history, metric):\n",
        "  plt.plot(history.history[metric])\n",
        "  plt.plot(history.history['val_'+metric], '')\n",
        "  plt.xlabel(\"Epochs\")\n",
        "  plt.ylabel(metric)\n",
        "  plt.legend([metric, 'val_'+metric])\n",
        "  plt.show()"
      ],
      "execution_count": 0,
      "outputs": []
    },
    {
      "cell_type": "markdown",
      "metadata": {
        "id": "6-HCCXr0ZsTL",
        "colab_type": "text"
      },
      "source": [
        "### Load the data"
      ]
    },
    {
      "cell_type": "code",
      "metadata": {
        "id": "-VVcILTWxagi",
        "colab_type": "code",
        "outputId": "d2c65b60-540c-4f65-cc88-d0a247934751",
        "colab": {
          "base_uri": "https://localhost:8080/",
          "height": 187
        }
      },
      "source": [
        "path = Path('/content/drive/My Drive/data/amazon')\n",
        "path.mkdir(parents=True, exist_ok=True)\n",
        "path.ls()"
      ],
      "execution_count": 0,
      "outputs": [
        {
          "output_type": "execute_result",
          "data": {
            "text/plain": [
              "[PosixPath('/content/drive/My Drive/data/amazon/smallSample_Amazon.csv'),\n",
              " PosixPath('/content/drive/My Drive/data/amazon/polarity_reviews.csv'),\n",
              " PosixPath('/content/drive/My Drive/data/amazon/train.csv'),\n",
              " PosixPath('/content/drive/My Drive/data/amazon/test.csv'),\n",
              " PosixPath('/content/drive/My Drive/data/amazon/data_lm.pkl'),\n",
              " PosixPath('/content/drive/My Drive/data/amazon/models'),\n",
              " PosixPath('/content/drive/My Drive/data/amazon/data_clas.pkl'),\n",
              " PosixPath('/content/drive/My Drive/data/amazon/word2vec'),\n",
              " PosixPath('/content/drive/My Drive/data/amazon/accuracy_total.tsv'),\n",
              " PosixPath('/content/drive/My Drive/data/amazon/CONVmodel.h5')]"
            ]
          },
          "metadata": {
            "tags": []
          },
          "execution_count": 5
        }
      ]
    },
    {
      "cell_type": "code",
      "metadata": {
        "id": "-mI5wu2qbF7P",
        "colab_type": "code",
        "colab": {}
      },
      "source": [
        "EMBEDDING_FILE = path/'word2vec/GoogleNews-vectors-negative300.bin.gz'\n",
        "MODEL_SAVING_DIR = path/'word2vec/'\n",
        "LOG_DIR=\"/root/logs\""
      ],
      "execution_count": 0,
      "outputs": []
    },
    {
      "cell_type": "code",
      "metadata": {
        "id": "l4AuSfLKxCRy",
        "colab_type": "code",
        "outputId": "2f272c84-b2ac-4230-8039-3bdd4933da23",
        "colab": {
          "base_uri": "https://localhost:8080/",
          "height": 204
        }
      },
      "source": [
        "# read the data\n",
        "train = pd.read_csv(path/\"train.csv\")\n",
        "test = pd.read_csv(path/\"test.csv\")\n",
        "train.head()"
      ],
      "execution_count": 0,
      "outputs": [
        {
          "output_type": "execute_result",
          "data": {
            "text/html": [
              "<div>\n",
              "<style scoped>\n",
              "    .dataframe tbody tr th:only-of-type {\n",
              "        vertical-align: middle;\n",
              "    }\n",
              "\n",
              "    .dataframe tbody tr th {\n",
              "        vertical-align: top;\n",
              "    }\n",
              "\n",
              "    .dataframe thead th {\n",
              "        text-align: right;\n",
              "    }\n",
              "</style>\n",
              "<table border=\"1\" class=\"dataframe\">\n",
              "  <thead>\n",
              "    <tr style=\"text-align: right;\">\n",
              "      <th></th>\n",
              "      <th>overall</th>\n",
              "      <th>reviewText</th>\n",
              "    </tr>\n",
              "  </thead>\n",
              "  <tbody>\n",
              "    <tr>\n",
              "      <th>0</th>\n",
              "      <td>0</td>\n",
              "      <td>Didn't like the fact the numbers were stitched...</td>\n",
              "    </tr>\n",
              "    <tr>\n",
              "      <th>1</th>\n",
              "      <td>0</td>\n",
              "      <td>While these did protect my carbon-soled shoes,...</td>\n",
              "    </tr>\n",
              "    <tr>\n",
              "      <th>2</th>\n",
              "      <td>0</td>\n",
              "      <td>Mine was another roller cut in half. I could h...</td>\n",
              "    </tr>\n",
              "    <tr>\n",
              "      <th>3</th>\n",
              "      <td>0</td>\n",
              "      <td>I have to agree with Plachno on this one, but ...</td>\n",
              "    </tr>\n",
              "    <tr>\n",
              "      <th>4</th>\n",
              "      <td>0</td>\n",
              "      <td>Second pair I have, this pair has an elastic b...</td>\n",
              "    </tr>\n",
              "  </tbody>\n",
              "</table>\n",
              "</div>"
            ],
            "text/plain": [
              "   overall                                         reviewText\n",
              "0        0  Didn't like the fact the numbers were stitched...\n",
              "1        0  While these did protect my carbon-soled shoes,...\n",
              "2        0  Mine was another roller cut in half. I could h...\n",
              "3        0  I have to agree with Plachno on this one, but ...\n",
              "4        0  Second pair I have, this pair has an elastic b..."
            ]
          },
          "metadata": {
            "tags": []
          },
          "execution_count": 7
        }
      ]
    },
    {
      "cell_type": "code",
      "metadata": {
        "id": "ovWhEhLMzSFt",
        "colab_type": "code",
        "colab": {}
      },
      "source": [
        "# Seperate the input and labels X_train, y_train, X_test, y_test\n",
        "X_train, y_train = train['reviewText'].values, train['overall'].values\n",
        "X_test, y_test = test['reviewText'].values, test['overall'].values"
      ],
      "execution_count": 0,
      "outputs": []
    },
    {
      "cell_type": "code",
      "metadata": {
        "id": "V5YxjSNEDFdj",
        "colab_type": "code",
        "outputId": "1c326268-3ecd-49f3-fc7c-4268c8f76108",
        "colab": {
          "base_uri": "https://localhost:8080/",
          "height": 85
        }
      },
      "source": [
        "# print the dimensions \n",
        "print(f\"X_train length: {len(X_train)}\\ny_train length: {len(y_train)} \\nX_test length: {len(X_test)}\\ny_test length: {len(y_test)}\")"
      ],
      "execution_count": 0,
      "outputs": [
        {
          "output_type": "stream",
          "text": [
            "X_train length: 160000\n",
            "y_train length: 160000 \n",
            "X_test length: 40000\n",
            "y_test length: 40000\n"
          ],
          "name": "stdout"
        }
      ]
    },
    {
      "cell_type": "markdown",
      "metadata": {
        "id": "rh9YNBaD1d7b",
        "colab_type": "text"
      },
      "source": [
        "### Tokenization\n",
        "I use the [**fastai** tokenizer ](https://docs.fast.ai/text.transform.html#Tokenizer) which is based on the powerful Spacy tokenizer.  \n",
        "**The reason to use default fastai tokenizer is to maintain the same tokenization to compare the performances of the approaches fairly.**  \n",
        "`defaults.text_pre_rules = [fix_html, replace_rep, replace_wrep, spec_add_spaces, rm_useless_spaces]`\n"
      ]
    },
    {
      "cell_type": "code",
      "metadata": {
        "id": "Knu1WRwo1Ne0",
        "colab_type": "code",
        "colab": {}
      },
      "source": [
        "tokenizer_fastai = Tokenizer()\n",
        "# preprocess the reviews using class Tokenizer\n",
        "tokens_train = tokenizer_fastai.process_all(X_train)\n",
        "tokens_test = tokenizer_fastai.process_all(X_test)\n",
        "\n",
        "# put tokens back to a sentence \n",
        "X_train = [' '.join(tokens_train[x]) for x in range(len(tokens_train))]\n",
        "X_test = [' '.join(tokens_test[x]) for x in range(len(tokens_test))]"
      ],
      "execution_count": 0,
      "outputs": []
    },
    {
      "cell_type": "code",
      "metadata": {
        "id": "ZKriZ3f095zX",
        "colab_type": "code",
        "outputId": "d4c7cd45-4f79-4910-805c-6dfc09c44bc6",
        "colab": {
          "base_uri": "https://localhost:8080/",
          "height": 88
        }
      },
      "source": [
        "X_train[:3]"
      ],
      "execution_count": 0,
      "outputs": [
        {
          "output_type": "execute_result",
          "data": {
            "text/plain": [
              "[\"xxmaj did n't like the fact the numbers were stitched on and the stitching started coming apart the first time out . xxmaj got a refund .\",\n",
              " 'xxmaj while these did protect my carbon - soled shoes , they caused me considerable problems clipping in . i had ridden eggbeaters for many years before buying these . xxmaj clipping in was second nature . xxmaj after installing these , i found it next to impossible to clip in . \\n \\n  xxmaj my method : \\n  - xxmaj reach down , touch the pedal with my foot , toe slightly up \\n  - pull foot back , hooking the back of the cleat in the pedal \\n  - press down to fully engage \\n \\n  xxmaj all this happens quickly , while pedaling . xxmaj with these , my \" pull back \" hooks the pedal on the edge of the shield , instead of the cleat . \\n \\n  xxmaj it \\'s not necessarily a bad product , just not for me .',\n",
              " \"xxmaj mine was another roller cut in half . i could have done that myself - wanted something that looked more finished . xxmaj returned it to the company with the xxup rma number and i do n't think that my refund ever showed up . i do n't care enough to chase them , but ca n't recommend the product or the seller .\"]"
            ]
          },
          "metadata": {
            "tags": []
          },
          "execution_count": 13
        }
      ]
    },
    {
      "cell_type": "markdown",
      "metadata": {
        "id": "uSsLUk_J-Hs9",
        "colab_type": "text"
      },
      "source": [
        "**Special tokens**:\n",
        "All those tokens starting with \"xx\" are fastai special tokens.  You can see the list of all of them and their meanings ([in the fastai docs](https://docs.fast.ai/text.transform.html)): "
      ]
    },
    {
      "cell_type": "markdown",
      "metadata": {
        "id": "bjFCIbTLk-Gp",
        "colab_type": "text"
      },
      "source": [
        "\n",
        "---\n",
        "\n"
      ]
    },
    {
      "cell_type": "markdown",
      "metadata": {
        "id": "7GHVGtMp4JL_",
        "colab_type": "text"
      },
      "source": [
        "### Numericalization "
      ]
    },
    {
      "cell_type": "code",
      "metadata": {
        "id": "LvofoAUzgkIW",
        "colab_type": "code",
        "colab": {}
      },
      "source": [
        "# create vocabulary fom Vocab class ###https://docs.fast.ai/text.transform.html#Vocab.create\n",
        "max_vocab=10000\n",
        "vocab = Vocab.create(tokens_train, max_vocab=max_vocab, min_freq=5) "
      ],
      "execution_count": 0,
      "outputs": []
    },
    {
      "cell_type": "code",
      "metadata": {
        "id": "bdKJJ3rBiisc",
        "colab_type": "code",
        "outputId": "290527fc-283f-46a2-b674-ffb4109d48f6",
        "colab": {
          "base_uri": "https://localhost:8080/",
          "height": 34
        }
      },
      "source": [
        "#dict(vocab.stoi)\n",
        "len(vocab.stoi)"
      ],
      "execution_count": 0,
      "outputs": [
        {
          "output_type": "execute_result",
          "data": {
            "text/plain": [
              "10000"
            ]
          },
          "metadata": {
            "tags": []
          },
          "execution_count": 15
        }
      ]
    },
    {
      "cell_type": "code",
      "metadata": {
        "id": "U_6sK_aL4aTk",
        "colab_type": "code",
        "colab": {}
      },
      "source": [
        "X_train = [vocab.numericalize(s.split()) for s in X_train]\n",
        "X_test = [vocab.numericalize(s.split()) for s in X_test]"
      ],
      "execution_count": 0,
      "outputs": []
    },
    {
      "cell_type": "code",
      "metadata": {
        "id": "84UTq9NG6Whm",
        "colab_type": "code",
        "outputId": "49cfa8ea-4139-4426-cc0c-0a070d4df5f0",
        "colab": {
          "base_uri": "https://localhost:8080/",
          "height": 34
        }
      },
      "source": [
        "print(X_train[0])"
      ],
      "execution_count": 0,
      "outputs": [
        {
          "output_type": "stream",
          "text": [
            "[5, 76, 29, 50, 10, 559, 10, 2227, 113, 2619, 24, 15, 10, 855, 401, 711, 385, 10, 114, 87, 53, 9, 5, 121, 14, 772, 9]\n"
          ],
          "name": "stdout"
        }
      ]
    },
    {
      "cell_type": "markdown",
      "metadata": {
        "id": "ueQB_0hjfjUR",
        "colab_type": "text"
      },
      "source": [
        "Look at distribution of lengths of sentences.\n"
      ]
    },
    {
      "cell_type": "code",
      "metadata": {
        "id": "UgNfob8XfWKP",
        "colab_type": "code",
        "colab": {}
      },
      "source": [
        "lens = np.array([len(review) for review in X_train])"
      ],
      "execution_count": 0,
      "outputs": []
    },
    {
      "cell_type": "code",
      "metadata": {
        "id": "KgxP3yA-fbgK",
        "colab_type": "code",
        "outputId": "227b8e3f-c216-4101-f4d7-8a3931918b3c",
        "colab": {
          "base_uri": "https://localhost:8080/",
          "height": 34
        }
      },
      "source": [
        "len(X_train[0])"
      ],
      "execution_count": 0,
      "outputs": [
        {
          "output_type": "execute_result",
          "data": {
            "text/plain": [
              "27"
            ]
          },
          "metadata": {
            "tags": []
          },
          "execution_count": 21
        }
      ]
    },
    {
      "cell_type": "code",
      "metadata": {
        "id": "1zruquJhfeQ6",
        "colab_type": "code",
        "outputId": "064e722d-22b1-4f7d-89d9-74a909032868",
        "colab": {
          "base_uri": "https://localhost:8080/",
          "height": 34
        }
      },
      "source": [
        "(lens.max(), lens.min(), lens.mean())"
      ],
      "execution_count": 0,
      "outputs": [
        {
          "output_type": "execute_result",
          "data": {
            "text/plain": [
              "(3292, 1, 66.77198125)"
            ]
          },
          "metadata": {
            "tags": []
          },
          "execution_count": 22
        }
      ]
    },
    {
      "cell_type": "markdown",
      "metadata": {
        "id": "WHSQp0EUfqlo",
        "colab_type": "text"
      },
      "source": [
        "The max length of a review is 3292 while the average length of reviews is 67."
      ]
    },
    {
      "cell_type": "markdown",
      "metadata": {
        "id": "rtxWmw_cFdV9",
        "colab_type": "text"
      },
      "source": [
        "##### Import word2vec\n",
        "\n",
        "Embeddings are stored as a |V|×D matrix, where |V| is the lenght of vocabulary and D is the dimensionality of the embeddings, such that the word assigned index i has its embedding stored in the i’th row of the matrix."
      ]
    },
    {
      "cell_type": "code",
      "metadata": {
        "id": "Lp3eWDoieFU6",
        "colab_type": "code",
        "outputId": "0b146a5e-3dcb-4c30-b315-6a33fc6c6f8a",
        "colab": {
          "base_uri": "https://localhost:8080/",
          "height": 71
        }
      },
      "source": [
        "# Import pre-trained google word2vec embeddings\n",
        "word2vec = KeyedVectors.load_word2vec_format(EMBEDDING_FILE, binary=True)"
      ],
      "execution_count": 0,
      "outputs": [
        {
          "output_type": "stream",
          "text": [
            "/usr/local/lib/python3.6/dist-packages/smart_open/smart_open_lib.py:253: UserWarning: This function is deprecated, use smart_open.open instead. See the migration notes for details: https://github.com/RaRe-Technologies/smart_open/blob/master/README.rst#migrating-to-the-new-open-function\n",
            "  'See the migration notes for details: %s' % _MIGRATION_NOTES_URL\n"
          ],
          "name": "stderr"
        }
      ]
    },
    {
      "cell_type": "code",
      "metadata": {
        "id": "x_iglTtIz5jO",
        "colab_type": "code",
        "colab": {}
      },
      "source": [
        "embedding_dim = 300\n",
        "\n",
        "def create_emb():\n",
        "  embeddings = np.zeros((max_vocab, embedding_dim))\n",
        "  # Build the embedding matrix\n",
        "  for word, index in vocab.stoi.items():\n",
        "    if word in word2vec.vocab:\n",
        "        embeddings[index] = word2vec.word_vec(word)\n",
        "    else:\n",
        "        # If we can't find the word in word2vec, randomly initialize\n",
        "        embeddings[index] = np.random.normal(scale=0.6, size=(embedding_dim,))\n",
        "  return embeddings\n",
        "\n",
        "\n",
        "embeddings = create_emb()"
      ],
      "execution_count": 0,
      "outputs": []
    },
    {
      "cell_type": "code",
      "metadata": {
        "id": "jjztkLTX1ofu",
        "colab_type": "code",
        "outputId": "0da4e81d-6591-431a-db56-41731dd2c3be",
        "colab": {
          "base_uri": "https://localhost:8080/",
          "height": 34
        }
      },
      "source": [
        "embeddings.shape"
      ],
      "execution_count": 0,
      "outputs": [
        {
          "output_type": "execute_result",
          "data": {
            "text/plain": [
              "(10000, 300)"
            ]
          },
          "metadata": {
            "tags": []
          },
          "execution_count": 24
        }
      ]
    },
    {
      "cell_type": "code",
      "metadata": {
        "id": "GOkL6KXixZza",
        "colab_type": "code",
        "outputId": "6cc551b0-cf20-4d38-d3a3-e9a7b9672583",
        "colab": {
          "base_uri": "https://localhost:8080/",
          "height": 170
        }
      },
      "source": [
        "[embeddings]"
      ],
      "execution_count": 0,
      "outputs": [
        {
          "output_type": "execute_result",
          "data": {
            "text/plain": [
              "[array([[ 0.511704,  0.166728,  0.558543, -0.004259, ..., -0.003976, -0.024881,  0.91207 , -1.088309],\n",
              "        [ 0.138319,  0.294926,  0.518487, -0.806896, ...,  0.059941, -0.918346,  0.956491,  0.102017],\n",
              "        [ 0.510431,  0.519116, -0.520446,  0.682543, ...,  0.400588,  1.900472,  0.049683,  1.679115],\n",
              "        [ 0.509402, -0.667268, -0.77839 , -0.111253, ..., -0.259485, -0.01718 , -0.689634, -0.239971],\n",
              "        ...,\n",
              "        [ 0.083984,  0.291016,  0.19043 , -0.125977, ..., -0.18457 , -0.083496,  0.160156,  0.058105],\n",
              "        [ 0.02002 ,  0.103027, -0.0354  ,  0.341797, ...,  0.292969,  0.18457 , -0.131836, -0.119629],\n",
              "        [ 0.07666 , -0.068848, -0.032715,  0.361328, ...,  0.11377 , -0.310547, -0.283203,  0.09082 ],\n",
              "        [ 0.047119, -0.014954,  0.050049, -0.170898, ...,  0.100098, -0.137695,  0.094727,  0.28125 ]])]"
            ]
          },
          "metadata": {
            "tags": []
          },
          "execution_count": 30
        }
      ]
    },
    {
      "cell_type": "markdown",
      "metadata": {
        "id": "IMDiuemFW8GB",
        "colab_type": "text"
      },
      "source": [
        "##### Load the X_train,X_test,y_train,y_test to tensorflow with tf.data.Dataset\n",
        "- convert texts to numbers  \n",
        "- pad sequence  \n",
        "In order to feed this data into our RNN, all input documents must have the same length. We will limit the maximum review length to max_words by truncating longer reviews and padding shorter reviews with a null value (0). We can accomplish this using the pad_sequences() function in Keras."
      ]
    },
    {
      "cell_type": "code",
      "metadata": {
        "id": "EVzfezDOoF9q",
        "colab_type": "code",
        "outputId": "1fa6ee89-7b69-4e5f-c057-11a76b5cfd51",
        "colab": {
          "base_uri": "https://localhost:8080/",
          "height": 85
        }
      },
      "source": [
        "MAX_SEQUENCE_LENGTH = 100\n",
        "train_data= sequence.pad_sequences(X_train, maxlen=MAX_SEQUENCE_LENGTH)\n",
        "train_labels = np.array(y_train)\n",
        "print('Shape of training data tensor:', train_data.shape)\n",
        "print('Shape of training label tensor:', train_labels.shape)\n",
        "\n",
        "test_data = sequence.pad_sequences(X_test, maxlen=MAX_SEQUENCE_LENGTH)\n",
        "test_labels = np.array(y_test)\n",
        "\n",
        "print('Shape of test data tensor:', test_data.shape)\n",
        "print('Shape of test label tensor:', test_labels.shape)"
      ],
      "execution_count": 0,
      "outputs": [
        {
          "output_type": "stream",
          "text": [
            "Shape of training data tensor: (160000, 100)\n",
            "Shape of training label tensor: (160000,)\n",
            "Shape of test data tensor: (40000, 100)\n",
            "Shape of test label tensor: (40000,)\n"
          ],
          "name": "stdout"
        }
      ]
    },
    {
      "cell_type": "markdown",
      "metadata": {
        "id": "UDBny1G29iG4",
        "colab_type": "text"
      },
      "source": [
        "## Train the model"
      ]
    },
    {
      "cell_type": "markdown",
      "metadata": {
        "id": "Onl2o6TLan0w",
        "colab_type": "text"
      },
      "source": [
        "Convolution is classically used to extract features from images.From the paper of Yoon Kim (2014, Convolutional Neural Networks for Sentence Classification) Conv speeds up quite a lot the training speed and the results are good. \n"
      ]
    },
    {
      "cell_type": "code",
      "metadata": {
        "id": "iXBPT_HS0iqb",
        "colab_type": "code",
        "outputId": "f5f57203-dd52-4f82-daaa-5f106f42f205",
        "colab": {
          "base_uri": "https://localhost:8080/",
          "height": 442
        }
      },
      "source": [
        "model = Sequential([\n",
        "    Embedding(max_vocab, embedding_dim, input_length=MAX_SEQUENCE_LENGTH, weights=[embeddings],trainable=False),\n",
        "    Convolution1D(64, 5, padding='same', activation='relu'),\n",
        "    Dropout(0.2),\n",
        "    MaxPooling1D(),\n",
        "    Flatten(),\n",
        "    Dense(100, activation='relu'),\n",
        "    Dropout(0.5),\n",
        "    Dense(1, activation='sigmoid')])\n",
        "\n",
        "print(model.summary())"
      ],
      "execution_count": 0,
      "outputs": [
        {
          "output_type": "stream",
          "text": [
            "Model: \"sequential_3\"\n",
            "_________________________________________________________________\n",
            "Layer (type)                 Output Shape              Param #   \n",
            "=================================================================\n",
            "embedding_3 (Embedding)      (None, 100, 300)          3000000   \n",
            "_________________________________________________________________\n",
            "conv1d_3 (Conv1D)            (None, 100, 64)           96064     \n",
            "_________________________________________________________________\n",
            "dropout_5 (Dropout)          (None, 100, 64)           0         \n",
            "_________________________________________________________________\n",
            "max_pooling1d_3 (MaxPooling1 (None, 50, 64)            0         \n",
            "_________________________________________________________________\n",
            "flatten_1 (Flatten)          (None, 3200)              0         \n",
            "_________________________________________________________________\n",
            "dense_5 (Dense)              (None, 100)               320100    \n",
            "_________________________________________________________________\n",
            "dropout_6 (Dropout)          (None, 100)               0         \n",
            "_________________________________________________________________\n",
            "dense_6 (Dense)              (None, 1)                 101       \n",
            "=================================================================\n",
            "Total params: 3,416,265\n",
            "Trainable params: 416,265\n",
            "Non-trainable params: 3,000,000\n",
            "_________________________________________________________________\n",
            "None\n"
          ],
          "name": "stdout"
        }
      ]
    },
    {
      "cell_type": "markdown",
      "metadata": {
        "id": "2Dyxdl9N3erD",
        "colab_type": "text"
      },
      "source": [
        "##### experiment 1:"
      ]
    },
    {
      "cell_type": "code",
      "metadata": {
        "id": "X3GVsTGk9lEV",
        "colab_type": "code",
        "colab": {}
      },
      "source": [
        "# compile the model\n",
        "model.compile(loss='binary_crossentropy', optimizer=Adam(), metrics=['accuracy'])"
      ],
      "execution_count": 0,
      "outputs": []
    },
    {
      "cell_type": "code",
      "metadata": {
        "id": "O4JNcnYt-JQh",
        "colab_type": "code",
        "colab": {}
      },
      "source": [
        "# to save the best model along training to avoid any interuption.\n",
        "bst_model_path = path/\"model.h5\"\n",
        "model_checkpoint = ModelCheckpoint(bst_model_path, save_best_only=True)"
      ],
      "execution_count": 0,
      "outputs": []
    },
    {
      "cell_type": "code",
      "metadata": {
        "id": "xVd_upmUC7l8",
        "colab_type": "code",
        "outputId": "bafd785a-6a15-49ba-e8de-223b0f50e111",
        "colab": {
          "base_uri": "https://localhost:8080/",
          "height": 34
        }
      },
      "source": [
        "optimizer._decayed_lr(tf.float32)\n"
      ],
      "execution_count": 0,
      "outputs": [
        {
          "output_type": "execute_result",
          "data": {
            "text/plain": [
              "<tf.Tensor: shape=(), dtype=float32, numpy=0.0007684335>"
            ]
          },
          "metadata": {
            "tags": []
          },
          "execution_count": 106
        }
      ]
    },
    {
      "cell_type": "code",
      "metadata": {
        "id": "t8UC5xdzBEZT",
        "colab_type": "code",
        "outputId": "fd7df56b-216c-4583-ae60-4b13252b6552",
        "colab": {
          "base_uri": "https://localhost:8080/",
          "height": 768
        }
      },
      "source": [
        "# Fit the model with learning rate decay and bs 64\n",
        "%%time\n",
        "history = model.fit(train_data, train_labels,\n",
        "                    batch_size = 64, \n",
        "                    epochs=20, \n",
        "                    shuffle=True, \n",
        "                    validation_data=(test_data,test_labels),\n",
        "                    callbacks= [model_checkpoint])"
      ],
      "execution_count": 0,
      "outputs": [
        {
          "output_type": "stream",
          "text": [
            "Train on 160000 samples, validate on 40000 samples\n",
            "Epoch 1/20\n",
            "160000/160000 [==============================] - 26s 162us/step - loss: 0.4666 - accuracy: 0.7669 - val_loss: 0.3570 - val_accuracy: 0.8449\n",
            "Epoch 2/20\n",
            "160000/160000 [==============================] - 26s 161us/step - loss: 0.3536 - accuracy: 0.8463 - val_loss: 0.3231 - val_accuracy: 0.8595\n",
            "Epoch 3/20\n",
            "160000/160000 [==============================] - 26s 161us/step - loss: 0.3227 - accuracy: 0.8624 - val_loss: 0.3051 - val_accuracy: 0.8702\n",
            "Epoch 4/20\n",
            "160000/160000 [==============================] - 27s 172us/step - loss: 0.3048 - accuracy: 0.8717 - val_loss: 0.2908 - val_accuracy: 0.8780\n",
            "Epoch 5/20\n",
            "160000/160000 [==============================] - 28s 173us/step - loss: 0.2872 - accuracy: 0.8794 - val_loss: 0.2883 - val_accuracy: 0.8796\n",
            "Epoch 6/20\n",
            "160000/160000 [==============================] - 27s 167us/step - loss: 0.2760 - accuracy: 0.8854 - val_loss: 0.2807 - val_accuracy: 0.8831\n",
            "Epoch 7/20\n",
            "160000/160000 [==============================] - 26s 161us/step - loss: 0.2628 - accuracy: 0.8918 - val_loss: 0.2840 - val_accuracy: 0.8818\n",
            "Epoch 8/20\n",
            "160000/160000 [==============================] - 26s 165us/step - loss: 0.2543 - accuracy: 0.8959 - val_loss: 0.2777 - val_accuracy: 0.8862\n",
            "Epoch 9/20\n",
            "160000/160000 [==============================] - 26s 163us/step - loss: 0.2439 - accuracy: 0.8998 - val_loss: 0.2804 - val_accuracy: 0.8858\n",
            "Epoch 10/20\n",
            "160000/160000 [==============================] - 28s 172us/step - loss: 0.2392 - accuracy: 0.9029 - val_loss: 0.2856 - val_accuracy: 0.8853\n",
            "Epoch 11/20\n",
            "160000/160000 [==============================] - 26s 165us/step - loss: 0.2325 - accuracy: 0.9054 - val_loss: 0.2800 - val_accuracy: 0.8892\n",
            "Epoch 12/20\n",
            "160000/160000 [==============================] - 26s 160us/step - loss: 0.2255 - accuracy: 0.9082 - val_loss: 0.2804 - val_accuracy: 0.8873\n",
            "Epoch 13/20\n",
            "160000/160000 [==============================] - 25s 159us/step - loss: 0.2224 - accuracy: 0.9099 - val_loss: 0.2918 - val_accuracy: 0.8888\n",
            "Epoch 14/20\n",
            "160000/160000 [==============================] - 26s 162us/step - loss: 0.2146 - accuracy: 0.9138 - val_loss: 0.2891 - val_accuracy: 0.8883\n",
            "Epoch 15/20\n",
            "160000/160000 [==============================] - 27s 169us/step - loss: 0.2084 - accuracy: 0.9166 - val_loss: 0.2996 - val_accuracy: 0.8863\n",
            "Epoch 16/20\n",
            "160000/160000 [==============================] - 27s 171us/step - loss: 0.2038 - accuracy: 0.9184 - val_loss: 0.3135 - val_accuracy: 0.8833\n",
            "Epoch 17/20\n",
            "160000/160000 [==============================] - 26s 162us/step - loss: 0.2003 - accuracy: 0.9200 - val_loss: 0.2969 - val_accuracy: 0.8885\n",
            "Epoch 18/20\n",
            "160000/160000 [==============================] - 26s 163us/step - loss: 0.1956 - accuracy: 0.9215 - val_loss: 0.2959 - val_accuracy: 0.8894\n",
            "Epoch 19/20\n",
            "160000/160000 [==============================] - 26s 162us/step - loss: 0.1917 - accuracy: 0.9230 - val_loss: 0.3102 - val_accuracy: 0.8897\n",
            "Epoch 20/20\n",
            "160000/160000 [==============================] - 27s 168us/step - loss: 0.1884 - accuracy: 0.9250 - val_loss: 0.3105 - val_accuracy: 0.8882\n",
            "CPU times: user 7min 40s, sys: 1min 30s, total: 9min 10s\n",
            "Wall time: 8min 48s\n"
          ],
          "name": "stdout"
        }
      ]
    },
    {
      "cell_type": "code",
      "metadata": {
        "id": "VBuCDiBGsBmj",
        "colab_type": "code",
        "outputId": "5ed87d99-6095-4837-c00e-feab392174a3",
        "colab": {
          "base_uri": "https://localhost:8080/",
          "height": 279
        }
      },
      "source": [
        "plot_graphs(history,'accuracy')"
      ],
      "execution_count": 0,
      "outputs": [
        {
          "output_type": "display_data",
          "data": {
            "image/png": "[encoded data removed]",
            "text/plain": [
              "<Figure size 432x288 with 1 Axes>"
            ]
          },
          "metadata": {
            "tags": [],
            "needs_background": "light"
          }
        }
      ]
    },
    {
      "cell_type": "code",
      "metadata": {
        "id": "Rhxaoyq2sL9E",
        "colab_type": "code",
        "outputId": "ccbfe314-6600-4f92-8f75-e7c57f2a3fdd",
        "colab": {
          "base_uri": "https://localhost:8080/",
          "height": 279
        }
      },
      "source": [
        "plot_graphs(history, 'loss')"
      ],
      "execution_count": 0,
      "outputs": [
        {
          "output_type": "display_data",
          "data": {
            "image/png": "[encoded data removed]",
            "text/plain": [
              "<Figure size 432x288 with 1 Axes>"
            ]
          },
          "metadata": {
            "tags": [],
            "needs_background": "light"
          }
        }
      ]
    },
    {
      "cell_type": "code",
      "metadata": {
        "id": "rUCNEULzK80l",
        "colab_type": "code",
        "colab": {}
      },
      "source": [
        "# learning rate decay\n",
        "lr_schedule = keras.optimizers.schedules.ExponentialDecay(\n",
        "    initial_learning_rate=1e-3,\n",
        "    decay_steps=5000,\n",
        "    decay_rate=0.9)\n",
        "optimizer = keras.optimizers.SGD(learning_rate=lr_schedule)   #keras.optimizers.SGD\n",
        "\n",
        "# compile the model\n",
        "model.compile(loss='binary_crossentropy', optimizer=optimizer, metrics=['accuracy'])"
      ],
      "execution_count": 0,
      "outputs": []
    },
    {
      "cell_type": "code",
      "metadata": {
        "id": "OxRiCT_fLEbY",
        "colab_type": "code",
        "outputId": "6374d418-7de6-48b8-c286-31ddf53e9bc1",
        "colab": {
          "base_uri": "https://localhost:8080/",
          "height": 258
        }
      },
      "source": [
        "# Fit the model\n",
        "%%time\n",
        "history = model.fit(train_data, train_labels,\n",
        "                    batch_size = 64, \n",
        "                    epochs=5, \n",
        "                    shuffle=True, \n",
        "                    validation_data=(test_data,test_labels),\n",
        "                    callbacks= [model_checkpoint])"
      ],
      "execution_count": 0,
      "outputs": [
        {
          "output_type": "stream",
          "text": [
            "Train on 160000 samples, validate on 40000 samples\n",
            "Epoch 1/5\n",
            "160000/160000 [==============================] - 23s 146us/step - loss: 0.1719 - accuracy: 0.9323 - val_loss: 0.3117 - val_accuracy: 0.8905\n",
            "Epoch 2/5\n",
            "160000/160000 [==============================] - 24s 151us/step - loss: 0.1685 - accuracy: 0.9334 - val_loss: 0.3132 - val_accuracy: 0.8914\n",
            "Epoch 3/5\n",
            "160000/160000 [==============================] - 24s 152us/step - loss: 0.1676 - accuracy: 0.9340 - val_loss: 0.3139 - val_accuracy: 0.8915\n",
            "Epoch 4/5\n",
            "160000/160000 [==============================] - 25s 158us/step - loss: 0.1658 - accuracy: 0.9357 - val_loss: 0.3134 - val_accuracy: 0.8916\n",
            "Epoch 5/5\n",
            "160000/160000 [==============================] - 24s 152us/step - loss: 0.1656 - accuracy: 0.9353 - val_loss: 0.3139 - val_accuracy: 0.8915\n",
            "CPU times: user 1min 42s, sys: 21.8 s, total: 2min 4s\n",
            "Wall time: 2min 1s\n"
          ],
          "name": "stdout"
        }
      ]
    },
    {
      "cell_type": "code",
      "metadata": {
        "id": "SXhbjLib9k8q",
        "colab_type": "code",
        "outputId": "7a9d3555-e10a-46db-84a7-a6206eedf839",
        "colab": {
          "base_uri": "https://localhost:8080/",
          "height": 258
        }
      },
      "source": [
        "# Fit the model\n",
        "%%time\n",
        "history = model.fit(train_data, train_labels,\n",
        "                    batch_size = 64, \n",
        "                    epochs=5, \n",
        "                    shuffle=True, \n",
        "                    validation_data=(test_data,test_labels),\n",
        "                    callbacks= [model_checkpoint])"
      ],
      "execution_count": 0,
      "outputs": [
        {
          "output_type": "stream",
          "text": [
            "Train on 160000 samples, validate on 40000 samples\n",
            "Epoch 1/5\n",
            "160000/160000 [==============================] - 34s 211us/step - loss: 0.4565 - accuracy: 0.7776 - val_loss: 0.3830 - val_accuracy: 0.8209\n",
            "Epoch 2/5\n",
            "160000/160000 [==============================] - 28s 172us/step - loss: 0.3505 - accuracy: 0.8476 - val_loss: 0.3141 - val_accuracy: 0.8651\n",
            "Epoch 3/5\n",
            "160000/160000 [==============================] - 26s 165us/step - loss: 0.3201 - accuracy: 0.8629 - val_loss: 0.3041 - val_accuracy: 0.8706\n",
            "Epoch 4/5\n",
            "160000/160000 [==============================] - 26s 164us/step - loss: 0.3020 - accuracy: 0.8720 - val_loss: 0.2907 - val_accuracy: 0.8766\n",
            "Epoch 5/5\n",
            "160000/160000 [==============================] - 27s 166us/step - loss: 0.2861 - accuracy: 0.8802 - val_loss: 0.2877 - val_accuracy: 0.8798\n",
            "CPU times: user 1min 57s, sys: 22.9 s, total: 2min 20s\n",
            "Wall time: 2min 21s\n"
          ],
          "name": "stdout"
        }
      ]
    },
    {
      "cell_type": "markdown",
      "metadata": {
        "id": "ldI8NS-X-RcO",
        "colab_type": "text"
      },
      "source": [
        "We decrease the learning rate now that we are getting closer to the answer."
      ]
    },
    {
      "cell_type": "code",
      "metadata": {
        "id": "t5OiUqSB9k48",
        "colab_type": "code",
        "outputId": "deaf5659-a177-4c62-d3d4-87d58767d214",
        "colab": {
          "base_uri": "https://localhost:8080/",
          "height": 164
        }
      },
      "source": [
        "model.optimizer.lr=1e-4"
      ],
      "execution_count": 0,
      "outputs": [
        {
          "output_type": "error",
          "ename": "AttributeError",
          "evalue": "ignored",
          "traceback": [
            "\u001b[0;31m---------------------------------------------------------------------------\u001b[0m",
            "\u001b[0;31mAttributeError\u001b[0m                            Traceback (most recent call last)",
            "\u001b[0;32m<ipython-input-32-118a6a9e5727>\u001b[0m in \u001b[0;36m<module>\u001b[0;34m()\u001b[0m\n\u001b[0;32m----> 1\u001b[0;31m \u001b[0mmodel\u001b[0m\u001b[0;34m.\u001b[0m\u001b[0moptimizer\u001b[0m\u001b[0;34m.\u001b[0m\u001b[0mlr\u001b[0m\u001b[0;34m=\u001b[0m\u001b[0;36m1e-4\u001b[0m\u001b[0;34m\u001b[0m\u001b[0;34m\u001b[0m\u001b[0m\n\u001b[0m",
            "\u001b[0;31mAttributeError\u001b[0m: 'NoneType' object has no attribute 'lr'"
          ]
        }
      ]
    },
    {
      "cell_type": "markdown",
      "metadata": {
        "id": "jsJAKHFQ3sCt",
        "colab_type": "text"
      },
      "source": [
        "##### experiment 2:"
      ]
    },
    {
      "cell_type": "code",
      "metadata": {
        "id": "cpRdlCXN3wt9",
        "colab_type": "code",
        "colab": {}
      },
      "source": [
        "# to save the best model along training to avoid any interuption.\n",
        "bst_model_path = \"/content/drive/My Drive/data/amazon/CONVmodel.h5\"\n",
        "model_checkpoint = ModelCheckpoint(bst_model_path, save_best_only=True)"
      ],
      "execution_count": 0,
      "outputs": []
    },
    {
      "cell_type": "code",
      "metadata": {
        "id": "LdFanXWa5C2j",
        "colab_type": "code",
        "colab": {}
      },
      "source": [
        "# compile the model\n",
        "model.compile(loss='binary_crossentropy', optimizer=Adam(), metrics=['accuracy'])"
      ],
      "execution_count": 0,
      "outputs": []
    },
    {
      "cell_type": "code",
      "metadata": {
        "id": "VQFjc38Q3wn_",
        "colab_type": "code",
        "outputId": "4d0f471f-12c9-4214-c0d0-ee6192e99186",
        "colab": {
          "base_uri": "https://localhost:8080/",
          "height": 768
        }
      },
      "source": [
        "# Fit the model with learning rate decay and bs 128\n",
        "%%time\n",
        "history_CONV = model.fit(train_data, train_labels,\n",
        "                    batch_size = 128, \n",
        "                    epochs=20, \n",
        "                    shuffle=True, \n",
        "                    validation_data=(test_data,test_labels),\n",
        "                    callbacks= [model_checkpoint])"
      ],
      "execution_count": 0,
      "outputs": [
        {
          "output_type": "stream",
          "text": [
            "Train on 160000 samples, validate on 40000 samples\n",
            "Epoch 1/20\n",
            "160000/160000 [==============================] - 15s 94us/step - loss: 0.4805 - accuracy: 0.7553 - val_loss: 0.3586 - val_accuracy: 0.8417\n",
            "Epoch 2/20\n",
            "160000/160000 [==============================] - 15s 94us/step - loss: 0.3525 - accuracy: 0.8466 - val_loss: 0.3349 - val_accuracy: 0.8547\n",
            "Epoch 3/20\n",
            "160000/160000 [==============================] - 15s 93us/step - loss: 0.3242 - accuracy: 0.8620 - val_loss: 0.3102 - val_accuracy: 0.8679\n",
            "Epoch 4/20\n",
            "160000/160000 [==============================] - 15s 92us/step - loss: 0.3053 - accuracy: 0.8702 - val_loss: 0.3087 - val_accuracy: 0.8663\n",
            "Epoch 5/20\n",
            "160000/160000 [==============================] - 16s 98us/step - loss: 0.2885 - accuracy: 0.8779 - val_loss: 0.2858 - val_accuracy: 0.8810\n",
            "Epoch 6/20\n",
            "160000/160000 [==============================] - 17s 104us/step - loss: 0.2741 - accuracy: 0.8852 - val_loss: 0.2853 - val_accuracy: 0.8799\n",
            "Epoch 7/20\n",
            "160000/160000 [==============================] - 16s 100us/step - loss: 0.2627 - accuracy: 0.8915 - val_loss: 0.2868 - val_accuracy: 0.8802\n",
            "Epoch 8/20\n",
            "160000/160000 [==============================] - 16s 99us/step - loss: 0.2505 - accuracy: 0.8966 - val_loss: 0.2790 - val_accuracy: 0.8844\n",
            "Epoch 9/20\n",
            "160000/160000 [==============================] - 16s 98us/step - loss: 0.2440 - accuracy: 0.8997 - val_loss: 0.2764 - val_accuracy: 0.8865\n",
            "Epoch 10/20\n",
            "160000/160000 [==============================] - 15s 96us/step - loss: 0.2354 - accuracy: 0.9039 - val_loss: 0.2793 - val_accuracy: 0.8866\n",
            "Epoch 11/20\n",
            "160000/160000 [==============================] - 15s 92us/step - loss: 0.2288 - accuracy: 0.9074 - val_loss: 0.2838 - val_accuracy: 0.8837\n",
            "Epoch 12/20\n",
            "160000/160000 [==============================] - 15s 91us/step - loss: 0.2213 - accuracy: 0.9099 - val_loss: 0.2874 - val_accuracy: 0.8851\n",
            "Epoch 13/20\n",
            "160000/160000 [==============================] - 15s 91us/step - loss: 0.2156 - accuracy: 0.9123 - val_loss: 0.2967 - val_accuracy: 0.8839\n",
            "Epoch 14/20\n",
            "160000/160000 [==============================] - 15s 91us/step - loss: 0.2082 - accuracy: 0.9165 - val_loss: 0.2880 - val_accuracy: 0.8850\n",
            "Epoch 15/20\n",
            "160000/160000 [==============================] - 15s 92us/step - loss: 0.2040 - accuracy: 0.9174 - val_loss: 0.2888 - val_accuracy: 0.8858\n",
            "Epoch 16/20\n",
            "160000/160000 [==============================] - 15s 93us/step - loss: 0.1991 - accuracy: 0.9202 - val_loss: 0.3009 - val_accuracy: 0.8849\n",
            "Epoch 17/20\n",
            "160000/160000 [==============================] - 15s 93us/step - loss: 0.1916 - accuracy: 0.9243 - val_loss: 0.2956 - val_accuracy: 0.8891\n",
            "Epoch 18/20\n",
            "160000/160000 [==============================] - 15s 94us/step - loss: 0.1880 - accuracy: 0.9259 - val_loss: 0.3030 - val_accuracy: 0.8847\n",
            "Epoch 19/20\n",
            "160000/160000 [==============================] - 15s 93us/step - loss: 0.1872 - accuracy: 0.9274 - val_loss: 0.3124 - val_accuracy: 0.8874\n",
            "Epoch 20/20\n",
            "160000/160000 [==============================] - 15s 96us/step - loss: 0.1795 - accuracy: 0.9291 - val_loss: 0.3079 - val_accuracy: 0.8870\n",
            "CPU times: user 4min 8s, sys: 53.9 s, total: 5min 2s\n",
            "Wall time: 5min 13s\n"
          ],
          "name": "stdout"
        }
      ]
    },
    {
      "cell_type": "code",
      "metadata": {
        "id": "om34fWD_6iMY",
        "colab_type": "code",
        "outputId": "111fa934-23f5-4558-dc64-3da037d093bb",
        "colab": {
          "base_uri": "https://localhost:8080/",
          "height": 279
        }
      },
      "source": [
        "plot_graphs(history_CONV,'accuracy')"
      ],
      "execution_count": 0,
      "outputs": [
        {
          "output_type": "display_data",
          "data": {
            "image/png": "[encoded data removed]",
            "text/plain": [
              "<Figure size 432x288 with 1 Axes>"
            ]
          },
          "metadata": {
            "tags": [],
            "needs_background": "light"
          }
        }
      ]
    },
    {
      "cell_type": "code",
      "metadata": {
        "id": "FLXBZH-G6nzg",
        "colab_type": "code",
        "outputId": "12edd90c-c1e0-4946-d3ad-3d3d4750fd84",
        "colab": {
          "base_uri": "https://localhost:8080/",
          "height": 279
        }
      },
      "source": [
        "plot_graphs(history_CONV, 'loss')"
      ],
      "execution_count": 0,
      "outputs": [
        {
          "output_type": "display_data",
          "data": {
            "image/png": "[encoded data removed]",
            "text/plain": [
              "<Figure size 432x288 with 1 Axes>"
            ]
          },
          "metadata": {
            "tags": [],
            "needs_background": "light"
          }
        }
      ]
    },
    {
      "cell_type": "code",
      "metadata": {
        "id": "JcdlWhRh3wl2",
        "colab_type": "code",
        "colab": {}
      },
      "source": [
        "# compile the model\n",
        "model.compile(loss='binary_crossentropy', optimizer=Adam(lr=1e-4), metrics=['accuracy'])"
      ],
      "execution_count": 0,
      "outputs": []
    },
    {
      "cell_type": "code",
      "metadata": {
        "id": "Wuh33I-h9Ew-",
        "colab_type": "code",
        "colab": {}
      },
      "source": [
        ""
      ],
      "execution_count": 0,
      "outputs": []
    },
    {
      "cell_type": "code",
      "metadata": {
        "id": "2Bf3xPOJ3wiY",
        "colab_type": "code",
        "outputId": "b3b6c0f8-3e47-42a3-a5ed-2e9cb3c766f7",
        "colab": {
          "base_uri": "https://localhost:8080/",
          "height": 395
        }
      },
      "source": [
        "# Fit the model with learning rate decay and bs 128\n",
        "%%time\n",
        "history_CONV = model.fit(train_data, train_labels,\n",
        "                    batch_size = 128, \n",
        "                    epochs=10, \n",
        "                    shuffle=True, \n",
        "                    validation_data=(test_data,test_labels),\n",
        "                    callbacks= [model_checkpoint])"
      ],
      "execution_count": 0,
      "outputs": [
        {
          "output_type": "error",
          "ename": "NameError",
          "evalue": "ignored",
          "traceback": [
            "\u001b[0;31m---------------------------------------------------------------------------\u001b[0m",
            "\u001b[0;31mNameError\u001b[0m                                 Traceback (most recent call last)",
            "\u001b[0;32m<ipython-input-1-8ce5b9c8d573>\u001b[0m in \u001b[0;36m<module>\u001b[0;34m()\u001b[0m\n\u001b[0;32m----> 1\u001b[0;31m \u001b[0mget_ipython\u001b[0m\u001b[0;34m(\u001b[0m\u001b[0;34m)\u001b[0m\u001b[0;34m.\u001b[0m\u001b[0mrun_cell_magic\u001b[0m\u001b[0;34m(\u001b[0m\u001b[0;34m'time'\u001b[0m\u001b[0;34m,\u001b[0m \u001b[0;34m''\u001b[0m\u001b[0;34m,\u001b[0m \u001b[0;34m'history_CONV = model.fit(train_data, train_labels,\\n                    batch_size = 128, \\n                    epochs=10, \\n                    shuffle=True, \\n                    validation_data=(test_data,test_labels),\\n                    callbacks= [model_checkpoint])'\u001b[0m\u001b[0;34m)\u001b[0m\u001b[0;34m\u001b[0m\u001b[0;34m\u001b[0m\u001b[0m\n\u001b[0m",
            "\u001b[0;32m/usr/local/lib/python3.6/dist-packages/IPython/core/interactiveshell.py\u001b[0m in \u001b[0;36mrun_cell_magic\u001b[0;34m(self, magic_name, line, cell)\u001b[0m\n\u001b[1;32m   2115\u001b[0m             \u001b[0mmagic_arg_s\u001b[0m \u001b[0;34m=\u001b[0m \u001b[0mself\u001b[0m\u001b[0;34m.\u001b[0m\u001b[0mvar_expand\u001b[0m\u001b[0;34m(\u001b[0m\u001b[0mline\u001b[0m\u001b[0;34m,\u001b[0m \u001b[0mstack_depth\u001b[0m\u001b[0;34m)\u001b[0m\u001b[0;34m\u001b[0m\u001b[0;34m\u001b[0m\u001b[0m\n\u001b[1;32m   2116\u001b[0m             \u001b[0;32mwith\u001b[0m \u001b[0mself\u001b[0m\u001b[0;34m.\u001b[0m\u001b[0mbuiltin_trap\u001b[0m\u001b[0;34m:\u001b[0m\u001b[0;34m\u001b[0m\u001b[0;34m\u001b[0m\u001b[0m\n\u001b[0;32m-> 2117\u001b[0;31m                 \u001b[0mresult\u001b[0m \u001b[0;34m=\u001b[0m \u001b[0mfn\u001b[0m\u001b[0;34m(\u001b[0m\u001b[0mmagic_arg_s\u001b[0m\u001b[0;34m,\u001b[0m \u001b[0mcell\u001b[0m\u001b[0;34m)\u001b[0m\u001b[0;34m\u001b[0m\u001b[0;34m\u001b[0m\u001b[0m\n\u001b[0m\u001b[1;32m   2118\u001b[0m             \u001b[0;32mreturn\u001b[0m \u001b[0mresult\u001b[0m\u001b[0;34m\u001b[0m\u001b[0;34m\u001b[0m\u001b[0m\n\u001b[1;32m   2119\u001b[0m \u001b[0;34m\u001b[0m\u001b[0m\n",
            "\u001b[0;32m<decorator-gen-60>\u001b[0m in \u001b[0;36mtime\u001b[0;34m(self, line, cell, local_ns)\u001b[0m\n",
            "\u001b[0;32m/usr/local/lib/python3.6/dist-packages/IPython/core/magic.py\u001b[0m in \u001b[0;36m<lambda>\u001b[0;34m(f, *a, **k)\u001b[0m\n\u001b[1;32m    186\u001b[0m     \u001b[0;31m# but it's overkill for just that one bit of state.\u001b[0m\u001b[0;34m\u001b[0m\u001b[0;34m\u001b[0m\u001b[0;34m\u001b[0m\u001b[0m\n\u001b[1;32m    187\u001b[0m     \u001b[0;32mdef\u001b[0m \u001b[0mmagic_deco\u001b[0m\u001b[0;34m(\u001b[0m\u001b[0marg\u001b[0m\u001b[0;34m)\u001b[0m\u001b[0;34m:\u001b[0m\u001b[0;34m\u001b[0m\u001b[0;34m\u001b[0m\u001b[0m\n\u001b[0;32m--> 188\u001b[0;31m         \u001b[0mcall\u001b[0m \u001b[0;34m=\u001b[0m \u001b[0;32mlambda\u001b[0m \u001b[0mf\u001b[0m\u001b[0;34m,\u001b[0m \u001b[0;34m*\u001b[0m\u001b[0ma\u001b[0m\u001b[0;34m,\u001b[0m \u001b[0;34m**\u001b[0m\u001b[0mk\u001b[0m\u001b[0;34m:\u001b[0m \u001b[0mf\u001b[0m\u001b[0;34m(\u001b[0m\u001b[0;34m*\u001b[0m\u001b[0ma\u001b[0m\u001b[0;34m,\u001b[0m \u001b[0;34m**\u001b[0m\u001b[0mk\u001b[0m\u001b[0;34m)\u001b[0m\u001b[0;34m\u001b[0m\u001b[0;34m\u001b[0m\u001b[0m\n\u001b[0m\u001b[1;32m    189\u001b[0m \u001b[0;34m\u001b[0m\u001b[0m\n\u001b[1;32m    190\u001b[0m         \u001b[0;32mif\u001b[0m \u001b[0mcallable\u001b[0m\u001b[0;34m(\u001b[0m\u001b[0marg\u001b[0m\u001b[0;34m)\u001b[0m\u001b[0;34m:\u001b[0m\u001b[0;34m\u001b[0m\u001b[0;34m\u001b[0m\u001b[0m\n",
            "\u001b[0;32m/usr/local/lib/python3.6/dist-packages/IPython/core/magics/execution.py\u001b[0m in \u001b[0;36mtime\u001b[0;34m(self, line, cell, local_ns)\u001b[0m\n\u001b[1;32m   1191\u001b[0m         \u001b[0;32melse\u001b[0m\u001b[0;34m:\u001b[0m\u001b[0;34m\u001b[0m\u001b[0;34m\u001b[0m\u001b[0m\n\u001b[1;32m   1192\u001b[0m             \u001b[0mst\u001b[0m \u001b[0;34m=\u001b[0m \u001b[0mclock2\u001b[0m\u001b[0;34m(\u001b[0m\u001b[0;34m)\u001b[0m\u001b[0;34m\u001b[0m\u001b[0;34m\u001b[0m\u001b[0m\n\u001b[0;32m-> 1193\u001b[0;31m             \u001b[0mexec\u001b[0m\u001b[0;34m(\u001b[0m\u001b[0mcode\u001b[0m\u001b[0;34m,\u001b[0m \u001b[0mglob\u001b[0m\u001b[0;34m,\u001b[0m \u001b[0mlocal_ns\u001b[0m\u001b[0;34m)\u001b[0m\u001b[0;34m\u001b[0m\u001b[0;34m\u001b[0m\u001b[0m\n\u001b[0m\u001b[1;32m   1194\u001b[0m             \u001b[0mend\u001b[0m \u001b[0;34m=\u001b[0m \u001b[0mclock2\u001b[0m\u001b[0;34m(\u001b[0m\u001b[0;34m)\u001b[0m\u001b[0;34m\u001b[0m\u001b[0;34m\u001b[0m\u001b[0m\n\u001b[1;32m   1195\u001b[0m             \u001b[0mout\u001b[0m \u001b[0;34m=\u001b[0m \u001b[0;32mNone\u001b[0m\u001b[0;34m\u001b[0m\u001b[0;34m\u001b[0m\u001b[0m\n",
            "\u001b[0;32m<timed exec>\u001b[0m in \u001b[0;36m<module>\u001b[0;34m()\u001b[0m\n",
            "\u001b[0;31mNameError\u001b[0m: name 'model' is not defined"
          ]
        }
      ]
    },
    {
      "cell_type": "markdown",
      "metadata": {
        "id": "QhY6TSIHgxh_",
        "colab_type": "text"
      },
      "source": [
        "#### experiment 3:"
      ]
    },
    {
      "cell_type": "code",
      "metadata": {
        "id": "W53X1iSueBmZ",
        "colab_type": "code",
        "outputId": "ec830043-2fed-48da-bc63-1f765392a577",
        "colab": {
          "base_uri": "https://localhost:8080/",
          "height": 442
        }
      },
      "source": [
        "Conv_model = Sequential([\n",
        "    Embedding(max_vocab, embedding_dim, input_length=MAX_SEQUENCE_LENGTH, weights=[embeddings],trainable=False),\n",
        "    Convolution1D(128, 5, padding='same', activation='relu'),\n",
        "    Dropout(0.5),\n",
        "    MaxPooling1D(),\n",
        "    Flatten(),\n",
        "    Dense(100, activation='relu'),\n",
        "    Dropout(0.5),\n",
        "    Dense(1, activation='sigmoid')])\n",
        "\n",
        "print(Conv_model.summary())"
      ],
      "execution_count": 0,
      "outputs": [
        {
          "output_type": "stream",
          "text": [
            "Model: \"sequential_4\"\n",
            "_________________________________________________________________\n",
            "Layer (type)                 Output Shape              Param #   \n",
            "=================================================================\n",
            "embedding_4 (Embedding)      (None, 100, 300)          3000000   \n",
            "_________________________________________________________________\n",
            "conv1d_4 (Conv1D)            (None, 100, 128)          192128    \n",
            "_________________________________________________________________\n",
            "dropout_7 (Dropout)          (None, 100, 128)          0         \n",
            "_________________________________________________________________\n",
            "max_pooling1d_4 (MaxPooling1 (None, 50, 128)           0         \n",
            "_________________________________________________________________\n",
            "flatten_2 (Flatten)          (None, 6400)              0         \n",
            "_________________________________________________________________\n",
            "dense_7 (Dense)              (None, 100)               640100    \n",
            "_________________________________________________________________\n",
            "dropout_8 (Dropout)          (None, 100)               0         \n",
            "_________________________________________________________________\n",
            "dense_8 (Dense)              (None, 1)                 101       \n",
            "=================================================================\n",
            "Total params: 3,832,329\n",
            "Trainable params: 832,329\n",
            "Non-trainable params: 3,000,000\n",
            "_________________________________________________________________\n",
            "None\n"
          ],
          "name": "stdout"
        }
      ]
    },
    {
      "cell_type": "code",
      "metadata": {
        "id": "2YxN8hwlhPQi",
        "colab_type": "code",
        "colab": {}
      },
      "source": [
        "# to save the best model along training to avoid any interuption.\n",
        "bst_model_path = \"/content/drive/My Drive/data/amazon/CONVmodel_2.h5\"\n",
        "model_checkpoint = ModelCheckpoint(bst_model_path, save_best_only=True)"
      ],
      "execution_count": 0,
      "outputs": []
    },
    {
      "cell_type": "code",
      "metadata": {
        "id": "1ew2VOh8hPOE",
        "colab_type": "code",
        "colab": {}
      },
      "source": [
        "# compile the model\n",
        "Conv_model.compile(loss='binary_crossentropy', optimizer=Adam(), metrics=['accuracy'])"
      ],
      "execution_count": 0,
      "outputs": []
    },
    {
      "cell_type": "code",
      "metadata": {
        "id": "F3GJaYmdhPKQ",
        "colab_type": "code",
        "outputId": "8e1fec0d-090a-42fd-d4d9-4f154cdbc8f8",
        "colab": {
          "base_uri": "https://localhost:8080/",
          "height": 748
        }
      },
      "source": [
        "# Fit the model with bs 64\n",
        "%%time\n",
        "history_CONV_2 = Conv_model.fit(train_data, train_labels,\n",
        "                    batch_size = 64, \n",
        "                    epochs=20, \n",
        "                    shuffle=True, \n",
        "                    validation_data=(test_data,test_labels),\n",
        "                    callbacks= [model_checkpoint])"
      ],
      "execution_count": 0,
      "outputs": [
        {
          "output_type": "stream",
          "text": [
            "Train on 160000 samples, validate on 40000 samples\n",
            "Epoch 1/20\n",
            "160000/160000 [==============================] - 33s 203us/step - loss: 0.4946 - accuracy: 0.7514 - val_loss: 0.3836 - val_accuracy: 0.8298\n",
            "Epoch 2/20\n",
            "160000/160000 [==============================] - 26s 165us/step - loss: 0.3844 - accuracy: 0.8292 - val_loss: 0.3488 - val_accuracy: 0.8505\n",
            "Epoch 3/20\n",
            "160000/160000 [==============================] - 26s 162us/step - loss: 0.3523 - accuracy: 0.8478 - val_loss: 0.3192 - val_accuracy: 0.8669\n",
            "Epoch 4/20\n",
            "160000/160000 [==============================] - 26s 161us/step - loss: 0.3338 - accuracy: 0.8568 - val_loss: 0.3079 - val_accuracy: 0.8712\n",
            "Epoch 5/20\n",
            "160000/160000 [==============================] - 26s 161us/step - loss: 0.3196 - accuracy: 0.8632 - val_loss: 0.2960 - val_accuracy: 0.8781\n",
            "Epoch 6/20\n",
            "160000/160000 [==============================] - 26s 161us/step - loss: 0.3076 - accuracy: 0.8700 - val_loss: 0.2956 - val_accuracy: 0.8746\n",
            "Epoch 7/20\n",
            "160000/160000 [==============================] - 26s 161us/step - loss: 0.2992 - accuracy: 0.8738 - val_loss: 0.2796 - val_accuracy: 0.8825\n",
            "Epoch 8/20\n",
            "160000/160000 [==============================] - 26s 161us/step - loss: 0.2902 - accuracy: 0.8787 - val_loss: 0.2789 - val_accuracy: 0.8849\n",
            "Epoch 9/20\n",
            "160000/160000 [==============================] - 26s 161us/step - loss: 0.2852 - accuracy: 0.8817 - val_loss: 0.2761 - val_accuracy: 0.8848\n",
            "Epoch 10/20\n",
            "160000/160000 [==============================] - 26s 161us/step - loss: 0.2789 - accuracy: 0.8850 - val_loss: 0.2916 - val_accuracy: 0.8784\n",
            "Epoch 11/20\n",
            "160000/160000 [==============================] - 26s 162us/step - loss: 0.2726 - accuracy: 0.8871 - val_loss: 0.2734 - val_accuracy: 0.8877\n",
            "Epoch 12/20\n",
            "160000/160000 [==============================] - 26s 160us/step - loss: 0.2678 - accuracy: 0.8891 - val_loss: 0.2884 - val_accuracy: 0.8738\n",
            "Epoch 13/20\n",
            "160000/160000 [==============================] - 26s 162us/step - loss: 0.2645 - accuracy: 0.8910 - val_loss: 0.2696 - val_accuracy: 0.8884\n",
            "Epoch 14/20\n",
            "160000/160000 [==============================] - 26s 163us/step - loss: 0.2584 - accuracy: 0.8946 - val_loss: 0.2701 - val_accuracy: 0.8888\n",
            "Epoch 15/20\n",
            "160000/160000 [==============================] - 26s 160us/step - loss: 0.2561 - accuracy: 0.8951 - val_loss: 0.2775 - val_accuracy: 0.8863\n",
            "Epoch 16/20\n",
            "160000/160000 [==============================] - 26s 161us/step - loss: 0.2532 - accuracy: 0.8964 - val_loss: 0.2666 - val_accuracy: 0.8920\n",
            "Epoch 17/20\n",
            "160000/160000 [==============================] - 26s 161us/step - loss: 0.2496 - accuracy: 0.8978 - val_loss: 0.2703 - val_accuracy: 0.8918\n",
            "Epoch 18/20\n",
            "160000/160000 [==============================] - 26s 161us/step - loss: 0.2466 - accuracy: 0.8995 - val_loss: 0.2816 - val_accuracy: 0.8821\n",
            "Epoch 19/20\n",
            "160000/160000 [==============================] - 26s 160us/step - loss: 0.2443 - accuracy: 0.9007 - val_loss: 0.2706 - val_accuracy: 0.8901\n",
            "Epoch 20/20\n",
            "160000/160000 [==============================] - 26s 160us/step - loss: 0.2400 - accuracy: 0.9021 - val_loss: 0.2740 - val_accuracy: 0.8931\n",
            "CPU times: user 6min 57s, sys: 1min 36s, total: 8min 34s\n",
            "Wall time: 9min 19s\n"
          ],
          "name": "stdout"
        }
      ]
    },
    {
      "cell_type": "code",
      "metadata": {
        "id": "GPHAGSmOhO2u",
        "colab_type": "code",
        "outputId": "0aab7cf5-38c1-4e79-dd55-ab43d43142bd",
        "colab": {
          "base_uri": "https://localhost:8080/",
          "height": 279
        }
      },
      "source": [
        "plot_graphs(history_CONV_2,'accuracy')"
      ],
      "execution_count": 0,
      "outputs": [
        {
          "output_type": "display_data",
          "data": {
            "image/png": "[encoded data removed]",
            "text/plain": [
              "<Figure size 432x288 with 1 Axes>"
            ]
          },
          "metadata": {
            "tags": [],
            "needs_background": "light"
          }
        }
      ]
    },
    {
      "cell_type": "code",
      "metadata": {
        "id": "0KNm6suKicmU",
        "colab_type": "code",
        "outputId": "47bfce9e-18da-4164-dcab-020bbe2c3403",
        "colab": {
          "base_uri": "https://localhost:8080/",
          "height": 279
        }
      },
      "source": [
        "plot_graphs(history_CONV_2, 'loss')"
      ],
      "execution_count": 0,
      "outputs": [
        {
          "output_type": "display_data",
          "data": {
            "image/png": "[encoded data removed]",
            "text/plain": [
              "<Figure size 432x288 with 1 Axes>"
            ]
          },
          "metadata": {
            "tags": [],
            "needs_background": "light"
          }
        }
      ]
    },
    {
      "cell_type": "code",
      "metadata": {
        "id": "AAZpq6IxidUn",
        "colab_type": "code",
        "colab": {}
      },
      "source": [
        "# compile the model\n",
        "Conv_model.compile(loss='binary_crossentropy', optimizer=Adam(lr=1e-4), metrics=['accuracy'])\n"
      ],
      "execution_count": 0,
      "outputs": []
    },
    {
      "cell_type": "code",
      "metadata": {
        "id": "cXRcT2YclAZJ",
        "colab_type": "code",
        "outputId": "76426265-2088-4b6f-c4f2-9d739f070ba5",
        "colab": {
          "base_uri": "https://localhost:8080/",
          "height": 238
        }
      },
      "source": [
        "# Fit the model with bs 64\n",
        "%%time\n",
        "history_CONV_3 = Conv_model.fit(train_data, train_labels,\n",
        "                    batch_size = 64, \n",
        "                    epochs=5, \n",
        "                    shuffle=True, \n",
        "                    validation_data=(test_data,test_labels),\n",
        "                    callbacks= [model_checkpoint])"
      ],
      "execution_count": 0,
      "outputs": [
        {
          "output_type": "stream",
          "text": [
            "Train on 160000 samples, validate on 40000 samples\n",
            "Epoch 1/5\n",
            "160000/160000 [==============================] - 26s 164us/step - loss: 0.2204 - accuracy: 0.9106 - val_loss: 0.2647 - val_accuracy: 0.8959\n",
            "Epoch 2/5\n",
            "160000/160000 [==============================] - 26s 163us/step - loss: 0.2115 - accuracy: 0.9150 - val_loss: 0.2626 - val_accuracy: 0.8987\n",
            "Epoch 3/5\n",
            "160000/160000 [==============================] - 26s 164us/step - loss: 0.2073 - accuracy: 0.9163 - val_loss: 0.2637 - val_accuracy: 0.8978\n",
            "Epoch 4/5\n",
            "160000/160000 [==============================] - 26s 165us/step - loss: 0.2072 - accuracy: 0.9169 - val_loss: 0.2647 - val_accuracy: 0.8960\n",
            "Epoch 5/5\n",
            "160000/160000 [==============================] - 26s 162us/step - loss: 0.2034 - accuracy: 0.9181 - val_loss: 0.2637 - val_accuracy: 0.8987\n",
            "CPU times: user 1min 46s, sys: 24.4 s, total: 2min 11s\n",
            "Wall time: 2min 16s\n"
          ],
          "name": "stdout"
        }
      ]
    },
    {
      "cell_type": "code",
      "metadata": {
        "id": "w3yZBzy5nuMe",
        "colab_type": "code",
        "colab": {}
      },
      "source": [
        "# compile the model\n",
        "Conv_model.compile(loss='binary_crossentropy', optimizer=Adam(lr=5e-5), metrics=['accuracy'])\n"
      ],
      "execution_count": 0,
      "outputs": []
    },
    {
      "cell_type": "code",
      "metadata": {
        "id": "Uo_Pyi2oniXC",
        "colab_type": "code",
        "outputId": "9b6b5f67-2f82-4e4a-d145-f6ec71bf5905",
        "colab": {
          "base_uri": "https://localhost:8080/",
          "height": 238
        }
      },
      "source": [
        "# Fit the model with bs 64\n",
        "%%time\n",
        "history_CONV_3 = Conv_model.fit(train_data, train_labels,\n",
        "                    batch_size = 64, \n",
        "                    epochs=5, \n",
        "                    shuffle=True, \n",
        "                    validation_data=(test_data,test_labels),\n",
        "                    callbacks= [model_checkpoint])"
      ],
      "execution_count": 0,
      "outputs": [
        {
          "output_type": "stream",
          "text": [
            "Train on 160000 samples, validate on 40000 samples\n",
            "Epoch 1/5\n",
            "160000/160000 [==============================] - 26s 164us/step - loss: 0.2021 - accuracy: 0.9193 - val_loss: 0.2649 - val_accuracy: 0.8981\n",
            "Epoch 2/5\n",
            "160000/160000 [==============================] - 26s 162us/step - loss: 0.2010 - accuracy: 0.9193 - val_loss: 0.2644 - val_accuracy: 0.8987\n",
            "Epoch 3/5\n",
            "160000/160000 [==============================] - 26s 165us/step - loss: 0.2009 - accuracy: 0.9191 - val_loss: 0.2655 - val_accuracy: 0.8982\n",
            "Epoch 4/5\n",
            "160000/160000 [==============================] - 26s 162us/step - loss: 0.1993 - accuracy: 0.9211 - val_loss: 0.2648 - val_accuracy: 0.8992\n",
            "Epoch 5/5\n",
            "160000/160000 [==============================] - 26s 162us/step - loss: 0.1991 - accuracy: 0.9204 - val_loss: 0.2656 - val_accuracy: 0.8974\n",
            "CPU times: user 1min 45s, sys: 24.1 s, total: 2min 9s\n",
            "Wall time: 2min 11s\n"
          ],
          "name": "stdout"
        }
      ]
    },
    {
      "cell_type": "markdown",
      "metadata": {
        "id": "aM_xZxmtucom",
        "colab_type": "text"
      },
      "source": [
        "#### experiment 4:\n",
        "Bidirectional LSTM MODELS"
      ]
    },
    {
      "cell_type": "code",
      "metadata": {
        "id": "wkr3tepfqxes",
        "colab_type": "code",
        "outputId": "053c15b5-8154-4a01-c6c2-f7867b08ac42",
        "colab": {
          "base_uri": "https://localhost:8080/",
          "height": 306
        }
      },
      "source": [
        "\n",
        "lstm_model = Sequential()\n",
        "\n",
        "embedding_layer = Embedding(input_dim=max_vocab, output_dim=embedding_dim, input_length=MAX_SEQUENCE_LENGTH, weights=[embeddings],trainable=False) #, input_length=MAX_SEQUENCE_LENGTH, trainable=False, embeddings_initializer= embeddings,\n",
        "lstm_layer = Bidirectional(LSTM(32))\n",
        "\n",
        "lstm_model.add(embedding_layer)\n",
        "lstm_model.add(lstm_layer)\n",
        "lstm_model.add(Dropout(0.5))\n",
        "lstm_model.add(Dense(1, activation='sigmoid'))\n",
        "\n",
        "print(lstm_model.summary())"
      ],
      "execution_count": 0,
      "outputs": [
        {
          "output_type": "stream",
          "text": [
            "Model: \"sequential_8\"\n",
            "_________________________________________________________________\n",
            "Layer (type)                 Output Shape              Param #   \n",
            "=================================================================\n",
            "embedding_8 (Embedding)      (None, 100, 300)          3000000   \n",
            "_________________________________________________________________\n",
            "bidirectional_3 (Bidirection (None, 64)                85248     \n",
            "_________________________________________________________________\n",
            "dropout_11 (Dropout)         (None, 64)                0         \n",
            "_________________________________________________________________\n",
            "dense_13 (Dense)             (None, 1)                 65        \n",
            "=================================================================\n",
            "Total params: 3,085,313\n",
            "Trainable params: 85,313\n",
            "Non-trainable params: 3,000,000\n",
            "_________________________________________________________________\n",
            "None\n"
          ],
          "name": "stdout"
        }
      ]
    },
    {
      "cell_type": "code",
      "metadata": {
        "id": "krfK--6ptl1E",
        "colab_type": "code",
        "colab": {}
      },
      "source": [
        "# compile the model\n",
        "lstm_model.compile(loss='binary_crossentropy', \n",
        "             optimizer=Adam(), \n",
        "             metrics=['accuracy'])"
      ],
      "execution_count": 0,
      "outputs": []
    },
    {
      "cell_type": "code",
      "metadata": {
        "id": "nAAwrlq0n7uO",
        "colab_type": "code",
        "colab": {}
      },
      "source": [
        ""
      ],
      "execution_count": 0,
      "outputs": []
    },
    {
      "cell_type": "code",
      "metadata": {
        "id": "wRvFVGUbcBzN",
        "colab_type": "code",
        "outputId": "9b891195-87fa-4e60-da4a-f9d699a0252a",
        "colab": {
          "base_uri": "https://localhost:8080/",
          "height": 408
        }
      },
      "source": [
        "# Fit the model\n",
        "%%time\n",
        "history_lstm = lstm_model.fit(train_data, train_labels,\n",
        "                    batch_size = 128, \n",
        "                    epochs=10, \n",
        "                    shuffle=True, \n",
        "                    validation_data=(test_data,test_labels),\n",
        "                    callbacks= [model_checkpoint])"
      ],
      "execution_count": 0,
      "outputs": [
        {
          "output_type": "stream",
          "text": [
            "Train on 160000 samples, validate on 40000 samples\n",
            "Epoch 1/10\n",
            "160000/160000 [==============================] - 657s 4ms/step - loss: 0.4352 - accuracy: 0.7981 - val_loss: 0.3662 - val_accuracy: 0.8310\n",
            "Epoch 2/10\n",
            "160000/160000 [==============================] - 652s 4ms/step - loss: 0.3442 - accuracy: 0.8516 - val_loss: 0.3333 - val_accuracy: 0.8603\n",
            "Epoch 3/10\n",
            "160000/160000 [==============================] - 653s 4ms/step - loss: 0.3031 - accuracy: 0.8735 - val_loss: 0.2809 - val_accuracy: 0.8801\n",
            "Epoch 4/10\n",
            "160000/160000 [==============================] - 647s 4ms/step - loss: 0.2769 - accuracy: 0.8861 - val_loss: 0.2778 - val_accuracy: 0.8852\n",
            "Epoch 5/10\n",
            "160000/160000 [==============================] - 648s 4ms/step - loss: 0.2622 - accuracy: 0.8936 - val_loss: 0.2575 - val_accuracy: 0.8930\n",
            "Epoch 6/10\n",
            "160000/160000 [==============================] - 652s 4ms/step - loss: 0.2501 - accuracy: 0.8998 - val_loss: 0.2513 - val_accuracy: 0.8967\n",
            "Epoch 7/10\n",
            "160000/160000 [==============================] - 649s 4ms/step - loss: 0.2410 - accuracy: 0.9029 - val_loss: 0.2445 - val_accuracy: 0.8996\n",
            "Epoch 8/10\n",
            "160000/160000 [==============================] - 649s 4ms/step - loss: 0.2306 - accuracy: 0.9071 - val_loss: 0.2516 - val_accuracy: 0.8961\n",
            "Epoch 9/10\n",
            "160000/160000 [==============================] - 654s 4ms/step - loss: 0.2234 - accuracy: 0.9118 - val_loss: 0.2425 - val_accuracy: 0.9034\n",
            "Epoch 10/10\n",
            "160000/160000 [==============================] - 649s 4ms/step - loss: 0.2161 - accuracy: 0.9149 - val_loss: 0.2429 - val_accuracy: 0.9027\n",
            "CPU times: user 2h 39min 4s, sys: 23min 32s, total: 3h 2min 37s\n",
            "Wall time: 1h 48min 31s\n"
          ],
          "name": "stdout"
        }
      ]
    },
    {
      "cell_type": "markdown",
      "metadata": {
        "id": "GEwWeAHXV-YZ",
        "colab_type": "text"
      },
      "source": [
        "Load the model and continue to train"
      ]
    },
    {
      "cell_type": "code",
      "metadata": {
        "id": "2BzbOX2MXTEG",
        "colab_type": "code",
        "colab": {}
      },
      "source": [
        "from numpy.testing import assert_allclose"
      ],
      "execution_count": 0,
      "outputs": []
    },
    {
      "cell_type": "code",
      "metadata": {
        "id": "Xf5qui5IUF3i",
        "colab_type": "code",
        "outputId": "79e4cd46-e13e-46ee-e3a0-6bf4899b2559",
        "colab": {
          "base_uri": "https://localhost:8080/",
          "height": 616
        }
      },
      "source": [
        "# load the model\n",
        "new_model_lstm = load_model(\"model.h5\")\n",
        "assert_allclose(lstm_model.predict(X_train),\n",
        "                new_model_lstm.predict(X_train),\n",
        "                1e-5)\n",
        "\n"
      ],
      "execution_count": 0,
      "outputs": [
        {
          "output_type": "error",
          "ename": "ValueError",
          "evalue": "ignored",
          "traceback": [
            "\u001b[0;31m---------------------------------------------------------------------------\u001b[0m",
            "\u001b[0;31mValueError\u001b[0m                                Traceback (most recent call last)",
            "\u001b[0;32m<ipython-input-133-56024abcbbf5>\u001b[0m in \u001b[0;36m<module>\u001b[0;34m()\u001b[0m\n\u001b[1;32m      1\u001b[0m \u001b[0;31m# load the model\u001b[0m\u001b[0;34m\u001b[0m\u001b[0;34m\u001b[0m\u001b[0;34m\u001b[0m\u001b[0m\n\u001b[1;32m      2\u001b[0m \u001b[0mnew_model_lstm\u001b[0m \u001b[0;34m=\u001b[0m \u001b[0mload_model\u001b[0m\u001b[0;34m(\u001b[0m\u001b[0;34m\"model.h5\"\u001b[0m\u001b[0;34m)\u001b[0m\u001b[0;34m\u001b[0m\u001b[0;34m\u001b[0m\u001b[0m\n\u001b[0;32m----> 3\u001b[0;31m assert_allclose(lstm_model.predict(X_train),\n\u001b[0m\u001b[1;32m      4\u001b[0m                 \u001b[0mnew_model_lstm\u001b[0m\u001b[0;34m.\u001b[0m\u001b[0mpredict\u001b[0m\u001b[0;34m(\u001b[0m\u001b[0mX_train\u001b[0m\u001b[0;34m)\u001b[0m\u001b[0;34m,\u001b[0m\u001b[0;34m\u001b[0m\u001b[0;34m\u001b[0m\u001b[0m\n\u001b[1;32m      5\u001b[0m                 1e-5)\n",
            "\u001b[0;32m/usr/local/lib/python3.6/dist-packages/keras/engine/training.py\u001b[0m in \u001b[0;36mpredict\u001b[0;34m(self, x, batch_size, verbose, steps, callbacks, max_queue_size, workers, use_multiprocessing)\u001b[0m\n\u001b[1;32m   1439\u001b[0m \u001b[0;34m\u001b[0m\u001b[0m\n\u001b[1;32m   1440\u001b[0m         \u001b[0;31m# Case 2: Symbolic tensors or Numpy array-like.\u001b[0m\u001b[0;34m\u001b[0m\u001b[0;34m\u001b[0m\u001b[0;34m\u001b[0m\u001b[0m\n\u001b[0;32m-> 1441\u001b[0;31m         \u001b[0mx\u001b[0m\u001b[0;34m,\u001b[0m \u001b[0m_\u001b[0m\u001b[0;34m,\u001b[0m \u001b[0m_\u001b[0m \u001b[0;34m=\u001b[0m \u001b[0mself\u001b[0m\u001b[0;34m.\u001b[0m\u001b[0m_standardize_user_data\u001b[0m\u001b[0;34m(\u001b[0m\u001b[0mx\u001b[0m\u001b[0;34m)\u001b[0m\u001b[0;34m\u001b[0m\u001b[0;34m\u001b[0m\u001b[0m\n\u001b[0m\u001b[1;32m   1442\u001b[0m         \u001b[0;32mif\u001b[0m \u001b[0mself\u001b[0m\u001b[0;34m.\u001b[0m\u001b[0mstateful\u001b[0m\u001b[0;34m:\u001b[0m\u001b[0;34m\u001b[0m\u001b[0;34m\u001b[0m\u001b[0m\n\u001b[1;32m   1443\u001b[0m             \u001b[0;32mif\u001b[0m \u001b[0mx\u001b[0m\u001b[0;34m[\u001b[0m\u001b[0;36m0\u001b[0m\u001b[0;34m]\u001b[0m\u001b[0;34m.\u001b[0m\u001b[0mshape\u001b[0m\u001b[0;34m[\u001b[0m\u001b[0;36m0\u001b[0m\u001b[0;34m]\u001b[0m \u001b[0;34m>\u001b[0m \u001b[0mbatch_size\u001b[0m \u001b[0;32mand\u001b[0m \u001b[0mx\u001b[0m\u001b[0;34m[\u001b[0m\u001b[0;36m0\u001b[0m\u001b[0;34m]\u001b[0m\u001b[0;34m.\u001b[0m\u001b[0mshape\u001b[0m\u001b[0;34m[\u001b[0m\u001b[0;36m0\u001b[0m\u001b[0;34m]\u001b[0m \u001b[0;34m%\u001b[0m \u001b[0mbatch_size\u001b[0m \u001b[0;34m!=\u001b[0m \u001b[0;36m0\u001b[0m\u001b[0;34m:\u001b[0m\u001b[0;34m\u001b[0m\u001b[0;34m\u001b[0m\u001b[0m\n",
            "\u001b[0;32m/usr/local/lib/python3.6/dist-packages/keras/engine/training.py\u001b[0m in \u001b[0;36m_standardize_user_data\u001b[0;34m(self, x, y, sample_weight, class_weight, check_array_lengths, batch_size)\u001b[0m\n\u001b[1;32m    577\u001b[0m             \u001b[0mfeed_input_shapes\u001b[0m\u001b[0;34m,\u001b[0m\u001b[0;34m\u001b[0m\u001b[0;34m\u001b[0m\u001b[0m\n\u001b[1;32m    578\u001b[0m             \u001b[0mcheck_batch_axis\u001b[0m\u001b[0;34m=\u001b[0m\u001b[0;32mFalse\u001b[0m\u001b[0;34m,\u001b[0m  \u001b[0;31m# Don't enforce the batch size.\u001b[0m\u001b[0;34m\u001b[0m\u001b[0;34m\u001b[0m\u001b[0m\n\u001b[0;32m--> 579\u001b[0;31m             exception_prefix='input')\n\u001b[0m\u001b[1;32m    580\u001b[0m \u001b[0;34m\u001b[0m\u001b[0m\n\u001b[1;32m    581\u001b[0m         \u001b[0;32mif\u001b[0m \u001b[0my\u001b[0m \u001b[0;32mis\u001b[0m \u001b[0;32mnot\u001b[0m \u001b[0;32mNone\u001b[0m\u001b[0;34m:\u001b[0m\u001b[0;34m\u001b[0m\u001b[0;34m\u001b[0m\u001b[0m\n",
            "\u001b[0;32m/usr/local/lib/python3.6/dist-packages/keras/engine/training_utils.py\u001b[0m in \u001b[0;36mstandardize_input_data\u001b[0;34m(data, names, shapes, check_batch_axis, exception_prefix)\u001b[0m\n\u001b[1;32m    107\u001b[0m                 \u001b[0;34m'Expected to see '\u001b[0m \u001b[0;34m+\u001b[0m \u001b[0mstr\u001b[0m\u001b[0;34m(\u001b[0m\u001b[0mlen\u001b[0m\u001b[0;34m(\u001b[0m\u001b[0mnames\u001b[0m\u001b[0;34m)\u001b[0m\u001b[0;34m)\u001b[0m \u001b[0;34m+\u001b[0m \u001b[0;34m' array(s), '\u001b[0m\u001b[0;34m\u001b[0m\u001b[0;34m\u001b[0m\u001b[0m\n\u001b[1;32m    108\u001b[0m                 \u001b[0;34m'but instead got the following list of '\u001b[0m \u001b[0;34m+\u001b[0m\u001b[0;34m\u001b[0m\u001b[0;34m\u001b[0m\u001b[0m\n\u001b[0;32m--> 109\u001b[0;31m                 str(len(data)) + ' arrays: ' + str(data)[:200] + '...')\n\u001b[0m\u001b[1;32m    110\u001b[0m         \u001b[0;32melif\u001b[0m \u001b[0mlen\u001b[0m\u001b[0;34m(\u001b[0m\u001b[0mnames\u001b[0m\u001b[0;34m)\u001b[0m \u001b[0;34m>\u001b[0m \u001b[0;36m1\u001b[0m\u001b[0;34m:\u001b[0m\u001b[0;34m\u001b[0m\u001b[0;34m\u001b[0m\u001b[0m\n\u001b[1;32m    111\u001b[0m             raise ValueError(\n",
            "\u001b[0;31mValueError\u001b[0m: Error when checking model input: the list of Numpy arrays that you are passing to your model is not the size the model expected. Expected to see 1 array(s), but instead got the following list of 160000 arrays: [array([[   5],\n       [  75],\n       [  29],\n       [  50],\n       [  10],\n       [ 559],\n       [  10],\n       [2229],\n       [ 112],\n       [2621],\n       [  24],\n       [  15],\n       [  10],\n    ..."
          ]
        }
      ]
    },
    {
      "cell_type": "code",
      "metadata": {
        "id": "_UQylcGqYp0u",
        "colab_type": "code",
        "colab": {}
      },
      "source": [
        "#new_model_lstm.optimizer.lr=1e-4\n",
        "# learning rate decay\n",
        "lr_schedule = keras.optimizers.schedules.ExponentialDecay(\n",
        "    initial_learning_rate=1e-3,\n",
        "    decay_steps=5000,\n",
        "    decay_rate=0.9)\n",
        "optimizer = keras.optimizers.SGD(learning_rate=lr_schedule)   #keras.optimizers.SGD\n",
        "\n",
        "# compile the model\n",
        "new_model_lstm.compile(loss='binary_crossentropy', optimizer=optimizer, metrics=['accuracy'])\n",
        "\n",
        "# callback and save the best model\n",
        "model_checkpoint = ModelCheckpoint(\"model_20200610.h5\",  save_best_only=True)"
      ],
      "execution_count": 0,
      "outputs": []
    },
    {
      "cell_type": "code",
      "metadata": {
        "id": "aBfMfhWEUF0u",
        "colab_type": "code",
        "outputId": "ad986a0d-4fcf-4cbe-b8e9-9bf48360f105",
        "colab": {
          "base_uri": "https://localhost:8080/",
          "height": 292
        }
      },
      "source": [
        "# fit the model\n",
        "%%time\n",
        "history_lstm_new = new_model_lstm.fit(train_data, train_labels,\n",
        "                    batch_size = 128, \n",
        "                    epochs=5, \n",
        "                    shuffle=True, \n",
        "                    validation_data=(test_data,test_labels),\n",
        "                    callbacks= [model_checkpoint])"
      ],
      "execution_count": 0,
      "outputs": [
        {
          "output_type": "stream",
          "text": [
            "Train on 160000 samples, validate on 40000 samples\n",
            "Epoch 1/5\n",
            "160000/160000 [==============================] - 686s 4ms/step - loss: 0.2033 - accuracy: 0.9210 - val_loss: 0.2379 - val_accuracy: 0.9044\n",
            "Epoch 2/5\n"
          ],
          "name": "stdout"
        },
        {
          "output_type": "stream",
          "text": [
            "/usr/local/lib/python3.6/dist-packages/keras/engine/saving.py:165: UserWarning: TensorFlow optimizers do not make it possible to access optimizer attributes or optimizer state after instantiation. As a result, we cannot save the optimizer as part of the model save file.You will have to compile your model again after loading it. Prefer using a Keras optimizer instead (see keras.io/optimizers).\n",
            "  'TensorFlow optimizers do not '\n"
          ],
          "name": "stderr"
        },
        {
          "output_type": "stream",
          "text": [
            "160000/160000 [==============================] - 686s 4ms/step - loss: 0.2032 - accuracy: 0.9211 - val_loss: 0.2379 - val_accuracy: 0.9045\n",
            "Epoch 3/5\n",
            "160000/160000 [==============================] - 633s 4ms/step - loss: 0.2031 - accuracy: 0.9208 - val_loss: 0.2376 - val_accuracy: 0.9046\n",
            "Epoch 4/5\n",
            "160000/160000 [==============================] - 624s 4ms/step - loss: 0.2031 - accuracy: 0.9205 - val_loss: 0.2374 - val_accuracy: 0.9044\n",
            "Epoch 5/5\n",
            "160000/160000 [==============================] - 633s 4ms/step - loss: 0.2020 - accuracy: 0.9212 - val_loss: 0.2376 - val_accuracy: 0.9043\n",
            "CPU times: user 1h 18min 35s, sys: 11min 29s, total: 1h 30min 4s\n",
            "Wall time: 54min 24s\n"
          ],
          "name": "stdout"
        }
      ]
    },
    {
      "cell_type": "code",
      "metadata": {
        "id": "olN_0fzEUFMe",
        "colab_type": "code",
        "colab": {}
      },
      "source": [
        ""
      ],
      "execution_count": 0,
      "outputs": []
    },
    {
      "cell_type": "code",
      "metadata": {
        "id": "bOXJo19ar-oY",
        "colab_type": "code",
        "colab": {}
      },
      "source": [
        ""
      ],
      "execution_count": 0,
      "outputs": []
    },
    {
      "cell_type": "code",
      "metadata": {
        "id": "Qo73GRRdqxW4",
        "colab_type": "code",
        "outputId": "2d7665bc-a9d0-4484-8f63-917d9ad50719",
        "colab": {
          "base_uri": "https://localhost:8080/",
          "height": 282
        }
      },
      "source": [
        "plot_graphs(history_lstm,'accuracy')"
      ],
      "execution_count": 0,
      "outputs": [
        {
          "output_type": "display_data",
          "data": {
            "image/png": "[encoded data removed]",
            "text/plain": [
              "<Figure size 432x288 with 1 Axes>"
            ]
          },
          "metadata": {
            "tags": [],
            "needs_background": "light"
          }
        }
      ]
    },
    {
      "cell_type": "code",
      "metadata": {
        "id": "U4u40v7NiYVP",
        "colab_type": "code",
        "outputId": "713538e2-6430-43ab-c622-aad49890ccc3",
        "colab": {
          "base_uri": "https://localhost:8080/",
          "height": 279
        }
      },
      "source": [
        "plot_graphs(history_lstm, 'loss')"
      ],
      "execution_count": 0,
      "outputs": [
        {
          "output_type": "display_data",
          "data": {
            "image/png": "[encoded data removed]",
            "text/plain": [
              "<Figure size 432x288 with 1 Axes>"
            ]
          },
          "metadata": {
            "tags": [],
            "needs_background": "light"
          }
        }
      ]
    },
    {
      "cell_type": "code",
      "metadata": {
        "id": "qbjXiQefZdQt",
        "colab_type": "code",
        "colab": {}
      },
      "source": [
        ""
      ],
      "execution_count": 0,
      "outputs": []
    }
  ]
}