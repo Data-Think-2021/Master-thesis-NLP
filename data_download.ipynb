{
  "nbformat": 4,
  "nbformat_minor": 0,
  "metadata": {
    "colab": {
      "name": "Copy of data.ipynb",
      "provenance": [],
      "collapsed_sections": [],
      "toc_visible": true,
      "include_colab_link": true
    },
    "kernelspec": {
      "name": "python3",
      "display_name": "Python 3"
    }
  },
  "cells": [
    {
      "cell_type": "markdown",
      "metadata": {
        "id": "view-in-github",
        "colab_type": "text"
      },
      "source": [
        "<a href=\"https://colab.research.google.com/github/xia0405/Master-thesis-NLP/blob/master/data_download.ipynb\" target=\"_parent\"><img src=\"https://colab.research.google.com/assets/colab-badge.svg\" alt=\"Open In Colab\"/></a>"
      ]
    },
    {
      "cell_type": "code",
      "metadata": {
        "id": "f5NDXrN2CtH7",
        "colab_type": "code",
        "colab": {}
      },
      "source": [
        "import os\n",
        "import json\n",
        "import gzip\n",
        "import pandas as pd\n",
        "from urllib.request import urlopen"
      ],
      "execution_count": 0,
      "outputs": []
    },
    {
      "cell_type": "markdown",
      "metadata": {
        "id": "xwd4re3UyHWd",
        "colab_type": "text"
      },
      "source": [
        ""
      ]
    },
    {
      "cell_type": "code",
      "metadata": {
        "id": "feWoOrmt4Tja",
        "colab_type": "code",
        "outputId": "0bab4d60-4a79-4079-e113-a31117ab7c42",
        "colab": {
          "base_uri": "https://localhost:8080/",
          "height": 204
        }
      },
      "source": [
        "!wget http://deepyeti.ucsd.edu/jianmo/amazon/categoryFilesSmall/Sports_and_Outdoors_5.json.gz"
      ],
      "execution_count": 3,
      "outputs": [
        {
          "output_type": "stream",
          "text": [
            "--2020-05-12 12:18:34--  http://deepyeti.ucsd.edu/jianmo/amazon/categoryFilesSmall/Sports_and_Outdoors_5.json.gz\n",
            "Resolving deepyeti.ucsd.edu (deepyeti.ucsd.edu)... 169.228.63.50\n",
            "Connecting to deepyeti.ucsd.edu (deepyeti.ucsd.edu)|169.228.63.50|:80... connected.\n",
            "HTTP request sent, awaiting response... 200 OK\n",
            "Length: 414308704 (395M) [application/octet-stream]\n",
            "Saving to: ‘Sports_and_Outdoors_5.json.gz’\n",
            "\n",
            "Sports_and_Outdoors 100%[===================>] 395.12M  8.47MB/s    in 55s     \n",
            "\n",
            "2020-05-12 12:19:28 (7.22 MB/s) - ‘Sports_and_Outdoors_5.json.gz’ saved [414308704/414308704]\n",
            "\n"
          ],
          "name": "stdout"
        }
      ]
    },
    {
      "cell_type": "code",
      "metadata": {
        "id": "7igYuRaV4bF7",
        "colab_type": "code",
        "outputId": "06279036-538f-445e-fcb3-3161d0f81e80",
        "colab": {
          "base_uri": "https://localhost:8080/",
          "height": 71
        }
      },
      "source": [
        "### load the meta data\n",
        "\n",
        "data = []\n",
        "with gzip.open('Sports_and_Outdoors_5.json.gz') as f:\n",
        "    for l in f:\n",
        "        data.append(json.loads(l.strip()))\n",
        "    \n",
        "# total length of list, this number equals total number of products\n",
        "print(len(data))\n",
        "\n",
        "# first row of the list\n",
        "print(data[0])"
      ],
      "execution_count": 4,
      "outputs": [
        {
          "output_type": "stream",
          "text": [
            "2839940\n",
            "{'overall': 5.0, 'verified': True, 'reviewTime': '06 3, 2015', 'reviewerID': 'A180LQZBUWVOLF', 'asin': '0000032034', 'reviewerName': 'Michelle A', 'reviewText': 'What a spectacular tutu! Very slimming.', 'summary': 'Five Stars', 'unixReviewTime': 1433289600}\n"
          ],
          "name": "stdout"
        }
      ]
    },
    {
      "cell_type": "code",
      "metadata": {
        "id": "e9CjpZUv1dVr",
        "colab_type": "code",
        "colab": {
          "base_uri": "https://localhost:8080/",
          "height": 54
        },
        "outputId": "9051dd82-3847-49c9-9171-ec4f5ea327e0"
      },
      "source": [
        "# first row of the list\n",
        "print(data[10])"
      ],
      "execution_count": 5,
      "outputs": [
        {
          "output_type": "stream",
          "text": [
            "{'overall': 5.0, 'verified': True, 'reviewTime': '08 2, 2016', 'reviewerID': 'A36QT6N7N0GF3O', 'asin': '0899332757', 'style': {'Format:': ' Paperback'}, 'reviewerName': 'Love is all I have', 'reviewText': 'Delorme has always made the best book maps in the USA.  Three thumbs up!', 'summary': 'Five Stars', 'unixReviewTime': 1470096000}\n"
          ],
          "name": "stdout"
        }
      ]
    },
    {
      "cell_type": "code",
      "metadata": {
        "id": "knpHP22w4scK",
        "colab_type": "code",
        "outputId": "d078485a-e478-44dd-afb2-cb30e8f44686",
        "colab": {
          "base_uri": "https://localhost:8080/",
          "height": 34
        }
      },
      "source": [
        "# convert list into pandas dataframe\n",
        "\n",
        "df = pd.DataFrame.from_dict(data)\n",
        "\n",
        "print(len(df))"
      ],
      "execution_count": 6,
      "outputs": [
        {
          "output_type": "stream",
          "text": [
            "2839940\n"
          ],
          "name": "stdout"
        }
      ]
    },
    {
      "cell_type": "code",
      "metadata": {
        "id": "RU1sWWBP1yTT",
        "colab_type": "code",
        "colab": {
          "base_uri": "https://localhost:8080/",
          "height": 770
        },
        "outputId": "885438b7-205b-4e9a-9ee7-0b464a3498e8"
      },
      "source": [
        "df.tail(10)"
      ],
      "execution_count": 9,
      "outputs": [
        {
          "output_type": "execute_result",
          "data": {
            "text/html": [
              "<div>\n",
              "<style scoped>\n",
              "    .dataframe tbody tr th:only-of-type {\n",
              "        vertical-align: middle;\n",
              "    }\n",
              "\n",
              "    .dataframe tbody tr th {\n",
              "        vertical-align: top;\n",
              "    }\n",
              "\n",
              "    .dataframe thead th {\n",
              "        text-align: right;\n",
              "    }\n",
              "</style>\n",
              "<table border=\"1\" class=\"dataframe\">\n",
              "  <thead>\n",
              "    <tr style=\"text-align: right;\">\n",
              "      <th></th>\n",
              "      <th>overall</th>\n",
              "      <th>verified</th>\n",
              "      <th>reviewTime</th>\n",
              "      <th>reviewerID</th>\n",
              "      <th>asin</th>\n",
              "      <th>reviewerName</th>\n",
              "      <th>reviewText</th>\n",
              "      <th>summary</th>\n",
              "      <th>unixReviewTime</th>\n",
              "      <th>style</th>\n",
              "      <th>vote</th>\n",
              "      <th>image</th>\n",
              "    </tr>\n",
              "  </thead>\n",
              "  <tbody>\n",
              "    <tr>\n",
              "      <th>2839930</th>\n",
              "      <td>5.0</td>\n",
              "      <td>True</td>\n",
              "      <td>02 26, 2018</td>\n",
              "      <td>A4HAKP33KBCIK</td>\n",
              "      <td>B01HJDHNX2</td>\n",
              "      <td>Eric</td>\n",
              "      <td>amazing deal</td>\n",
              "      <td>Five Stars</td>\n",
              "      <td>1519603200</td>\n",
              "      <td>NaN</td>\n",
              "      <td>NaN</td>\n",
              "      <td>NaN</td>\n",
              "    </tr>\n",
              "    <tr>\n",
              "      <th>2839931</th>\n",
              "      <td>5.0</td>\n",
              "      <td>True</td>\n",
              "      <td>09 6, 2017</td>\n",
              "      <td>A38SQGJFJ0146P</td>\n",
              "      <td>B01HJDHNX2</td>\n",
              "      <td>WILLIAM</td>\n",
              "      <td>GREAT</td>\n",
              "      <td>GOOD</td>\n",
              "      <td>1504656000</td>\n",
              "      <td>NaN</td>\n",
              "      <td>NaN</td>\n",
              "      <td>NaN</td>\n",
              "    </tr>\n",
              "    <tr>\n",
              "      <th>2839932</th>\n",
              "      <td>4.0</td>\n",
              "      <td>True</td>\n",
              "      <td>07 17, 2018</td>\n",
              "      <td>A2MYPVY0BJW6EQ</td>\n",
              "      <td>B01HJDZ34I</td>\n",
              "      <td>tonermd</td>\n",
              "      <td>Wife laughs at me but it works</td>\n",
              "      <td>OK but I wonder how much protection in venting</td>\n",
              "      <td>1531785600</td>\n",
              "      <td>{'Size:': ' One Size', 'Color:': ' Boulder'}</td>\n",
              "      <td>NaN</td>\n",
              "      <td>NaN</td>\n",
              "    </tr>\n",
              "    <tr>\n",
              "      <th>2839933</th>\n",
              "      <td>5.0</td>\n",
              "      <td>True</td>\n",
              "      <td>10 2, 2018</td>\n",
              "      <td>A3VUVANLER4L19</td>\n",
              "      <td>B01HJGAJ9O</td>\n",
              "      <td>rugby49</td>\n",
              "      <td>2XU makes great compression shorts. A bit more...</td>\n",
              "      <td>Great compression.</td>\n",
              "      <td>1538438400</td>\n",
              "      <td>{'Size:': ' X-Large', 'Color:': ' Black/Nero'}</td>\n",
              "      <td>NaN</td>\n",
              "      <td>NaN</td>\n",
              "    </tr>\n",
              "    <tr>\n",
              "      <th>2839934</th>\n",
              "      <td>5.0</td>\n",
              "      <td>True</td>\n",
              "      <td>09 15, 2018</td>\n",
              "      <td>A3060N0IGEMVZT</td>\n",
              "      <td>B01HJGAJ9O</td>\n",
              "      <td>Dylan Cornelius</td>\n",
              "      <td>These are my favorite compression shorts for r...</td>\n",
              "      <td>These are my favorite and thinnest compression...</td>\n",
              "      <td>1536969600</td>\n",
              "      <td>{'Size:': ' Medium', 'Color:': ' Black/Nero'}</td>\n",
              "      <td>NaN</td>\n",
              "      <td>NaN</td>\n",
              "    </tr>\n",
              "    <tr>\n",
              "      <th>2839935</th>\n",
              "      <td>5.0</td>\n",
              "      <td>True</td>\n",
              "      <td>04 5, 2018</td>\n",
              "      <td>A3TN0U64HONOPB</td>\n",
              "      <td>B01HJGAJ9O</td>\n",
              "      <td>Lewis Perez</td>\n",
              "      <td>Love the shorts.. amazing comfortable, perfect...</td>\n",
              "      <td>Five Stars</td>\n",
              "      <td>1522886400</td>\n",
              "      <td>{'Size:': ' Small', 'Color:': ' Black/White'}</td>\n",
              "      <td>NaN</td>\n",
              "      <td>NaN</td>\n",
              "    </tr>\n",
              "    <tr>\n",
              "      <th>2839936</th>\n",
              "      <td>5.0</td>\n",
              "      <td>True</td>\n",
              "      <td>03 1, 2018</td>\n",
              "      <td>AJDQLM8PT3YWT</td>\n",
              "      <td>B01HJGAJ9O</td>\n",
              "      <td>Andrew M. Silverman</td>\n",
              "      <td>Superb quality</td>\n",
              "      <td>Five Stars</td>\n",
              "      <td>1519862400</td>\n",
              "      <td>{'Size:': ' Large', 'Color:': ' Black/Nero'}</td>\n",
              "      <td>NaN</td>\n",
              "      <td>NaN</td>\n",
              "    </tr>\n",
              "    <tr>\n",
              "      <th>2839937</th>\n",
              "      <td>5.0</td>\n",
              "      <td>True</td>\n",
              "      <td>03 17, 2018</td>\n",
              "      <td>A3QK5ZLRE2KHLL</td>\n",
              "      <td>B01HJHHBHG</td>\n",
              "      <td>old hunter</td>\n",
              "      <td>Works every time</td>\n",
              "      <td>Quality catcher</td>\n",
              "      <td>1521244800</td>\n",
              "      <td>NaN</td>\n",
              "      <td>NaN</td>\n",
              "      <td>NaN</td>\n",
              "    </tr>\n",
              "    <tr>\n",
              "      <th>2839938</th>\n",
              "      <td>5.0</td>\n",
              "      <td>True</td>\n",
              "      <td>10 28, 2017</td>\n",
              "      <td>A3VDML80KNR9QQ</td>\n",
              "      <td>B01HJHHBHG</td>\n",
              "      <td>PJT</td>\n",
              "      <td>I have a briley bolt release paddle installed ...</td>\n",
              "      <td>Works for A400 with Briley Bolt Release</td>\n",
              "      <td>1509148800</td>\n",
              "      <td>NaN</td>\n",
              "      <td>NaN</td>\n",
              "      <td>NaN</td>\n",
              "    </tr>\n",
              "    <tr>\n",
              "      <th>2839939</th>\n",
              "      <td>5.0</td>\n",
              "      <td>True</td>\n",
              "      <td>06 11, 2017</td>\n",
              "      <td>A3ONWSRNZFNC3U</td>\n",
              "      <td>B01HJHHBHG</td>\n",
              "      <td>goosedowner</td>\n",
              "      <td>Works great</td>\n",
              "      <td>Five Stars</td>\n",
              "      <td>1497139200</td>\n",
              "      <td>NaN</td>\n",
              "      <td>NaN</td>\n",
              "      <td>NaN</td>\n",
              "    </tr>\n",
              "  </tbody>\n",
              "</table>\n",
              "</div>"
            ],
            "text/plain": [
              "         overall  verified  ... vote image\n",
              "2839930      5.0      True  ...  NaN   NaN\n",
              "2839931      5.0      True  ...  NaN   NaN\n",
              "2839932      4.0      True  ...  NaN   NaN\n",
              "2839933      5.0      True  ...  NaN   NaN\n",
              "2839934      5.0      True  ...  NaN   NaN\n",
              "2839935      5.0      True  ...  NaN   NaN\n",
              "2839936      5.0      True  ...  NaN   NaN\n",
              "2839937      5.0      True  ...  NaN   NaN\n",
              "2839938      5.0      True  ...  NaN   NaN\n",
              "2839939      5.0      True  ...  NaN   NaN\n",
              "\n",
              "[10 rows x 12 columns]"
            ]
          },
          "metadata": {
            "tags": []
          },
          "execution_count": 9
        }
      ]
    },
    {
      "cell_type": "code",
      "metadata": {
        "id": "LgWrDtZ94w89",
        "colab_type": "code",
        "outputId": "566bac17-432d-45e2-963a-7dfd0ade33a4",
        "colab": {
          "base_uri": "https://localhost:8080/",
          "height": 204
        }
      },
      "source": [
        "### remove rows with unformatted title (i.e. some 'title' may still contain html style content)\n",
        "\n",
        "df_save = df[[\"overall\",\"reviewText\"]] \n",
        "df_save.head()"
      ],
      "execution_count": 11,
      "outputs": [
        {
          "output_type": "execute_result",
          "data": {
            "text/html": [
              "<div>\n",
              "<style scoped>\n",
              "    .dataframe tbody tr th:only-of-type {\n",
              "        vertical-align: middle;\n",
              "    }\n",
              "\n",
              "    .dataframe tbody tr th {\n",
              "        vertical-align: top;\n",
              "    }\n",
              "\n",
              "    .dataframe thead th {\n",
              "        text-align: right;\n",
              "    }\n",
              "</style>\n",
              "<table border=\"1\" class=\"dataframe\">\n",
              "  <thead>\n",
              "    <tr style=\"text-align: right;\">\n",
              "      <th></th>\n",
              "      <th>overall</th>\n",
              "      <th>reviewText</th>\n",
              "    </tr>\n",
              "  </thead>\n",
              "  <tbody>\n",
              "    <tr>\n",
              "      <th>0</th>\n",
              "      <td>5.0</td>\n",
              "      <td>What a spectacular tutu! Very slimming.</td>\n",
              "    </tr>\n",
              "    <tr>\n",
              "      <th>1</th>\n",
              "      <td>1.0</td>\n",
              "      <td>What the heck? Is this a tutu for nuns? I know...</td>\n",
              "    </tr>\n",
              "    <tr>\n",
              "      <th>2</th>\n",
              "      <td>5.0</td>\n",
              "      <td>Exactly what we were looking for!</td>\n",
              "    </tr>\n",
              "    <tr>\n",
              "      <th>3</th>\n",
              "      <td>5.0</td>\n",
              "      <td>I used this skirt for a Halloween costume and ...</td>\n",
              "    </tr>\n",
              "    <tr>\n",
              "      <th>4</th>\n",
              "      <td>4.0</td>\n",
              "      <td>This is thick enough that you can't see throug...</td>\n",
              "    </tr>\n",
              "  </tbody>\n",
              "</table>\n",
              "</div>"
            ],
            "text/plain": [
              "   overall                                         reviewText\n",
              "0      5.0            What a spectacular tutu! Very slimming.\n",
              "1      1.0  What the heck? Is this a tutu for nuns? I know...\n",
              "2      5.0                  Exactly what we were looking for!\n",
              "3      5.0  I used this skirt for a Halloween costume and ...\n",
              "4      4.0  This is thick enough that you can't see throug..."
            ]
          },
          "metadata": {
            "tags": []
          },
          "execution_count": 11
        }
      ]
    },
    {
      "cell_type": "code",
      "metadata": {
        "id": "p1LLE40N4Yxx",
        "colab_type": "code",
        "colab": {}
      },
      "source": [
        "df_save.to_csv(\"\")"
      ],
      "execution_count": 0,
      "outputs": []
    }
  ]
}