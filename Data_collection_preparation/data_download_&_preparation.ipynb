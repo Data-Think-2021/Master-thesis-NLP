{
  "nbformat": 4,
  "nbformat_minor": 0,
  "metadata": {
    "colab": {
      "name": "Copy of data.ipynb",
      "provenance": [],
      "collapsed_sections": [],
      "toc_visible": true,
      "include_colab_link": true
    },
    "kernelspec": {
      "name": "python3",
      "display_name": "Python 3"
    }
  },
  "cells": [
    {
      "cell_type": "markdown",
      "metadata": {
        "id": "view-in-github",
        "colab_type": "text"
      },
      "source": [
        "<a href=\"https://colab.research.google.com/github/xia0405/Master-thesis-NLP/blob/master/data_download_%26_preparation.ipynb\" target=\"_parent\"><img src=\"https://colab.research.google.com/assets/colab-badge.svg\" alt=\"Open In Colab\"/></a>"
      ]
    },
    {
      "cell_type": "code",
      "metadata": {
        "id": "f5NDXrN2CtH7",
        "colab_type": "code",
        "colab": {}
      },
      "source": [
        "import os\n",
        "import json\n",
        "import gzip\n",
        "import pandas as pd\n",
        "from urllib.request import urlopen"
      ],
      "execution_count": 0,
      "outputs": []
    },
    {
      "cell_type": "markdown",
      "metadata": {
        "id": "xwd4re3UyHWd",
        "colab_type": "text"
      },
      "source": [
        "### The Amazon reviews come from [this link to data](https://nijianmo.github.io/amazon/index.html#subsets) and are updated version (2018).  \n",
        "- Current data includes reviews in the range May 1996 - Oct 2018.\n",
        "- The total number of reviews is 233.1 million (142.8 million in 2014). For the purpose of master thesis a \"small\" sample data is enough.   \n",
        "- I use 5-core (14.3gb) - subset of the data in which all users and items have at least 5 reviews (75.26 million reviews)\n",
        "- und One category **Sports_and_Outdoors** which contains **2,839,940** reviews. \n",
        "\n",
        "### Citation:\n",
        "Justifying recommendations using distantly-labeled reviews and fined-grained aspects  \n",
        "Jianmo Ni, Jiacheng Li, Julian McAuley  \n",
        "Empirical Methods in Natural Language Processing (EMNLP), 2019"
      ]
    },
    {
      "cell_type": "code",
      "metadata": {
        "id": "feWoOrmt4Tja",
        "colab_type": "code",
        "outputId": "0bab4d60-4a79-4079-e113-a31117ab7c42",
        "colab": {
          "base_uri": "https://localhost:8080/",
          "height": 204
        }
      },
      "source": [
        "# download the data\n",
        "!wget http://deepyeti.ucsd.edu/jianmo/amazon/categoryFilesSmall/Sports_and_Outdoors_5.json.gz"
      ],
      "execution_count": 3,
      "outputs": [
        {
          "output_type": "stream",
          "text": [
            "--2020-05-12 12:18:34--  http://deepyeti.ucsd.edu/jianmo/amazon/categoryFilesSmall/Sports_and_Outdoors_5.json.gz\n",
            "Resolving deepyeti.ucsd.edu (deepyeti.ucsd.edu)... 169.228.63.50\n",
            "Connecting to deepyeti.ucsd.edu (deepyeti.ucsd.edu)|169.228.63.50|:80... connected.\n",
            "HTTP request sent, awaiting response... 200 OK\n",
            "Length: 414308704 (395M) [application/octet-stream]\n",
            "Saving to: ‘Sports_and_Outdoors_5.json.gz’\n",
            "\n",
            "Sports_and_Outdoors 100%[===================>] 395.12M  8.47MB/s    in 55s     \n",
            "\n",
            "2020-05-12 12:19:28 (7.22 MB/s) - ‘Sports_and_Outdoors_5.json.gz’ saved [414308704/414308704]\n",
            "\n"
          ],
          "name": "stdout"
        }
      ]
    },
    {
      "cell_type": "code",
      "metadata": {
        "id": "7igYuRaV4bF7",
        "colab_type": "code",
        "outputId": "06279036-538f-445e-fcb3-3161d0f81e80",
        "colab": {
          "base_uri": "https://localhost:8080/",
          "height": 71
        }
      },
      "source": [
        "### load the meta data\n",
        "\n",
        "data = []\n",
        "with gzip.open('Sports_and_Outdoors_5.json.gz') as f:\n",
        "    for l in f:\n",
        "        data.append(json.loads(l.strip()))\n",
        "    \n",
        "# total length of list, this number equals total number of products\n",
        "print(len(data))\n",
        "\n",
        "# first row of the list\n",
        "print(data[0])"
      ],
      "execution_count": 4,
      "outputs": [
        {
          "output_type": "stream",
          "text": [
            "2839940\n",
            "{'overall': 5.0, 'verified': True, 'reviewTime': '06 3, 2015', 'reviewerID': 'A180LQZBUWVOLF', 'asin': '0000032034', 'reviewerName': 'Michelle A', 'reviewText': 'What a spectacular tutu! Very slimming.', 'summary': 'Five Stars', 'unixReviewTime': 1433289600}\n"
          ],
          "name": "stdout"
        }
      ]
    },
    {
      "cell_type": "code",
      "metadata": {
        "id": "e9CjpZUv1dVr",
        "colab_type": "code",
        "colab": {
          "base_uri": "https://localhost:8080/",
          "height": 54
        },
        "outputId": "9051dd82-3847-49c9-9171-ec4f5ea327e0"
      },
      "source": [
        "# first row of the list\n",
        "print(data[10])"
      ],
      "execution_count": 5,
      "outputs": [
        {
          "output_type": "stream",
          "text": [
            "{'overall': 5.0, 'verified': True, 'reviewTime': '08 2, 2016', 'reviewerID': 'A36QT6N7N0GF3O', 'asin': '0899332757', 'style': {'Format:': ' Paperback'}, 'reviewerName': 'Love is all I have', 'reviewText': 'Delorme has always made the best book maps in the USA.  Three thumbs up!', 'summary': 'Five Stars', 'unixReviewTime': 1470096000}\n"
          ],
          "name": "stdout"
        }
      ]
    },
    {
      "cell_type": "code",
      "metadata": {
        "id": "knpHP22w4scK",
        "colab_type": "code",
        "outputId": "d078485a-e478-44dd-afb2-cb30e8f44686",
        "colab": {
          "base_uri": "https://localhost:8080/",
          "height": 34
        }
      },
      "source": [
        "# convert list into pandas dataframe\n",
        "\n",
        "df = pd.DataFrame.from_dict(data)\n",
        "\n",
        "print(len(df))"
      ],
      "execution_count": 6,
      "outputs": [
        {
          "output_type": "stream",
          "text": [
            "2839940\n"
          ],
          "name": "stdout"
        }
      ]
    },
    {
      "cell_type": "code",
      "metadata": {
        "id": "RU1sWWBP1yTT",
        "colab_type": "code",
        "colab": {
          "base_uri": "https://localhost:8080/",
          "height": 547
        },
        "outputId": "04dac962-ba73-42f0-8e8f-262c7596a1d4"
      },
      "source": [
        "df.head()"
      ],
      "execution_count": 21,
      "outputs": [
        {
          "output_type": "execute_result",
          "data": {
            "text/html": [
              "<div>\n",
              "<style scoped>\n",
              "    .dataframe tbody tr th:only-of-type {\n",
              "        vertical-align: middle;\n",
              "    }\n",
              "\n",
              "    .dataframe tbody tr th {\n",
              "        vertical-align: top;\n",
              "    }\n",
              "\n",
              "    .dataframe thead th {\n",
              "        text-align: right;\n",
              "    }\n",
              "</style>\n",
              "<table border=\"1\" class=\"dataframe\">\n",
              "  <thead>\n",
              "    <tr style=\"text-align: right;\">\n",
              "      <th></th>\n",
              "      <th>overall</th>\n",
              "      <th>verified</th>\n",
              "      <th>reviewTime</th>\n",
              "      <th>reviewerID</th>\n",
              "      <th>asin</th>\n",
              "      <th>reviewerName</th>\n",
              "      <th>reviewText</th>\n",
              "      <th>summary</th>\n",
              "      <th>unixReviewTime</th>\n",
              "      <th>style</th>\n",
              "      <th>vote</th>\n",
              "      <th>image</th>\n",
              "    </tr>\n",
              "  </thead>\n",
              "  <tbody>\n",
              "    <tr>\n",
              "      <th>0</th>\n",
              "      <td>5.0</td>\n",
              "      <td>True</td>\n",
              "      <td>06 3, 2015</td>\n",
              "      <td>A180LQZBUWVOLF</td>\n",
              "      <td>0000032034</td>\n",
              "      <td>Michelle A</td>\n",
              "      <td>What a spectacular tutu! Very slimming.</td>\n",
              "      <td>Five Stars</td>\n",
              "      <td>1433289600</td>\n",
              "      <td>NaN</td>\n",
              "      <td>NaN</td>\n",
              "      <td>NaN</td>\n",
              "    </tr>\n",
              "    <tr>\n",
              "      <th>1</th>\n",
              "      <td>1.0</td>\n",
              "      <td>True</td>\n",
              "      <td>04 1, 2015</td>\n",
              "      <td>ATMFGKU5SVEYY</td>\n",
              "      <td>0000032034</td>\n",
              "      <td>Crystal R</td>\n",
              "      <td>What the heck? Is this a tutu for nuns? I know...</td>\n",
              "      <td>Is this a tutu for nuns?!</td>\n",
              "      <td>1427846400</td>\n",
              "      <td>NaN</td>\n",
              "      <td>NaN</td>\n",
              "      <td>NaN</td>\n",
              "    </tr>\n",
              "    <tr>\n",
              "      <th>2</th>\n",
              "      <td>5.0</td>\n",
              "      <td>True</td>\n",
              "      <td>01 13, 2015</td>\n",
              "      <td>A1QE70QBJ8U6ZG</td>\n",
              "      <td>0000032034</td>\n",
              "      <td>darla Landreth</td>\n",
              "      <td>Exactly what we were looking for!</td>\n",
              "      <td>Five Stars</td>\n",
              "      <td>1421107200</td>\n",
              "      <td>NaN</td>\n",
              "      <td>NaN</td>\n",
              "      <td>NaN</td>\n",
              "    </tr>\n",
              "    <tr>\n",
              "      <th>3</th>\n",
              "      <td>5.0</td>\n",
              "      <td>True</td>\n",
              "      <td>12 23, 2014</td>\n",
              "      <td>A22CP6Z73MZTYU</td>\n",
              "      <td>0000032034</td>\n",
              "      <td>L. Huynh</td>\n",
              "      <td>I used this skirt for a Halloween costume and ...</td>\n",
              "      <td>I liked that the elastic waist didn't dig in (...</td>\n",
              "      <td>1419292800</td>\n",
              "      <td>NaN</td>\n",
              "      <td>NaN</td>\n",
              "      <td>NaN</td>\n",
              "    </tr>\n",
              "    <tr>\n",
              "      <th>4</th>\n",
              "      <td>4.0</td>\n",
              "      <td>True</td>\n",
              "      <td>12 15, 2014</td>\n",
              "      <td>A22L28G8NRNLLN</td>\n",
              "      <td>0000032034</td>\n",
              "      <td>McKenna</td>\n",
              "      <td>This is thick enough that you can't see throug...</td>\n",
              "      <td>This is thick enough that you can't see throug...</td>\n",
              "      <td>1418601600</td>\n",
              "      <td>NaN</td>\n",
              "      <td>NaN</td>\n",
              "      <td>NaN</td>\n",
              "    </tr>\n",
              "  </tbody>\n",
              "</table>\n",
              "</div>"
            ],
            "text/plain": [
              "   overall  verified   reviewTime  ... style vote image\n",
              "0      5.0      True   06 3, 2015  ...   NaN  NaN   NaN\n",
              "1      1.0      True   04 1, 2015  ...   NaN  NaN   NaN\n",
              "2      5.0      True  01 13, 2015  ...   NaN  NaN   NaN\n",
              "3      5.0      True  12 23, 2014  ...   NaN  NaN   NaN\n",
              "4      4.0      True  12 15, 2014  ...   NaN  NaN   NaN\n",
              "\n",
              "[5 rows x 12 columns]"
            ]
          },
          "metadata": {
            "tags": []
          },
          "execution_count": 21
        }
      ]
    },
    {
      "cell_type": "code",
      "metadata": {
        "id": "LgWrDtZ94w89",
        "colab_type": "code",
        "outputId": "566bac17-432d-45e2-963a-7dfd0ade33a4",
        "colab": {
          "base_uri": "https://localhost:8080/",
          "height": 204
        }
      },
      "source": [
        "### I need only overall and reviewText columns for the purpose of my thesis. \n",
        "\n",
        "df_save = df[[\"overall\",\"reviewText\"]] \n",
        "df_save.head()"
      ],
      "execution_count": 11,
      "outputs": [
        {
          "output_type": "execute_result",
          "data": {
            "text/html": [
              "<div>\n",
              "<style scoped>\n",
              "    .dataframe tbody tr th:only-of-type {\n",
              "        vertical-align: middle;\n",
              "    }\n",
              "\n",
              "    .dataframe tbody tr th {\n",
              "        vertical-align: top;\n",
              "    }\n",
              "\n",
              "    .dataframe thead th {\n",
              "        text-align: right;\n",
              "    }\n",
              "</style>\n",
              "<table border=\"1\" class=\"dataframe\">\n",
              "  <thead>\n",
              "    <tr style=\"text-align: right;\">\n",
              "      <th></th>\n",
              "      <th>overall</th>\n",
              "      <th>reviewText</th>\n",
              "    </tr>\n",
              "  </thead>\n",
              "  <tbody>\n",
              "    <tr>\n",
              "      <th>0</th>\n",
              "      <td>5.0</td>\n",
              "      <td>What a spectacular tutu! Very slimming.</td>\n",
              "    </tr>\n",
              "    <tr>\n",
              "      <th>1</th>\n",
              "      <td>1.0</td>\n",
              "      <td>What the heck? Is this a tutu for nuns? I know...</td>\n",
              "    </tr>\n",
              "    <tr>\n",
              "      <th>2</th>\n",
              "      <td>5.0</td>\n",
              "      <td>Exactly what we were looking for!</td>\n",
              "    </tr>\n",
              "    <tr>\n",
              "      <th>3</th>\n",
              "      <td>5.0</td>\n",
              "      <td>I used this skirt for a Halloween costume and ...</td>\n",
              "    </tr>\n",
              "    <tr>\n",
              "      <th>4</th>\n",
              "      <td>4.0</td>\n",
              "      <td>This is thick enough that you can't see throug...</td>\n",
              "    </tr>\n",
              "  </tbody>\n",
              "</table>\n",
              "</div>"
            ],
            "text/plain": [
              "   overall                                         reviewText\n",
              "0      5.0            What a spectacular tutu! Very slimming.\n",
              "1      1.0  What the heck? Is this a tutu for nuns? I know...\n",
              "2      5.0                  Exactly what we were looking for!\n",
              "3      5.0  I used this skirt for a Halloween costume and ...\n",
              "4      4.0  This is thick enough that you can't see throug..."
            ]
          },
          "metadata": {
            "tags": []
          },
          "execution_count": 11
        }
      ]
    },
    {
      "cell_type": "code",
      "metadata": {
        "id": "p1LLE40N4Yxx",
        "colab_type": "code",
        "colab": {}
      },
      "source": [
        "# save the raw data\n",
        "df_save.to_csv(\"raw_data.csv\", header=True, index =False)"
      ],
      "execution_count": 0,
      "outputs": []
    },
    {
      "cell_type": "code",
      "metadata": {
        "id": "2Px-SC2k5NCT",
        "colab_type": "code",
        "colab": {
          "base_uri": "https://localhost:8080/",
          "height": 71
        },
        "outputId": "23f4ab35-9bdb-44b6-84f7-3d9e71d9a7cf"
      },
      "source": [
        "df_new = pd.read_csv(\"raw_data.csv\",index_col = 0)"
      ],
      "execution_count": 17,
      "outputs": [
        {
          "output_type": "stream",
          "text": [
            "/usr/local/lib/python3.6/dist-packages/numpy/lib/arraysetops.py:569: FutureWarning: elementwise comparison failed; returning scalar instead, but in the future will perform elementwise comparison\n",
            "  mask |= (ar1 == a)\n"
          ],
          "name": "stderr"
        }
      ]
    },
    {
      "cell_type": "code",
      "metadata": {
        "id": "KyScyG4H5-ck",
        "colab_type": "code",
        "colab": {
          "base_uri": "https://localhost:8080/",
          "height": 204
        },
        "outputId": "892cf00f-ddb6-403e-a809-84aa82474b06"
      },
      "source": [
        "df_new.head()"
      ],
      "execution_count": 18,
      "outputs": [
        {
          "output_type": "execute_result",
          "data": {
            "text/html": [
              "<div>\n",
              "<style scoped>\n",
              "    .dataframe tbody tr th:only-of-type {\n",
              "        vertical-align: middle;\n",
              "    }\n",
              "\n",
              "    .dataframe tbody tr th {\n",
              "        vertical-align: top;\n",
              "    }\n",
              "\n",
              "    .dataframe thead th {\n",
              "        text-align: right;\n",
              "    }\n",
              "</style>\n",
              "<table border=\"1\" class=\"dataframe\">\n",
              "  <thead>\n",
              "    <tr style=\"text-align: right;\">\n",
              "      <th></th>\n",
              "      <th>overall</th>\n",
              "      <th>reviewText</th>\n",
              "    </tr>\n",
              "  </thead>\n",
              "  <tbody>\n",
              "    <tr>\n",
              "      <th>0</th>\n",
              "      <td>5.0</td>\n",
              "      <td>What a spectacular tutu! Very slimming.</td>\n",
              "    </tr>\n",
              "    <tr>\n",
              "      <th>1</th>\n",
              "      <td>1.0</td>\n",
              "      <td>What the heck? Is this a tutu for nuns? I know...</td>\n",
              "    </tr>\n",
              "    <tr>\n",
              "      <th>2</th>\n",
              "      <td>5.0</td>\n",
              "      <td>Exactly what we were looking for!</td>\n",
              "    </tr>\n",
              "    <tr>\n",
              "      <th>3</th>\n",
              "      <td>5.0</td>\n",
              "      <td>I used this skirt for a Halloween costume and ...</td>\n",
              "    </tr>\n",
              "    <tr>\n",
              "      <th>4</th>\n",
              "      <td>4.0</td>\n",
              "      <td>This is thick enough that you can't see throug...</td>\n",
              "    </tr>\n",
              "  </tbody>\n",
              "</table>\n",
              "</div>"
            ],
            "text/plain": [
              "   overall                                         reviewText\n",
              "0      5.0            What a spectacular tutu! Very slimming.\n",
              "1      1.0  What the heck? Is this a tutu for nuns? I know...\n",
              "2      5.0                  Exactly what we were looking for!\n",
              "3      5.0  I used this skirt for a Halloween costume and ...\n",
              "4      4.0  This is thick enough that you can't see throug..."
            ]
          },
          "metadata": {
            "tags": []
          },
          "execution_count": 18
        }
      ]
    },
    {
      "cell_type": "code",
      "metadata": {
        "id": "fqMMopaN6Cy7",
        "colab_type": "code",
        "colab": {
          "base_uri": "https://localhost:8080/",
          "height": 235
        },
        "outputId": "fa73698e-b20a-48a0-e634-56324b7357c5"
      },
      "source": [
        "# for each rating the quantity of reviews\n",
        "df_new.groupby(\"overall\").count()"
      ],
      "execution_count": 20,
      "outputs": [
        {
          "output_type": "execute_result",
          "data": {
            "text/html": [
              "<div>\n",
              "<style scoped>\n",
              "    .dataframe tbody tr th:only-of-type {\n",
              "        vertical-align: middle;\n",
              "    }\n",
              "\n",
              "    .dataframe tbody tr th {\n",
              "        vertical-align: top;\n",
              "    }\n",
              "\n",
              "    .dataframe thead th {\n",
              "        text-align: right;\n",
              "    }\n",
              "</style>\n",
              "<table border=\"1\" class=\"dataframe\">\n",
              "  <thead>\n",
              "    <tr style=\"text-align: right;\">\n",
              "      <th></th>\n",
              "      <th>reviewText</th>\n",
              "    </tr>\n",
              "    <tr>\n",
              "      <th>overall</th>\n",
              "      <th></th>\n",
              "    </tr>\n",
              "  </thead>\n",
              "  <tbody>\n",
              "    <tr>\n",
              "      <th>1.0</th>\n",
              "      <td>111129</td>\n",
              "    </tr>\n",
              "    <tr>\n",
              "      <th>2.0</th>\n",
              "      <td>101629</td>\n",
              "    </tr>\n",
              "    <tr>\n",
              "      <th>3.0</th>\n",
              "      <td>210179</td>\n",
              "    </tr>\n",
              "    <tr>\n",
              "      <th>4.0</th>\n",
              "      <td>495399</td>\n",
              "    </tr>\n",
              "    <tr>\n",
              "      <th>5.0</th>\n",
              "      <td>1920488</td>\n",
              "    </tr>\n",
              "  </tbody>\n",
              "</table>\n",
              "</div>"
            ],
            "text/plain": [
              "         reviewText\n",
              "overall            \n",
              "1.0          111129\n",
              "2.0          101629\n",
              "3.0          210179\n",
              "4.0          495399\n",
              "5.0         1920488"
            ]
          },
          "metadata": {
            "tags": []
          },
          "execution_count": 20
        }
      ]
    },
    {
      "cell_type": "markdown",
      "metadata": {
        "id": "ZO__A0iM99BL",
        "colab_type": "text"
      },
      "source": [
        "I randomly sample for each rating the same amount review to ensure the balance distribution of each class.   \n",
        "For each class **50,000** reviews. "
      ]
    },
    {
      "cell_type": "code",
      "metadata": {
        "id": "eEm5WggOKcYs",
        "colab_type": "code",
        "colab": {
          "base_uri": "https://localhost:8080/",
          "height": 68
        },
        "outputId": "eb78819f-9874-45bd-9272-b7ed9d9954ce"
      },
      "source": [
        "# check the missing values\n",
        "df_new.isnull().sum()"
      ],
      "execution_count": 24,
      "outputs": [
        {
          "output_type": "execute_result",
          "data": {
            "text/plain": [
              "overall          0\n",
              "reviewText    1116\n",
              "dtype: int64"
            ]
          },
          "metadata": {
            "tags": []
          },
          "execution_count": 24
        }
      ]
    },
    {
      "cell_type": "code",
      "metadata": {
        "id": "guimigrXKSAf",
        "colab_type": "code",
        "colab": {}
      },
      "source": [
        "# delete any missing values if there is \n",
        "df_new = df_new.dropna()"
      ],
      "execution_count": 0,
      "outputs": []
    },
    {
      "cell_type": "code",
      "metadata": {
        "id": "gnn01sJgKFKB",
        "colab_type": "code",
        "colab": {
          "base_uri": "https://localhost:8080/",
          "height": 419
        },
        "outputId": "8bfa1253-c1cf-4223-b7b7-c90ab367b9f1"
      },
      "source": [
        "df_new[df_new['overall']==1.0].sample(n= 50000, random_state=42)"
      ],
      "execution_count": 28,
      "outputs": [
        {
          "output_type": "execute_result",
          "data": {
            "text/html": [
              "<div>\n",
              "<style scoped>\n",
              "    .dataframe tbody tr th:only-of-type {\n",
              "        vertical-align: middle;\n",
              "    }\n",
              "\n",
              "    .dataframe tbody tr th {\n",
              "        vertical-align: top;\n",
              "    }\n",
              "\n",
              "    .dataframe thead th {\n",
              "        text-align: right;\n",
              "    }\n",
              "</style>\n",
              "<table border=\"1\" class=\"dataframe\">\n",
              "  <thead>\n",
              "    <tr style=\"text-align: right;\">\n",
              "      <th></th>\n",
              "      <th>overall</th>\n",
              "      <th>reviewText</th>\n",
              "    </tr>\n",
              "  </thead>\n",
              "  <tbody>\n",
              "    <tr>\n",
              "      <th>256105</th>\n",
              "      <td>1.0</td>\n",
              "      <td>Junk, spend a few more bucks if your in the ma...</td>\n",
              "    </tr>\n",
              "    <tr>\n",
              "      <th>375776</th>\n",
              "      <td>1.0</td>\n",
              "      <td>The first time I extended this to grab a ball ...</td>\n",
              "    </tr>\n",
              "    <tr>\n",
              "      <th>1424104</th>\n",
              "      <td>1.0</td>\n",
              "      <td>Piece of crap! Don't buy! It hardly works for ...</td>\n",
              "    </tr>\n",
              "    <tr>\n",
              "      <th>1054248</th>\n",
              "      <td>1.0</td>\n",
              "      <td>This pack is only MOLLE compatible with other ...</td>\n",
              "    </tr>\n",
              "    <tr>\n",
              "      <th>2624287</th>\n",
              "      <td>1.0</td>\n",
              "      <td>Mag needs refilled after each run</td>\n",
              "    </tr>\n",
              "    <tr>\n",
              "      <th>...</th>\n",
              "      <td>...</td>\n",
              "      <td>...</td>\n",
              "    </tr>\n",
              "    <tr>\n",
              "      <th>667009</th>\n",
              "      <td>1.0</td>\n",
              "      <td>The first time I pulled on the velcro strap to...</td>\n",
              "    </tr>\n",
              "    <tr>\n",
              "      <th>1908669</th>\n",
              "      <td>1.0</td>\n",
              "      <td>returned those immediately - very cheaply made...</td>\n",
              "    </tr>\n",
              "    <tr>\n",
              "      <th>2782375</th>\n",
              "      <td>1.0</td>\n",
              "      <td>Returned</td>\n",
              "    </tr>\n",
              "    <tr>\n",
              "      <th>2512600</th>\n",
              "      <td>1.0</td>\n",
              "      <td>Screwdriver broke apart at first screw from ki...</td>\n",
              "    </tr>\n",
              "    <tr>\n",
              "      <th>371862</th>\n",
              "      <td>1.0</td>\n",
              "      <td>Doesn't work on my swim goggles. Bought the th...</td>\n",
              "    </tr>\n",
              "  </tbody>\n",
              "</table>\n",
              "<p>50000 rows × 2 columns</p>\n",
              "</div>"
            ],
            "text/plain": [
              "         overall                                         reviewText\n",
              "256105       1.0  Junk, spend a few more bucks if your in the ma...\n",
              "375776       1.0  The first time I extended this to grab a ball ...\n",
              "1424104      1.0  Piece of crap! Don't buy! It hardly works for ...\n",
              "1054248      1.0  This pack is only MOLLE compatible with other ...\n",
              "2624287      1.0                  Mag needs refilled after each run\n",
              "...          ...                                                ...\n",
              "667009       1.0  The first time I pulled on the velcro strap to...\n",
              "1908669      1.0  returned those immediately - very cheaply made...\n",
              "2782375      1.0                                           Returned\n",
              "2512600      1.0  Screwdriver broke apart at first screw from ki...\n",
              "371862       1.0  Doesn't work on my swim goggles. Bought the th...\n",
              "\n",
              "[50000 rows x 2 columns]"
            ]
          },
          "metadata": {
            "tags": []
          },
          "execution_count": 28
        }
      ]
    },
    {
      "cell_type": "code",
      "metadata": {
        "id": "dvPzPLuo6Xuk",
        "colab_type": "code",
        "colab": {}
      },
      "source": [
        "# create a custom function to make a small and same distributed sample\n",
        "def make_sample(data, number=50000):\n",
        "  small_sample_1 = data[data['overall']==1.0].sample(n= number, random_state=42)\n",
        "  for i in [2.0, 3.0, 4.0, 5.0]:\n",
        "    small_sample_i = data[data['overall']==i].sample(n= number, random_state=42)\n",
        "    total_sample = pd.concat([small_sample_1, small_sample_i])\n",
        "    small_sample_1 = total_sample\n",
        "  return total_sample\n",
        "  "
      ],
      "execution_count": 0,
      "outputs": []
    },
    {
      "cell_type": "code",
      "metadata": {
        "id": "4NtcALiqLhDW",
        "colab_type": "code",
        "colab": {}
      },
      "source": [
        "# write to a csv file for later use\n",
        "total_sample=make_sample(df_new, number=50000)\n"
      ],
      "execution_count": 0,
      "outputs": []
    },
    {
      "cell_type": "code",
      "metadata": {
        "id": "ORA489ydL7u6",
        "colab_type": "code",
        "colab": {
          "base_uri": "https://localhost:8080/",
          "height": 235
        },
        "outputId": "a1cbb6db-b02b-454b-c131-fe5b515aa701"
      },
      "source": [
        "total_sample.groupby('overall').count()"
      ],
      "execution_count": 35,
      "outputs": [
        {
          "output_type": "execute_result",
          "data": {
            "text/html": [
              "<div>\n",
              "<style scoped>\n",
              "    .dataframe tbody tr th:only-of-type {\n",
              "        vertical-align: middle;\n",
              "    }\n",
              "\n",
              "    .dataframe tbody tr th {\n",
              "        vertical-align: top;\n",
              "    }\n",
              "\n",
              "    .dataframe thead th {\n",
              "        text-align: right;\n",
              "    }\n",
              "</style>\n",
              "<table border=\"1\" class=\"dataframe\">\n",
              "  <thead>\n",
              "    <tr style=\"text-align: right;\">\n",
              "      <th></th>\n",
              "      <th>reviewText</th>\n",
              "    </tr>\n",
              "    <tr>\n",
              "      <th>overall</th>\n",
              "      <th></th>\n",
              "    </tr>\n",
              "  </thead>\n",
              "  <tbody>\n",
              "    <tr>\n",
              "      <th>1.0</th>\n",
              "      <td>50000</td>\n",
              "    </tr>\n",
              "    <tr>\n",
              "      <th>2.0</th>\n",
              "      <td>50000</td>\n",
              "    </tr>\n",
              "    <tr>\n",
              "      <th>3.0</th>\n",
              "      <td>50000</td>\n",
              "    </tr>\n",
              "    <tr>\n",
              "      <th>4.0</th>\n",
              "      <td>50000</td>\n",
              "    </tr>\n",
              "    <tr>\n",
              "      <th>5.0</th>\n",
              "      <td>50000</td>\n",
              "    </tr>\n",
              "  </tbody>\n",
              "</table>\n",
              "</div>"
            ],
            "text/plain": [
              "         reviewText\n",
              "overall            \n",
              "1.0           50000\n",
              "2.0           50000\n",
              "3.0           50000\n",
              "4.0           50000\n",
              "5.0           50000"
            ]
          },
          "metadata": {
            "tags": []
          },
          "execution_count": 35
        }
      ]
    },
    {
      "cell_type": "code",
      "metadata": {
        "id": "5c9WsmgEL2RK",
        "colab_type": "code",
        "colab": {}
      },
      "source": [
        "total_sample.to_csv('full_classes_reviews', header=True, index =False)"
      ],
      "execution_count": 0,
      "outputs": []
    },
    {
      "cell_type": "code",
      "metadata": {
        "id": "YL29ih7kMZps",
        "colab_type": "code",
        "colab": {
          "base_uri": "https://localhost:8080/",
          "height": 204
        },
        "outputId": "1d27ec4f-24e2-4925-9308-229f547ca477"
      },
      "source": [
        "total_sample.head()"
      ],
      "execution_count": 37,
      "outputs": [
        {
          "output_type": "execute_result",
          "data": {
            "text/html": [
              "<div>\n",
              "<style scoped>\n",
              "    .dataframe tbody tr th:only-of-type {\n",
              "        vertical-align: middle;\n",
              "    }\n",
              "\n",
              "    .dataframe tbody tr th {\n",
              "        vertical-align: top;\n",
              "    }\n",
              "\n",
              "    .dataframe thead th {\n",
              "        text-align: right;\n",
              "    }\n",
              "</style>\n",
              "<table border=\"1\" class=\"dataframe\">\n",
              "  <thead>\n",
              "    <tr style=\"text-align: right;\">\n",
              "      <th></th>\n",
              "      <th>overall</th>\n",
              "      <th>reviewText</th>\n",
              "    </tr>\n",
              "  </thead>\n",
              "  <tbody>\n",
              "    <tr>\n",
              "      <th>256105</th>\n",
              "      <td>1.0</td>\n",
              "      <td>Junk, spend a few more bucks if your in the ma...</td>\n",
              "    </tr>\n",
              "    <tr>\n",
              "      <th>375776</th>\n",
              "      <td>1.0</td>\n",
              "      <td>The first time I extended this to grab a ball ...</td>\n",
              "    </tr>\n",
              "    <tr>\n",
              "      <th>1424104</th>\n",
              "      <td>1.0</td>\n",
              "      <td>Piece of crap! Don't buy! It hardly works for ...</td>\n",
              "    </tr>\n",
              "    <tr>\n",
              "      <th>1054248</th>\n",
              "      <td>1.0</td>\n",
              "      <td>This pack is only MOLLE compatible with other ...</td>\n",
              "    </tr>\n",
              "    <tr>\n",
              "      <th>2624287</th>\n",
              "      <td>1.0</td>\n",
              "      <td>Mag needs refilled after each run</td>\n",
              "    </tr>\n",
              "  </tbody>\n",
              "</table>\n",
              "</div>"
            ],
            "text/plain": [
              "         overall                                         reviewText\n",
              "256105       1.0  Junk, spend a few more bucks if your in the ma...\n",
              "375776       1.0  The first time I extended this to grab a ball ...\n",
              "1424104      1.0  Piece of crap! Don't buy! It hardly works for ...\n",
              "1054248      1.0  This pack is only MOLLE compatible with other ...\n",
              "2624287      1.0                  Mag needs refilled after each run"
            ]
          },
          "metadata": {
            "tags": []
          },
          "execution_count": 37
        }
      ]
    },
    {
      "cell_type": "markdown",
      "metadata": {
        "id": "WOeEms9TMbdw",
        "colab_type": "text"
      },
      "source": [
        "### Sentiment analysis: Either positive or negative. \n",
        "- Rate 4 and 5 are positive  \n",
        "- Rate 1 and 2 are negative  \n",
        "- Rate 3 are neural and be ignored in polarity detection test  \n",
        "I prepare the data for the polarity task."
      ]
    },
    {
      "cell_type": "code",
      "metadata": {
        "id": "hOdl7ob-MzUL",
        "colab_type": "code",
        "colab": {}
      },
      "source": [
        "# remove the reviews with overall equal to 3\n",
        "df_polarity = total_sample[~(total_sample[\"overall\"]==3.0)]"
      ],
      "execution_count": 0,
      "outputs": []
    },
    {
      "cell_type": "code",
      "metadata": {
        "id": "ofVoYT5aN9R9",
        "colab_type": "code",
        "colab": {
          "base_uri": "https://localhost:8080/",
          "height": 139
        },
        "outputId": "bbb77e05-6195-4781-c8d5-8ba6068e0211"
      },
      "source": [
        "# replace the negative 1 and 2 stars to be 0, positive 4 and 5 to be 1. \n",
        "df_polarity['overall'] = df_polarity['overall'].map({1.0:0,2.0:0,4.0:1,5.0:1})"
      ],
      "execution_count": 54,
      "outputs": [
        {
          "output_type": "stream",
          "text": [
            "/usr/local/lib/python3.6/dist-packages/ipykernel_launcher.py:1: SettingWithCopyWarning: \n",
            "A value is trying to be set on a copy of a slice from a DataFrame.\n",
            "Try using .loc[row_indexer,col_indexer] = value instead\n",
            "\n",
            "See the caveats in the documentation: https://pandas.pydata.org/pandas-docs/stable/user_guide/indexing.html#returning-a-view-versus-a-copy\n",
            "  \"\"\"Entry point for launching an IPython kernel.\n"
          ],
          "name": "stderr"
        }
      ]
    },
    {
      "cell_type": "code",
      "metadata": {
        "id": "n51c3IdMPmOJ",
        "colab_type": "code",
        "colab": {
          "base_uri": "https://localhost:8080/",
          "height": 142
        },
        "outputId": "7b27a5cd-a65e-4b49-eec1-30aababd7dd3"
      },
      "source": [
        "df_polarity.groupby('overall').count()"
      ],
      "execution_count": 57,
      "outputs": [
        {
          "output_type": "execute_result",
          "data": {
            "text/html": [
              "<div>\n",
              "<style scoped>\n",
              "    .dataframe tbody tr th:only-of-type {\n",
              "        vertical-align: middle;\n",
              "    }\n",
              "\n",
              "    .dataframe tbody tr th {\n",
              "        vertical-align: top;\n",
              "    }\n",
              "\n",
              "    .dataframe thead th {\n",
              "        text-align: right;\n",
              "    }\n",
              "</style>\n",
              "<table border=\"1\" class=\"dataframe\">\n",
              "  <thead>\n",
              "    <tr style=\"text-align: right;\">\n",
              "      <th></th>\n",
              "      <th>reviewText</th>\n",
              "    </tr>\n",
              "    <tr>\n",
              "      <th>overall</th>\n",
              "      <th></th>\n",
              "    </tr>\n",
              "  </thead>\n",
              "  <tbody>\n",
              "    <tr>\n",
              "      <th>0</th>\n",
              "      <td>100000</td>\n",
              "    </tr>\n",
              "    <tr>\n",
              "      <th>1</th>\n",
              "      <td>100000</td>\n",
              "    </tr>\n",
              "  </tbody>\n",
              "</table>\n",
              "</div>"
            ],
            "text/plain": [
              "         reviewText\n",
              "overall            \n",
              "0            100000\n",
              "1            100000"
            ]
          },
          "metadata": {
            "tags": []
          },
          "execution_count": 57
        }
      ]
    },
    {
      "cell_type": "code",
      "metadata": {
        "id": "Vx0LYBz2Q6Kt",
        "colab_type": "code",
        "colab": {}
      },
      "source": [
        "df_polarity.to_csv(\"polarity_reviews.csv\",header=True, index =False)"
      ],
      "execution_count": 0,
      "outputs": []
    },
    {
      "cell_type": "code",
      "metadata": {
        "id": "qVYE7m9BRYnu",
        "colab_type": "code",
        "colab": {}
      },
      "source": [
        "#df_polarity_1 = pd.read_csv(\"polarity_reviews.csv\")"
      ],
      "execution_count": 0,
      "outputs": []
    },
    {
      "cell_type": "code",
      "metadata": {
        "id": "Ng-gACQYRhaR",
        "colab_type": "code",
        "colab": {
          "base_uri": "https://localhost:8080/",
          "height": 204
        },
        "outputId": "bb65ff9f-3fda-4fcb-b838-58163295d705"
      },
      "source": [
        ""
      ],
      "execution_count": 61,
      "outputs": [
        {
          "output_type": "execute_result",
          "data": {
            "text/html": [
              "<div>\n",
              "<style scoped>\n",
              "    .dataframe tbody tr th:only-of-type {\n",
              "        vertical-align: middle;\n",
              "    }\n",
              "\n",
              "    .dataframe tbody tr th {\n",
              "        vertical-align: top;\n",
              "    }\n",
              "\n",
              "    .dataframe thead th {\n",
              "        text-align: right;\n",
              "    }\n",
              "</style>\n",
              "<table border=\"1\" class=\"dataframe\">\n",
              "  <thead>\n",
              "    <tr style=\"text-align: right;\">\n",
              "      <th></th>\n",
              "      <th>overall</th>\n",
              "      <th>reviewText</th>\n",
              "    </tr>\n",
              "  </thead>\n",
              "  <tbody>\n",
              "    <tr>\n",
              "      <th>0</th>\n",
              "      <td>0</td>\n",
              "      <td>Junk, spend a few more bucks if your in the ma...</td>\n",
              "    </tr>\n",
              "    <tr>\n",
              "      <th>1</th>\n",
              "      <td>0</td>\n",
              "      <td>The first time I extended this to grab a ball ...</td>\n",
              "    </tr>\n",
              "    <tr>\n",
              "      <th>2</th>\n",
              "      <td>0</td>\n",
              "      <td>Piece of crap! Don't buy! It hardly works for ...</td>\n",
              "    </tr>\n",
              "    <tr>\n",
              "      <th>3</th>\n",
              "      <td>0</td>\n",
              "      <td>This pack is only MOLLE compatible with other ...</td>\n",
              "    </tr>\n",
              "    <tr>\n",
              "      <th>4</th>\n",
              "      <td>0</td>\n",
              "      <td>Mag needs refilled after each run</td>\n",
              "    </tr>\n",
              "  </tbody>\n",
              "</table>\n",
              "</div>"
            ],
            "text/plain": [
              "   overall                                         reviewText\n",
              "0        0  Junk, spend a few more bucks if your in the ma...\n",
              "1        0  The first time I extended this to grab a ball ...\n",
              "2        0  Piece of crap! Don't buy! It hardly works for ...\n",
              "3        0  This pack is only MOLLE compatible with other ...\n",
              "4        0                  Mag needs refilled after each run"
            ]
          },
          "metadata": {
            "tags": []
          },
          "execution_count": 61
        }
      ]
    },
    {
      "cell_type": "code",
      "metadata": {
        "id": "TM46FCT7RkLv",
        "colab_type": "code",
        "colab": {}
      },
      "source": [
        ""
      ],
      "execution_count": 0,
      "outputs": []
    }
  ]
}